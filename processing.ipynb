{
 "cells": [
  {
   "cell_type": "code",
   "execution_count": 447,
   "metadata": {},
   "outputs": [],
   "source": [
    "import pandas as pd\n",
    "import numpy as np\n",
    "\n",
    "# Visualisation\n",
    "import seaborn as sns\n",
    "import matplotlib.pyplot as plt\n",
    "import plotly.express as px\n",
    "import matplotlib.image as mpimg\n",
    "\n",
    "# Préparation des données\n",
    "from sklearn import preprocessing\n",
    "from sklearn.preprocessing import LabelEncoder\n",
    "from sklearn.preprocessing import OneHotEncoder\n",
    "from sklearn.model_selection import train_test_split\n",
    "\n",
    "# Modèles\n",
    "from sklearn.linear_model import LinearRegression\n",
    "import statsmodels.api as sm\n",
    "from sklearn.linear_model import ElasticNet\n",
    "from sklearn.ensemble import RandomForestRegressor\n",
    "import keras\n",
    "from keras.models import Sequential\n",
    "from keras.layers import Dense\n",
    "from keras.wrappers.scikit_learn import KerasRegressor\n",
    "import eli5\n",
    "from eli5.sklearn import PermutationImportance\n",
    "from sklearn.decomposition import PCA\n",
    "from sklearn.cluster import KMeans\n",
    "\n",
    "from sklearn.metrics import mean_squared_error\n",
    "from sklearn.inspection import permutation_importance\n",
    "\n",
    "# Option d'affchage\n",
    "pd.set_option('display.max_columns', None)"
   ]
  },
  {
   "cell_type": "code",
   "execution_count": 448,
   "metadata": {},
   "outputs": [
    {
     "name": "stderr",
     "output_type": "stream",
     "text": [
      "/Users/lilian/opt/anaconda3/lib/python3.8/site-packages/IPython/core/interactiveshell.py:3146: DtypeWarning:\n",
      "\n",
      "Columns (13,32) have mixed types.Specify dtype option on import or set low_memory=False.\n",
      "\n"
     ]
    }
   ],
   "source": [
    "df = pd.read_csv('/Users/lilian/Desktop/hackathon2021/data/train.csv')"
   ]
  },
  {
   "cell_type": "code",
   "execution_count": 449,
   "metadata": {},
   "outputs": [],
   "source": [
    "#mise au bon format des dates\n",
    "col_date = ['date', 'items_first_enabled_date', 'store_last_saving_date', 'store_first_saving_date',\\\n",
    "            'pickup_start', 'pickup_end']\n",
    "for col in col_date :\n",
    "    df[col]= pd.to_datetime(df[col])\n",
    "df.drop(columns=['store_country', 'country_iso_code', 'region_id', 'currency_code'], inplace = True)\n",
    "#redondant ou la même valeur pour tout le dataframe\n",
    "df.drop(columns=['item_id', 'manual_added_supply','manual_removed_supply','meals_saved', \\\n",
    " 'no_unique_consumers', 'sum_rating_overall', 'rating_count'], inplace= True)\n",
    "# corrélé à au dessus de 0.75\n",
    "df.drop(columns=['item_name'], inplace = True) # plus de 84% de valeurs manquantes"
   ]
  },
  {
   "cell_type": "code",
   "execution_count": 450,
   "metadata": {},
   "outputs": [],
   "source": [
    "df_store = df.drop_duplicates(subset='store_id', keep=\"first\")\n",
    "df_store.reset_index(inplace= True, drop = True)\n",
    "df_store = df_store[['store_id', 'parent_chain_id', 'store_region', 'store_segment', 'store_activity_name', \\\n",
    "                    'store_first_saving_date', 'store_last_saving_date']]\n",
    "# create lifetime column\n",
    "df_store['lifetime'] = df_store['store_last_saving_date'] - df_store['store_first_saving_date']\n",
    "no_target_hit = list(df.groupby(by=['store_id']).sum()['target'])\n",
    "df_store['no_target_hit'] = no_target_hit\n",
    "df_store['proportion_of_target_hit'] = \\\n",
    "list(df_store['no_target_hit']/pd.to_timedelta(df_store.lifetime, errors='coerce').dt.days)\n",
    "df_store['no_meals_refunded'] = list(df.groupby(by=['store_id']).sum()['meals_refunded'])\n",
    "df_store['no_store_cancellation'] = list(df.groupby(by=['store_id']).sum()['store_cancellation'])\n",
    "df_store['no_consumer_cancellation'] = list(df.groupby(by=['store_id']).sum()['consumer_cancellation'])"
   ]
  },
  {
   "cell_type": "code",
   "execution_count": 451,
   "metadata": {},
   "outputs": [],
   "source": [
    "df_store = df.drop_duplicates(subset='store_id', keep=\"first\")\n",
    "df_store.reset_index(inplace= True, drop = True)\n",
    "df_store = df_store[['store_id', 'parent_chain_id', 'store_region', 'store_segment', 'store_activity_name', \\\n",
    "                    'store_first_saving_date', 'store_last_saving_date']]\n",
    "presence = df['store_id'].value_counts()\n",
    "occurence = presence.to_frame(name = 'occurence')\n",
    "occurence['store_id'] = occurence.index\n",
    "\n",
    " \n",
    "\n",
    "df_store = df_store.merge(occurence, how='inner', on='store_id')\n",
    "\n",
    " \n",
    "\n",
    "# create lifetime column\n",
    "df_store['lifetime'] = df_store['store_last_saving_date'] - df_store['store_first_saving_date']\n",
    "df_store['lifetime'] = df_store['lifetime'].dt.days\n",
    "\n",
    " \n",
    "\n",
    "no_target_hit = list(df.groupby(by=['store_id']).sum()['target'])\n",
    "df_store['no_target_hit'] = no_target_hit\n",
    "\n",
    " \n",
    "\n",
    "df_store['no_meals_refunded'] = list(df.groupby(by=['store_id']).sum()['meals_refunded'])\n",
    "df_store['no_store_cancellation'] = list(df.groupby(by=['store_id']).sum()['store_cancellation'])\n",
    "df_store['no_consumer_cancellation'] = list(df.groupby(by=['store_id']).sum()['consumer_cancellation'])\n",
    "\n",
    " \n",
    "\n",
    "df_store['proportion_of_target_hit'] = df_store['no_target_hit']/ df_store['occurence']\n",
    "\n",
    " \n",
    "\n",
    "df_worst = df_store[df_store['proportion_of_target_hit'] >= 0.5]\n",
    "df_store['worst'] = df_store['store_id'].isin(list(df_worst['store_id']))"
   ]
  },
  {
   "cell_type": "code",
   "execution_count": 452,
   "metadata": {},
   "outputs": [
    {
     "data": {
      "text/html": [
       "<div>\n",
       "<style scoped>\n",
       "    .dataframe tbody tr th:only-of-type {\n",
       "        vertical-align: middle;\n",
       "    }\n",
       "\n",
       "    .dataframe tbody tr th {\n",
       "        vertical-align: top;\n",
       "    }\n",
       "\n",
       "    .dataframe thead th {\n",
       "        text-align: right;\n",
       "    }\n",
       "</style>\n",
       "<table border=\"1\" class=\"dataframe\">\n",
       "  <thead>\n",
       "    <tr style=\"text-align: right;\">\n",
       "      <th></th>\n",
       "      <th>store_id</th>\n",
       "      <th>parent_chain_id</th>\n",
       "      <th>store_region</th>\n",
       "      <th>store_segment</th>\n",
       "      <th>store_activity_name</th>\n",
       "      <th>store_first_saving_date</th>\n",
       "      <th>store_last_saving_date</th>\n",
       "      <th>occurence</th>\n",
       "      <th>lifetime</th>\n",
       "      <th>no_target_hit</th>\n",
       "      <th>no_meals_refunded</th>\n",
       "      <th>no_store_cancellation</th>\n",
       "      <th>no_consumer_cancellation</th>\n",
       "      <th>proportion_of_target_hit</th>\n",
       "      <th>worst</th>\n",
       "    </tr>\n",
       "  </thead>\n",
       "  <tbody>\n",
       "    <tr>\n",
       "      <th>7014</th>\n",
       "      <td>32348</td>\n",
       "      <td>1203.0</td>\n",
       "      <td>Pays De La Loire</td>\n",
       "      <td>Bakery</td>\n",
       "      <td>Commercial</td>\n",
       "      <td>2018-10-15</td>\n",
       "      <td>2020-03-16</td>\n",
       "      <td>486</td>\n",
       "      <td>518.0</td>\n",
       "      <td>14.0</td>\n",
       "      <td>6</td>\n",
       "      <td>0</td>\n",
       "      <td>24</td>\n",
       "      <td>0.028807</td>\n",
       "      <td>False</td>\n",
       "    </tr>\n",
       "    <tr>\n",
       "      <th>15580</th>\n",
       "      <td>55068</td>\n",
       "      <td>3267.0</td>\n",
       "      <td>Lorraine</td>\n",
       "      <td>Buffet</td>\n",
       "      <td>Commercial</td>\n",
       "      <td>2019-12-16</td>\n",
       "      <td>2020-10-29</td>\n",
       "      <td>151</td>\n",
       "      <td>318.0</td>\n",
       "      <td>18.0</td>\n",
       "      <td>0</td>\n",
       "      <td>34</td>\n",
       "      <td>19</td>\n",
       "      <td>0.119205</td>\n",
       "      <td>False</td>\n",
       "    </tr>\n",
       "    <tr>\n",
       "      <th>882</th>\n",
       "      <td>25732</td>\n",
       "      <td>4600.0</td>\n",
       "      <td>Ile-De-France</td>\n",
       "      <td>Fast Food / Take away restaurant</td>\n",
       "      <td>Commercial</td>\n",
       "      <td>2017-12-02</td>\n",
       "      <td>2021-03-12</td>\n",
       "      <td>486</td>\n",
       "      <td>1196.0</td>\n",
       "      <td>18.0</td>\n",
       "      <td>16</td>\n",
       "      <td>218</td>\n",
       "      <td>66</td>\n",
       "      <td>0.037037</td>\n",
       "      <td>False</td>\n",
       "    </tr>\n",
       "    <tr>\n",
       "      <th>5936</th>\n",
       "      <td>31178</td>\n",
       "      <td>NaN</td>\n",
       "      <td>Rhône-Alpes</td>\n",
       "      <td>Bakery</td>\n",
       "      <td>Commercial</td>\n",
       "      <td>2018-07-13</td>\n",
       "      <td>2018-07-21</td>\n",
       "      <td>189</td>\n",
       "      <td>8.0</td>\n",
       "      <td>160.0</td>\n",
       "      <td>0</td>\n",
       "      <td>0</td>\n",
       "      <td>0</td>\n",
       "      <td>0.846561</td>\n",
       "      <td>True</td>\n",
       "    </tr>\n",
       "    <tr>\n",
       "      <th>7992</th>\n",
       "      <td>33484</td>\n",
       "      <td>4987.0</td>\n",
       "      <td>Basse-Normandie</td>\n",
       "      <td>Supermarket Small</td>\n",
       "      <td>Commercial</td>\n",
       "      <td>NaT</td>\n",
       "      <td>NaT</td>\n",
       "      <td>170</td>\n",
       "      <td>NaN</td>\n",
       "      <td>141.0</td>\n",
       "      <td>0</td>\n",
       "      <td>0</td>\n",
       "      <td>0</td>\n",
       "      <td>0.829412</td>\n",
       "      <td>True</td>\n",
       "    </tr>\n",
       "    <tr>\n",
       "      <th>16455</th>\n",
       "      <td>60366</td>\n",
       "      <td>4987.0</td>\n",
       "      <td>Ile-De-France</td>\n",
       "      <td>Supermarket Small</td>\n",
       "      <td>Commercial</td>\n",
       "      <td>2020-01-24</td>\n",
       "      <td>2021-03-15</td>\n",
       "      <td>100</td>\n",
       "      <td>416.0</td>\n",
       "      <td>4.0</td>\n",
       "      <td>3</td>\n",
       "      <td>21</td>\n",
       "      <td>17</td>\n",
       "      <td>0.040000</td>\n",
       "      <td>False</td>\n",
       "    </tr>\n",
       "    <tr>\n",
       "      <th>16299</th>\n",
       "      <td>59364</td>\n",
       "      <td>4987.0</td>\n",
       "      <td>Pays De La Loire</td>\n",
       "      <td>Supermarket Small</td>\n",
       "      <td>Commercial</td>\n",
       "      <td>2020-01-17</td>\n",
       "      <td>2021-03-15</td>\n",
       "      <td>106</td>\n",
       "      <td>423.0</td>\n",
       "      <td>0.0</td>\n",
       "      <td>1</td>\n",
       "      <td>0</td>\n",
       "      <td>0</td>\n",
       "      <td>0.000000</td>\n",
       "      <td>False</td>\n",
       "    </tr>\n",
       "    <tr>\n",
       "      <th>16520</th>\n",
       "      <td>60808</td>\n",
       "      <td>3314.0</td>\n",
       "      <td>Pays De La Loire</td>\n",
       "      <td>Supermarket Big</td>\n",
       "      <td>Commercial</td>\n",
       "      <td>2020-02-03</td>\n",
       "      <td>2021-03-12</td>\n",
       "      <td>111</td>\n",
       "      <td>403.0</td>\n",
       "      <td>11.0</td>\n",
       "      <td>0</td>\n",
       "      <td>3</td>\n",
       "      <td>4</td>\n",
       "      <td>0.099099</td>\n",
       "      <td>False</td>\n",
       "    </tr>\n",
       "    <tr>\n",
       "      <th>4179</th>\n",
       "      <td>29318</td>\n",
       "      <td>NaN</td>\n",
       "      <td>Ile-De-France</td>\n",
       "      <td>Fast Food / Take away restaurant</td>\n",
       "      <td>Unknown</td>\n",
       "      <td>2018-03-12</td>\n",
       "      <td>2021-03-10</td>\n",
       "      <td>486</td>\n",
       "      <td>1094.0</td>\n",
       "      <td>63.0</td>\n",
       "      <td>0</td>\n",
       "      <td>57</td>\n",
       "      <td>12</td>\n",
       "      <td>0.129630</td>\n",
       "      <td>False</td>\n",
       "    </tr>\n",
       "    <tr>\n",
       "      <th>1535</th>\n",
       "      <td>26627</td>\n",
       "      <td>4582.0</td>\n",
       "      <td>Provence-Alpes-Côte D’Azur</td>\n",
       "      <td>Fast Food / Take away restaurant</td>\n",
       "      <td>Commercial</td>\n",
       "      <td>2017-12-02</td>\n",
       "      <td>2021-03-12</td>\n",
       "      <td>486</td>\n",
       "      <td>1196.0</td>\n",
       "      <td>18.0</td>\n",
       "      <td>14</td>\n",
       "      <td>7</td>\n",
       "      <td>42</td>\n",
       "      <td>0.037037</td>\n",
       "      <td>False</td>\n",
       "    </tr>\n",
       "  </tbody>\n",
       "</table>\n",
       "</div>"
      ],
      "text/plain": [
       "       store_id  parent_chain_id                store_region  \\\n",
       "7014      32348           1203.0            Pays De La Loire   \n",
       "15580     55068           3267.0                    Lorraine   \n",
       "882       25732           4600.0               Ile-De-France   \n",
       "5936      31178              NaN                 Rhône-Alpes   \n",
       "7992      33484           4987.0             Basse-Normandie   \n",
       "16455     60366           4987.0               Ile-De-France   \n",
       "16299     59364           4987.0            Pays De La Loire   \n",
       "16520     60808           3314.0            Pays De La Loire   \n",
       "4179      29318              NaN               Ile-De-France   \n",
       "1535      26627           4582.0  Provence-Alpes-Côte D’Azur   \n",
       "\n",
       "                          store_segment store_activity_name  \\\n",
       "7014                             Bakery          Commercial   \n",
       "15580                            Buffet          Commercial   \n",
       "882    Fast Food / Take away restaurant          Commercial   \n",
       "5936                             Bakery          Commercial   \n",
       "7992                  Supermarket Small          Commercial   \n",
       "16455                 Supermarket Small          Commercial   \n",
       "16299                 Supermarket Small          Commercial   \n",
       "16520                   Supermarket Big          Commercial   \n",
       "4179   Fast Food / Take away restaurant             Unknown   \n",
       "1535   Fast Food / Take away restaurant          Commercial   \n",
       "\n",
       "      store_first_saving_date store_last_saving_date  occurence  lifetime  \\\n",
       "7014               2018-10-15             2020-03-16        486     518.0   \n",
       "15580              2019-12-16             2020-10-29        151     318.0   \n",
       "882                2017-12-02             2021-03-12        486    1196.0   \n",
       "5936               2018-07-13             2018-07-21        189       8.0   \n",
       "7992                      NaT                    NaT        170       NaN   \n",
       "16455              2020-01-24             2021-03-15        100     416.0   \n",
       "16299              2020-01-17             2021-03-15        106     423.0   \n",
       "16520              2020-02-03             2021-03-12        111     403.0   \n",
       "4179               2018-03-12             2021-03-10        486    1094.0   \n",
       "1535               2017-12-02             2021-03-12        486    1196.0   \n",
       "\n",
       "       no_target_hit  no_meals_refunded  no_store_cancellation  \\\n",
       "7014            14.0                  6                      0   \n",
       "15580           18.0                  0                     34   \n",
       "882             18.0                 16                    218   \n",
       "5936           160.0                  0                      0   \n",
       "7992           141.0                  0                      0   \n",
       "16455            4.0                  3                     21   \n",
       "16299            0.0                  1                      0   \n",
       "16520           11.0                  0                      3   \n",
       "4179            63.0                  0                     57   \n",
       "1535            18.0                 14                      7   \n",
       "\n",
       "       no_consumer_cancellation  proportion_of_target_hit  worst  \n",
       "7014                         24                  0.028807  False  \n",
       "15580                        19                  0.119205  False  \n",
       "882                          66                  0.037037  False  \n",
       "5936                          0                  0.846561   True  \n",
       "7992                          0                  0.829412   True  \n",
       "16455                        17                  0.040000  False  \n",
       "16299                         0                  0.000000  False  \n",
       "16520                         4                  0.099099  False  \n",
       "4179                         12                  0.129630  False  \n",
       "1535                         42                  0.037037  False  "
      ]
     },
     "execution_count": 452,
     "metadata": {},
     "output_type": "execute_result"
    }
   ],
   "source": [
    "df_store.sample(10)"
   ]
  },
  {
   "cell_type": "code",
   "execution_count": 453,
   "metadata": {},
   "outputs": [],
   "source": [
    "df_store['before_price_mean'] = list(df.groupby(by=['store_id']).mean()['before_price'])\n",
    "\n"
   ]
  },
  {
   "cell_type": "code",
   "execution_count": 454,
   "metadata": {},
   "outputs": [],
   "source": [
    "df_store['price_mean'] = list(df.groupby(by=['store_id']).mean()['item_price'])\n",
    "\n"
   ]
  },
  {
   "cell_type": "code",
   "execution_count": 455,
   "metadata": {},
   "outputs": [],
   "source": [
    "df_store['reduction'] = 1 - df_store['price_mean'] / df_store['before_price_mean']"
   ]
  },
  {
   "cell_type": "code",
   "execution_count": 456,
   "metadata": {},
   "outputs": [
    {
     "data": {
      "text/html": [
       "<div>\n",
       "<style scoped>\n",
       "    .dataframe tbody tr th:only-of-type {\n",
       "        vertical-align: middle;\n",
       "    }\n",
       "\n",
       "    .dataframe tbody tr th {\n",
       "        vertical-align: top;\n",
       "    }\n",
       "\n",
       "    .dataframe thead th {\n",
       "        text-align: right;\n",
       "    }\n",
       "</style>\n",
       "<table border=\"1\" class=\"dataframe\">\n",
       "  <thead>\n",
       "    <tr style=\"text-align: right;\">\n",
       "      <th></th>\n",
       "      <th>store_id</th>\n",
       "      <th>parent_chain_id</th>\n",
       "      <th>store_region</th>\n",
       "      <th>store_segment</th>\n",
       "      <th>store_activity_name</th>\n",
       "      <th>store_first_saving_date</th>\n",
       "      <th>store_last_saving_date</th>\n",
       "      <th>occurence</th>\n",
       "      <th>lifetime</th>\n",
       "      <th>no_target_hit</th>\n",
       "      <th>no_meals_refunded</th>\n",
       "      <th>no_store_cancellation</th>\n",
       "      <th>no_consumer_cancellation</th>\n",
       "      <th>proportion_of_target_hit</th>\n",
       "      <th>worst</th>\n",
       "      <th>before_price_mean</th>\n",
       "      <th>price_mean</th>\n",
       "      <th>reduction</th>\n",
       "    </tr>\n",
       "  </thead>\n",
       "  <tbody>\n",
       "    <tr>\n",
       "      <th>2806</th>\n",
       "      <td>27922</td>\n",
       "      <td>4329.0</td>\n",
       "      <td>Alsace</td>\n",
       "      <td>Hotel</td>\n",
       "      <td>Unknown</td>\n",
       "      <td>2017-12-02</td>\n",
       "      <td>2020-03-17</td>\n",
       "      <td>486</td>\n",
       "      <td>836.0</td>\n",
       "      <td>15.0</td>\n",
       "      <td>2</td>\n",
       "      <td>0</td>\n",
       "      <td>29</td>\n",
       "      <td>0.030864</td>\n",
       "      <td>False</td>\n",
       "      <td>NaN</td>\n",
       "      <td>2.00000</td>\n",
       "      <td>NaN</td>\n",
       "    </tr>\n",
       "    <tr>\n",
       "      <th>16692</th>\n",
       "      <td>62171</td>\n",
       "      <td>4594.0</td>\n",
       "      <td>Provence-Alpes-Côte D’Azur</td>\n",
       "      <td>Traditional Restaurant</td>\n",
       "      <td>Commercial</td>\n",
       "      <td>2020-02-05</td>\n",
       "      <td>2020-03-13</td>\n",
       "      <td>88</td>\n",
       "      <td>37.0</td>\n",
       "      <td>19.0</td>\n",
       "      <td>1</td>\n",
       "      <td>6</td>\n",
       "      <td>7</td>\n",
       "      <td>0.215909</td>\n",
       "      <td>False</td>\n",
       "      <td>15.000000</td>\n",
       "      <td>4.99000</td>\n",
       "      <td>0.667333</td>\n",
       "    </tr>\n",
       "    <tr>\n",
       "      <th>7789</th>\n",
       "      <td>33240</td>\n",
       "      <td>NaN</td>\n",
       "      <td>Pays De La Loire</td>\n",
       "      <td>Bakery</td>\n",
       "      <td>Commercial</td>\n",
       "      <td>2018-11-23</td>\n",
       "      <td>2018-12-01</td>\n",
       "      <td>189</td>\n",
       "      <td>8.0</td>\n",
       "      <td>160.0</td>\n",
       "      <td>0</td>\n",
       "      <td>0</td>\n",
       "      <td>0</td>\n",
       "      <td>0.846561</td>\n",
       "      <td>True</td>\n",
       "      <td>12.000000</td>\n",
       "      <td>3.99000</td>\n",
       "      <td>0.667500</td>\n",
       "    </tr>\n",
       "    <tr>\n",
       "      <th>6127</th>\n",
       "      <td>31380</td>\n",
       "      <td>NaN</td>\n",
       "      <td>Alsace</td>\n",
       "      <td>Sushi</td>\n",
       "      <td>Commercial</td>\n",
       "      <td>2018-08-01</td>\n",
       "      <td>2020-12-10</td>\n",
       "      <td>486</td>\n",
       "      <td>862.0</td>\n",
       "      <td>18.0</td>\n",
       "      <td>6</td>\n",
       "      <td>25</td>\n",
       "      <td>16</td>\n",
       "      <td>0.037037</td>\n",
       "      <td>False</td>\n",
       "      <td>15.000000</td>\n",
       "      <td>4.99000</td>\n",
       "      <td>0.667333</td>\n",
       "    </tr>\n",
       "    <tr>\n",
       "      <th>7</th>\n",
       "      <td>173</td>\n",
       "      <td>4987.0</td>\n",
       "      <td>Provence-Alpes-Côte D’Azur</td>\n",
       "      <td>Supermarket Small</td>\n",
       "      <td>Commercial</td>\n",
       "      <td>2019-06-25</td>\n",
       "      <td>2020-03-06</td>\n",
       "      <td>311</td>\n",
       "      <td>255.0</td>\n",
       "      <td>72.0</td>\n",
       "      <td>0</td>\n",
       "      <td>0</td>\n",
       "      <td>0</td>\n",
       "      <td>0.231511</td>\n",
       "      <td>False</td>\n",
       "      <td>12.000000</td>\n",
       "      <td>3.99000</td>\n",
       "      <td>0.667500</td>\n",
       "    </tr>\n",
       "    <tr>\n",
       "      <th>13723</th>\n",
       "      <td>44101</td>\n",
       "      <td>3650.0</td>\n",
       "      <td>Provence-Alpes-Côte D’Azur</td>\n",
       "      <td>Supermarket Big</td>\n",
       "      <td>Commercial</td>\n",
       "      <td>2019-09-24</td>\n",
       "      <td>2021-03-15</td>\n",
       "      <td>227</td>\n",
       "      <td>538.0</td>\n",
       "      <td>16.0</td>\n",
       "      <td>7</td>\n",
       "      <td>0</td>\n",
       "      <td>10</td>\n",
       "      <td>0.070485</td>\n",
       "      <td>False</td>\n",
       "      <td>12.000000</td>\n",
       "      <td>3.99000</td>\n",
       "      <td>0.667500</td>\n",
       "    </tr>\n",
       "    <tr>\n",
       "      <th>16181</th>\n",
       "      <td>58746</td>\n",
       "      <td>4987.0</td>\n",
       "      <td>Poitou-Charentes</td>\n",
       "      <td>Supermarket Small</td>\n",
       "      <td>Commercial</td>\n",
       "      <td>2020-01-14</td>\n",
       "      <td>2021-03-15</td>\n",
       "      <td>108</td>\n",
       "      <td>426.0</td>\n",
       "      <td>0.0</td>\n",
       "      <td>0</td>\n",
       "      <td>5</td>\n",
       "      <td>4</td>\n",
       "      <td>0.000000</td>\n",
       "      <td>False</td>\n",
       "      <td>12.000000</td>\n",
       "      <td>3.99000</td>\n",
       "      <td>0.667500</td>\n",
       "    </tr>\n",
       "    <tr>\n",
       "      <th>14332</th>\n",
       "      <td>47181</td>\n",
       "      <td>NaN</td>\n",
       "      <td>Ile-De-France</td>\n",
       "      <td>Fast Food / Take away restaurant</td>\n",
       "      <td>Commercial</td>\n",
       "      <td>2019-10-11</td>\n",
       "      <td>2019-11-01</td>\n",
       "      <td>39</td>\n",
       "      <td>21.0</td>\n",
       "      <td>0.0</td>\n",
       "      <td>1</td>\n",
       "      <td>1</td>\n",
       "      <td>0</td>\n",
       "      <td>0.000000</td>\n",
       "      <td>False</td>\n",
       "      <td>10.512821</td>\n",
       "      <td>3.24641</td>\n",
       "      <td>0.691195</td>\n",
       "    </tr>\n",
       "    <tr>\n",
       "      <th>624</th>\n",
       "      <td>25466</td>\n",
       "      <td>NaN</td>\n",
       "      <td>Pays De La Loire</td>\n",
       "      <td>Fast Food / Take away restaurant</td>\n",
       "      <td>Commercial</td>\n",
       "      <td>2017-12-09</td>\n",
       "      <td>2018-08-20</td>\n",
       "      <td>143</td>\n",
       "      <td>254.0</td>\n",
       "      <td>114.0</td>\n",
       "      <td>0</td>\n",
       "      <td>0</td>\n",
       "      <td>0</td>\n",
       "      <td>0.797203</td>\n",
       "      <td>True</td>\n",
       "      <td>8.000000</td>\n",
       "      <td>3.00000</td>\n",
       "      <td>0.625000</td>\n",
       "    </tr>\n",
       "    <tr>\n",
       "      <th>8615</th>\n",
       "      <td>34148</td>\n",
       "      <td>3267.0</td>\n",
       "      <td>Languedoc-Roussillon</td>\n",
       "      <td>Fast Food / Take away restaurant</td>\n",
       "      <td>Commercial</td>\n",
       "      <td>2019-03-14</td>\n",
       "      <td>2020-10-29</td>\n",
       "      <td>451</td>\n",
       "      <td>595.0</td>\n",
       "      <td>26.0</td>\n",
       "      <td>1</td>\n",
       "      <td>37</td>\n",
       "      <td>44</td>\n",
       "      <td>0.057650</td>\n",
       "      <td>False</td>\n",
       "      <td>9.000000</td>\n",
       "      <td>3.00000</td>\n",
       "      <td>0.666667</td>\n",
       "    </tr>\n",
       "  </tbody>\n",
       "</table>\n",
       "</div>"
      ],
      "text/plain": [
       "       store_id  parent_chain_id                store_region  \\\n",
       "2806      27922           4329.0                      Alsace   \n",
       "16692     62171           4594.0  Provence-Alpes-Côte D’Azur   \n",
       "7789      33240              NaN            Pays De La Loire   \n",
       "6127      31380              NaN                      Alsace   \n",
       "7           173           4987.0  Provence-Alpes-Côte D’Azur   \n",
       "13723     44101           3650.0  Provence-Alpes-Côte D’Azur   \n",
       "16181     58746           4987.0            Poitou-Charentes   \n",
       "14332     47181              NaN               Ile-De-France   \n",
       "624       25466              NaN            Pays De La Loire   \n",
       "8615      34148           3267.0        Languedoc-Roussillon   \n",
       "\n",
       "                          store_segment store_activity_name  \\\n",
       "2806                              Hotel             Unknown   \n",
       "16692            Traditional Restaurant          Commercial   \n",
       "7789                             Bakery          Commercial   \n",
       "6127                              Sushi          Commercial   \n",
       "7                     Supermarket Small          Commercial   \n",
       "13723                   Supermarket Big          Commercial   \n",
       "16181                 Supermarket Small          Commercial   \n",
       "14332  Fast Food / Take away restaurant          Commercial   \n",
       "624    Fast Food / Take away restaurant          Commercial   \n",
       "8615   Fast Food / Take away restaurant          Commercial   \n",
       "\n",
       "      store_first_saving_date store_last_saving_date  occurence  lifetime  \\\n",
       "2806               2017-12-02             2020-03-17        486     836.0   \n",
       "16692              2020-02-05             2020-03-13         88      37.0   \n",
       "7789               2018-11-23             2018-12-01        189       8.0   \n",
       "6127               2018-08-01             2020-12-10        486     862.0   \n",
       "7                  2019-06-25             2020-03-06        311     255.0   \n",
       "13723              2019-09-24             2021-03-15        227     538.0   \n",
       "16181              2020-01-14             2021-03-15        108     426.0   \n",
       "14332              2019-10-11             2019-11-01         39      21.0   \n",
       "624                2017-12-09             2018-08-20        143     254.0   \n",
       "8615               2019-03-14             2020-10-29        451     595.0   \n",
       "\n",
       "       no_target_hit  no_meals_refunded  no_store_cancellation  \\\n",
       "2806            15.0                  2                      0   \n",
       "16692           19.0                  1                      6   \n",
       "7789           160.0                  0                      0   \n",
       "6127            18.0                  6                     25   \n",
       "7               72.0                  0                      0   \n",
       "13723           16.0                  7                      0   \n",
       "16181            0.0                  0                      5   \n",
       "14332            0.0                  1                      1   \n",
       "624            114.0                  0                      0   \n",
       "8615            26.0                  1                     37   \n",
       "\n",
       "       no_consumer_cancellation  proportion_of_target_hit  worst  \\\n",
       "2806                         29                  0.030864  False   \n",
       "16692                         7                  0.215909  False   \n",
       "7789                          0                  0.846561   True   \n",
       "6127                         16                  0.037037  False   \n",
       "7                             0                  0.231511  False   \n",
       "13723                        10                  0.070485  False   \n",
       "16181                         4                  0.000000  False   \n",
       "14332                         0                  0.000000  False   \n",
       "624                           0                  0.797203   True   \n",
       "8615                         44                  0.057650  False   \n",
       "\n",
       "       before_price_mean  price_mean  reduction  \n",
       "2806                 NaN     2.00000        NaN  \n",
       "16692          15.000000     4.99000   0.667333  \n",
       "7789           12.000000     3.99000   0.667500  \n",
       "6127           15.000000     4.99000   0.667333  \n",
       "7              12.000000     3.99000   0.667500  \n",
       "13723          12.000000     3.99000   0.667500  \n",
       "16181          12.000000     3.99000   0.667500  \n",
       "14332          10.512821     3.24641   0.691195  \n",
       "624             8.000000     3.00000   0.625000  \n",
       "8615            9.000000     3.00000   0.666667  "
      ]
     },
     "execution_count": 456,
     "metadata": {},
     "output_type": "execute_result"
    }
   ],
   "source": [
    "df_store.sample(10)"
   ]
  },
  {
   "cell_type": "code",
   "execution_count": 457,
   "metadata": {},
   "outputs": [],
   "source": [
    "df_store0 = df_store.copy()"
   ]
  },
  {
   "cell_type": "code",
   "execution_count": 498,
   "metadata": {},
   "outputs": [],
   "source": [
    "df_store = df_store0.copy()"
   ]
  },
  {
   "cell_type": "code",
   "execution_count": 499,
   "metadata": {},
   "outputs": [],
   "source": [
    "categ_var = ['store_region', 'store_segment']\n",
    "for var in categ_var:\n",
    "    df_store = pd.concat([df_store, pd.get_dummies(df_store[var], prefix = var)], axis = 1).drop(columns = [var])\n",
    "\n",
    "df_store = df_store.drop(columns = ['store_activity_name'])"
   ]
  },
  {
   "cell_type": "code",
   "execution_count": 500,
   "metadata": {},
   "outputs": [
    {
     "data": {
      "text/html": [
       "<div>\n",
       "<style scoped>\n",
       "    .dataframe tbody tr th:only-of-type {\n",
       "        vertical-align: middle;\n",
       "    }\n",
       "\n",
       "    .dataframe tbody tr th {\n",
       "        vertical-align: top;\n",
       "    }\n",
       "\n",
       "    .dataframe thead th {\n",
       "        text-align: right;\n",
       "    }\n",
       "</style>\n",
       "<table border=\"1\" class=\"dataframe\">\n",
       "  <thead>\n",
       "    <tr style=\"text-align: right;\">\n",
       "      <th></th>\n",
       "      <th>store_id</th>\n",
       "      <th>parent_chain_id</th>\n",
       "      <th>store_first_saving_date</th>\n",
       "      <th>store_last_saving_date</th>\n",
       "      <th>occurence</th>\n",
       "      <th>lifetime</th>\n",
       "      <th>no_target_hit</th>\n",
       "      <th>no_meals_refunded</th>\n",
       "      <th>no_store_cancellation</th>\n",
       "      <th>no_consumer_cancellation</th>\n",
       "      <th>proportion_of_target_hit</th>\n",
       "      <th>worst</th>\n",
       "      <th>before_price_mean</th>\n",
       "      <th>price_mean</th>\n",
       "      <th>reduction</th>\n",
       "      <th>store_region_Alsace</th>\n",
       "      <th>store_region_Aquitaine</th>\n",
       "      <th>store_region_Auvergne</th>\n",
       "      <th>store_region_Basse-Normandie</th>\n",
       "      <th>store_region_Bourgogne</th>\n",
       "      <th>store_region_Bretagne</th>\n",
       "      <th>store_region_Centre - Val De Loire</th>\n",
       "      <th>store_region_Champagne-Ardenne</th>\n",
       "      <th>store_region_Corse</th>\n",
       "      <th>store_region_Franche-Comté</th>\n",
       "      <th>store_region_Haute-Normandie</th>\n",
       "      <th>store_region_Ile-De-France</th>\n",
       "      <th>store_region_Languedoc-Roussillon</th>\n",
       "      <th>store_region_Limousin</th>\n",
       "      <th>store_region_Lorraine</th>\n",
       "      <th>store_region_Midi-Pyrénées</th>\n",
       "      <th>store_region_Nord-Pas De Calais</th>\n",
       "      <th>store_region_Pays De La Loire</th>\n",
       "      <th>store_region_Picardie</th>\n",
       "      <th>store_region_Poitou-Charentes</th>\n",
       "      <th>store_region_Provence-Alpes-Côte D’Azur</th>\n",
       "      <th>store_region_Rhône-Alpes</th>\n",
       "      <th>store_segment_Bakery</th>\n",
       "      <th>store_segment_Beverages</th>\n",
       "      <th>store_segment_Buffet</th>\n",
       "      <th>store_segment_Butcher</th>\n",
       "      <th>store_segment_Cafeteria</th>\n",
       "      <th>store_segment_Canteen</th>\n",
       "      <th>store_segment_Caterer</th>\n",
       "      <th>store_segment_Fast Food / Take away restaurant</th>\n",
       "      <th>store_segment_Fish shop</th>\n",
       "      <th>store_segment_Florist</th>\n",
       "      <th>store_segment_Fruits &amp; vegetables store</th>\n",
       "      <th>store_segment_Gas station</th>\n",
       "      <th>store_segment_Hotel</th>\n",
       "      <th>store_segment_Manufacturer</th>\n",
       "      <th>store_segment_Market stall</th>\n",
       "      <th>store_segment_Other</th>\n",
       "      <th>store_segment_Other Specialists</th>\n",
       "      <th>store_segment_Pastry</th>\n",
       "      <th>store_segment_Supermarket Big</th>\n",
       "      <th>store_segment_Supermarket Medium</th>\n",
       "      <th>store_segment_Supermarket Small</th>\n",
       "      <th>store_segment_Sushi</th>\n",
       "      <th>store_segment_Traditional Restaurant</th>\n",
       "    </tr>\n",
       "  </thead>\n",
       "  <tbody>\n",
       "    <tr>\n",
       "      <th>13554</th>\n",
       "      <td>43886</td>\n",
       "      <td>3650.0</td>\n",
       "      <td>2019-09-21</td>\n",
       "      <td>2021-03-15</td>\n",
       "      <td>227</td>\n",
       "      <td>541.0</td>\n",
       "      <td>15.0</td>\n",
       "      <td>4</td>\n",
       "      <td>3</td>\n",
       "      <td>5</td>\n",
       "      <td>0.066079</td>\n",
       "      <td>False</td>\n",
       "      <td>12.0</td>\n",
       "      <td>3.990000</td>\n",
       "      <td>0.667500</td>\n",
       "      <td>0</td>\n",
       "      <td>0</td>\n",
       "      <td>0</td>\n",
       "      <td>0</td>\n",
       "      <td>0</td>\n",
       "      <td>0</td>\n",
       "      <td>0</td>\n",
       "      <td>0</td>\n",
       "      <td>0</td>\n",
       "      <td>0</td>\n",
       "      <td>0</td>\n",
       "      <td>0</td>\n",
       "      <td>0</td>\n",
       "      <td>0</td>\n",
       "      <td>0</td>\n",
       "      <td>0</td>\n",
       "      <td>0</td>\n",
       "      <td>0</td>\n",
       "      <td>0</td>\n",
       "      <td>0</td>\n",
       "      <td>0</td>\n",
       "      <td>1</td>\n",
       "      <td>0</td>\n",
       "      <td>0</td>\n",
       "      <td>0</td>\n",
       "      <td>0</td>\n",
       "      <td>0</td>\n",
       "      <td>0</td>\n",
       "      <td>0</td>\n",
       "      <td>0</td>\n",
       "      <td>0</td>\n",
       "      <td>0</td>\n",
       "      <td>0</td>\n",
       "      <td>0</td>\n",
       "      <td>0</td>\n",
       "      <td>0</td>\n",
       "      <td>0</td>\n",
       "      <td>0</td>\n",
       "      <td>0</td>\n",
       "      <td>0</td>\n",
       "      <td>0</td>\n",
       "      <td>1</td>\n",
       "      <td>0</td>\n",
       "      <td>0</td>\n",
       "      <td>0</td>\n",
       "    </tr>\n",
       "    <tr>\n",
       "      <th>12267</th>\n",
       "      <td>38150</td>\n",
       "      <td>3534.0</td>\n",
       "      <td>2019-07-16</td>\n",
       "      <td>2021-03-15</td>\n",
       "      <td>354</td>\n",
       "      <td>608.0</td>\n",
       "      <td>0.0</td>\n",
       "      <td>10</td>\n",
       "      <td>9</td>\n",
       "      <td>3</td>\n",
       "      <td>0.000000</td>\n",
       "      <td>False</td>\n",
       "      <td>12.0</td>\n",
       "      <td>10.870056</td>\n",
       "      <td>0.094162</td>\n",
       "      <td>0</td>\n",
       "      <td>0</td>\n",
       "      <td>0</td>\n",
       "      <td>0</td>\n",
       "      <td>0</td>\n",
       "      <td>0</td>\n",
       "      <td>0</td>\n",
       "      <td>0</td>\n",
       "      <td>0</td>\n",
       "      <td>0</td>\n",
       "      <td>0</td>\n",
       "      <td>1</td>\n",
       "      <td>0</td>\n",
       "      <td>0</td>\n",
       "      <td>0</td>\n",
       "      <td>0</td>\n",
       "      <td>0</td>\n",
       "      <td>0</td>\n",
       "      <td>0</td>\n",
       "      <td>0</td>\n",
       "      <td>0</td>\n",
       "      <td>0</td>\n",
       "      <td>0</td>\n",
       "      <td>0</td>\n",
       "      <td>0</td>\n",
       "      <td>0</td>\n",
       "      <td>0</td>\n",
       "      <td>0</td>\n",
       "      <td>0</td>\n",
       "      <td>0</td>\n",
       "      <td>0</td>\n",
       "      <td>0</td>\n",
       "      <td>0</td>\n",
       "      <td>0</td>\n",
       "      <td>0</td>\n",
       "      <td>0</td>\n",
       "      <td>0</td>\n",
       "      <td>0</td>\n",
       "      <td>0</td>\n",
       "      <td>0</td>\n",
       "      <td>0</td>\n",
       "      <td>0</td>\n",
       "      <td>1</td>\n",
       "      <td>0</td>\n",
       "      <td>0</td>\n",
       "    </tr>\n",
       "    <tr>\n",
       "      <th>2268</th>\n",
       "      <td>27378</td>\n",
       "      <td>NaN</td>\n",
       "      <td>2017-12-03</td>\n",
       "      <td>2021-03-15</td>\n",
       "      <td>486</td>\n",
       "      <td>1198.0</td>\n",
       "      <td>0.0</td>\n",
       "      <td>6</td>\n",
       "      <td>20</td>\n",
       "      <td>20</td>\n",
       "      <td>0.000000</td>\n",
       "      <td>False</td>\n",
       "      <td>12.0</td>\n",
       "      <td>4.000000</td>\n",
       "      <td>0.666667</td>\n",
       "      <td>0</td>\n",
       "      <td>0</td>\n",
       "      <td>0</td>\n",
       "      <td>0</td>\n",
       "      <td>0</td>\n",
       "      <td>0</td>\n",
       "      <td>0</td>\n",
       "      <td>0</td>\n",
       "      <td>0</td>\n",
       "      <td>0</td>\n",
       "      <td>0</td>\n",
       "      <td>0</td>\n",
       "      <td>0</td>\n",
       "      <td>0</td>\n",
       "      <td>0</td>\n",
       "      <td>0</td>\n",
       "      <td>0</td>\n",
       "      <td>0</td>\n",
       "      <td>0</td>\n",
       "      <td>0</td>\n",
       "      <td>1</td>\n",
       "      <td>0</td>\n",
       "      <td>0</td>\n",
       "      <td>0</td>\n",
       "      <td>0</td>\n",
       "      <td>0</td>\n",
       "      <td>0</td>\n",
       "      <td>0</td>\n",
       "      <td>0</td>\n",
       "      <td>0</td>\n",
       "      <td>0</td>\n",
       "      <td>0</td>\n",
       "      <td>0</td>\n",
       "      <td>0</td>\n",
       "      <td>0</td>\n",
       "      <td>0</td>\n",
       "      <td>0</td>\n",
       "      <td>0</td>\n",
       "      <td>0</td>\n",
       "      <td>0</td>\n",
       "      <td>0</td>\n",
       "      <td>0</td>\n",
       "      <td>0</td>\n",
       "      <td>0</td>\n",
       "      <td>1</td>\n",
       "    </tr>\n",
       "    <tr>\n",
       "      <th>1212</th>\n",
       "      <td>26284</td>\n",
       "      <td>NaN</td>\n",
       "      <td>NaT</td>\n",
       "      <td>NaT</td>\n",
       "      <td>196</td>\n",
       "      <td>NaN</td>\n",
       "      <td>167.0</td>\n",
       "      <td>0</td>\n",
       "      <td>0</td>\n",
       "      <td>0</td>\n",
       "      <td>0.852041</td>\n",
       "      <td>True</td>\n",
       "      <td>8.5</td>\n",
       "      <td>3.500000</td>\n",
       "      <td>0.588235</td>\n",
       "      <td>0</td>\n",
       "      <td>0</td>\n",
       "      <td>0</td>\n",
       "      <td>0</td>\n",
       "      <td>0</td>\n",
       "      <td>0</td>\n",
       "      <td>0</td>\n",
       "      <td>0</td>\n",
       "      <td>0</td>\n",
       "      <td>0</td>\n",
       "      <td>0</td>\n",
       "      <td>0</td>\n",
       "      <td>0</td>\n",
       "      <td>0</td>\n",
       "      <td>0</td>\n",
       "      <td>0</td>\n",
       "      <td>0</td>\n",
       "      <td>1</td>\n",
       "      <td>0</td>\n",
       "      <td>0</td>\n",
       "      <td>0</td>\n",
       "      <td>0</td>\n",
       "      <td>0</td>\n",
       "      <td>0</td>\n",
       "      <td>0</td>\n",
       "      <td>0</td>\n",
       "      <td>0</td>\n",
       "      <td>0</td>\n",
       "      <td>0</td>\n",
       "      <td>0</td>\n",
       "      <td>0</td>\n",
       "      <td>0</td>\n",
       "      <td>0</td>\n",
       "      <td>0</td>\n",
       "      <td>0</td>\n",
       "      <td>0</td>\n",
       "      <td>0</td>\n",
       "      <td>0</td>\n",
       "      <td>1</td>\n",
       "      <td>0</td>\n",
       "      <td>0</td>\n",
       "      <td>0</td>\n",
       "      <td>0</td>\n",
       "      <td>0</td>\n",
       "      <td>0</td>\n",
       "    </tr>\n",
       "    <tr>\n",
       "      <th>13337</th>\n",
       "      <td>43571</td>\n",
       "      <td>4987.0</td>\n",
       "      <td>2019-11-25</td>\n",
       "      <td>2021-03-15</td>\n",
       "      <td>228</td>\n",
       "      <td>476.0</td>\n",
       "      <td>57.0</td>\n",
       "      <td>7</td>\n",
       "      <td>10</td>\n",
       "      <td>19</td>\n",
       "      <td>0.250000</td>\n",
       "      <td>False</td>\n",
       "      <td>12.0</td>\n",
       "      <td>3.990000</td>\n",
       "      <td>0.667500</td>\n",
       "      <td>0</td>\n",
       "      <td>0</td>\n",
       "      <td>0</td>\n",
       "      <td>0</td>\n",
       "      <td>0</td>\n",
       "      <td>0</td>\n",
       "      <td>0</td>\n",
       "      <td>0</td>\n",
       "      <td>0</td>\n",
       "      <td>0</td>\n",
       "      <td>0</td>\n",
       "      <td>0</td>\n",
       "      <td>0</td>\n",
       "      <td>0</td>\n",
       "      <td>0</td>\n",
       "      <td>0</td>\n",
       "      <td>0</td>\n",
       "      <td>0</td>\n",
       "      <td>0</td>\n",
       "      <td>0</td>\n",
       "      <td>0</td>\n",
       "      <td>1</td>\n",
       "      <td>0</td>\n",
       "      <td>0</td>\n",
       "      <td>0</td>\n",
       "      <td>0</td>\n",
       "      <td>0</td>\n",
       "      <td>0</td>\n",
       "      <td>0</td>\n",
       "      <td>0</td>\n",
       "      <td>0</td>\n",
       "      <td>0</td>\n",
       "      <td>0</td>\n",
       "      <td>0</td>\n",
       "      <td>0</td>\n",
       "      <td>0</td>\n",
       "      <td>0</td>\n",
       "      <td>0</td>\n",
       "      <td>0</td>\n",
       "      <td>0</td>\n",
       "      <td>1</td>\n",
       "      <td>0</td>\n",
       "      <td>0</td>\n",
       "      <td>0</td>\n",
       "      <td>0</td>\n",
       "    </tr>\n",
       "    <tr>\n",
       "      <th>9336</th>\n",
       "      <td>34930</td>\n",
       "      <td>3671.0</td>\n",
       "      <td>2019-03-12</td>\n",
       "      <td>2021-01-30</td>\n",
       "      <td>428</td>\n",
       "      <td>690.0</td>\n",
       "      <td>18.0</td>\n",
       "      <td>0</td>\n",
       "      <td>100</td>\n",
       "      <td>46</td>\n",
       "      <td>0.042056</td>\n",
       "      <td>False</td>\n",
       "      <td>12.0</td>\n",
       "      <td>3.990000</td>\n",
       "      <td>0.667500</td>\n",
       "      <td>0</td>\n",
       "      <td>0</td>\n",
       "      <td>0</td>\n",
       "      <td>0</td>\n",
       "      <td>0</td>\n",
       "      <td>1</td>\n",
       "      <td>0</td>\n",
       "      <td>0</td>\n",
       "      <td>0</td>\n",
       "      <td>0</td>\n",
       "      <td>0</td>\n",
       "      <td>0</td>\n",
       "      <td>0</td>\n",
       "      <td>0</td>\n",
       "      <td>0</td>\n",
       "      <td>0</td>\n",
       "      <td>0</td>\n",
       "      <td>0</td>\n",
       "      <td>0</td>\n",
       "      <td>0</td>\n",
       "      <td>0</td>\n",
       "      <td>0</td>\n",
       "      <td>1</td>\n",
       "      <td>0</td>\n",
       "      <td>0</td>\n",
       "      <td>0</td>\n",
       "      <td>0</td>\n",
       "      <td>0</td>\n",
       "      <td>0</td>\n",
       "      <td>0</td>\n",
       "      <td>0</td>\n",
       "      <td>0</td>\n",
       "      <td>0</td>\n",
       "      <td>0</td>\n",
       "      <td>0</td>\n",
       "      <td>0</td>\n",
       "      <td>0</td>\n",
       "      <td>0</td>\n",
       "      <td>0</td>\n",
       "      <td>0</td>\n",
       "      <td>0</td>\n",
       "      <td>0</td>\n",
       "      <td>0</td>\n",
       "      <td>0</td>\n",
       "      <td>0</td>\n",
       "    </tr>\n",
       "    <tr>\n",
       "      <th>2126</th>\n",
       "      <td>27227</td>\n",
       "      <td>NaN</td>\n",
       "      <td>NaT</td>\n",
       "      <td>NaT</td>\n",
       "      <td>147</td>\n",
       "      <td>NaN</td>\n",
       "      <td>118.0</td>\n",
       "      <td>0</td>\n",
       "      <td>0</td>\n",
       "      <td>0</td>\n",
       "      <td>0.802721</td>\n",
       "      <td>True</td>\n",
       "      <td>12.0</td>\n",
       "      <td>4.000000</td>\n",
       "      <td>0.666667</td>\n",
       "      <td>0</td>\n",
       "      <td>0</td>\n",
       "      <td>0</td>\n",
       "      <td>0</td>\n",
       "      <td>0</td>\n",
       "      <td>0</td>\n",
       "      <td>0</td>\n",
       "      <td>0</td>\n",
       "      <td>0</td>\n",
       "      <td>0</td>\n",
       "      <td>0</td>\n",
       "      <td>1</td>\n",
       "      <td>0</td>\n",
       "      <td>0</td>\n",
       "      <td>0</td>\n",
       "      <td>0</td>\n",
       "      <td>0</td>\n",
       "      <td>0</td>\n",
       "      <td>0</td>\n",
       "      <td>0</td>\n",
       "      <td>0</td>\n",
       "      <td>0</td>\n",
       "      <td>1</td>\n",
       "      <td>0</td>\n",
       "      <td>0</td>\n",
       "      <td>0</td>\n",
       "      <td>0</td>\n",
       "      <td>0</td>\n",
       "      <td>0</td>\n",
       "      <td>0</td>\n",
       "      <td>0</td>\n",
       "      <td>0</td>\n",
       "      <td>0</td>\n",
       "      <td>0</td>\n",
       "      <td>0</td>\n",
       "      <td>0</td>\n",
       "      <td>0</td>\n",
       "      <td>0</td>\n",
       "      <td>0</td>\n",
       "      <td>0</td>\n",
       "      <td>0</td>\n",
       "      <td>0</td>\n",
       "      <td>0</td>\n",
       "      <td>0</td>\n",
       "      <td>0</td>\n",
       "    </tr>\n",
       "    <tr>\n",
       "      <th>8901</th>\n",
       "      <td>34477</td>\n",
       "      <td>3912.0</td>\n",
       "      <td>2019-02-13</td>\n",
       "      <td>2019-06-04</td>\n",
       "      <td>154</td>\n",
       "      <td>111.0</td>\n",
       "      <td>0.0</td>\n",
       "      <td>0</td>\n",
       "      <td>0</td>\n",
       "      <td>1</td>\n",
       "      <td>0.000000</td>\n",
       "      <td>False</td>\n",
       "      <td>NaN</td>\n",
       "      <td>7.000000</td>\n",
       "      <td>NaN</td>\n",
       "      <td>0</td>\n",
       "      <td>0</td>\n",
       "      <td>0</td>\n",
       "      <td>0</td>\n",
       "      <td>0</td>\n",
       "      <td>0</td>\n",
       "      <td>0</td>\n",
       "      <td>0</td>\n",
       "      <td>0</td>\n",
       "      <td>0</td>\n",
       "      <td>0</td>\n",
       "      <td>0</td>\n",
       "      <td>0</td>\n",
       "      <td>0</td>\n",
       "      <td>0</td>\n",
       "      <td>0</td>\n",
       "      <td>0</td>\n",
       "      <td>1</td>\n",
       "      <td>0</td>\n",
       "      <td>0</td>\n",
       "      <td>0</td>\n",
       "      <td>0</td>\n",
       "      <td>0</td>\n",
       "      <td>0</td>\n",
       "      <td>0</td>\n",
       "      <td>0</td>\n",
       "      <td>0</td>\n",
       "      <td>0</td>\n",
       "      <td>0</td>\n",
       "      <td>0</td>\n",
       "      <td>0</td>\n",
       "      <td>0</td>\n",
       "      <td>0</td>\n",
       "      <td>0</td>\n",
       "      <td>0</td>\n",
       "      <td>0</td>\n",
       "      <td>0</td>\n",
       "      <td>0</td>\n",
       "      <td>0</td>\n",
       "      <td>0</td>\n",
       "      <td>0</td>\n",
       "      <td>0</td>\n",
       "      <td>0</td>\n",
       "      <td>1</td>\n",
       "      <td>0</td>\n",
       "    </tr>\n",
       "    <tr>\n",
       "      <th>16297</th>\n",
       "      <td>59359</td>\n",
       "      <td>NaN</td>\n",
       "      <td>2020-01-21</td>\n",
       "      <td>2021-03-15</td>\n",
       "      <td>102</td>\n",
       "      <td>419.0</td>\n",
       "      <td>19.0</td>\n",
       "      <td>5</td>\n",
       "      <td>1</td>\n",
       "      <td>11</td>\n",
       "      <td>0.186275</td>\n",
       "      <td>False</td>\n",
       "      <td>12.0</td>\n",
       "      <td>3.990000</td>\n",
       "      <td>0.667500</td>\n",
       "      <td>0</td>\n",
       "      <td>0</td>\n",
       "      <td>0</td>\n",
       "      <td>0</td>\n",
       "      <td>0</td>\n",
       "      <td>0</td>\n",
       "      <td>0</td>\n",
       "      <td>0</td>\n",
       "      <td>0</td>\n",
       "      <td>0</td>\n",
       "      <td>0</td>\n",
       "      <td>1</td>\n",
       "      <td>0</td>\n",
       "      <td>0</td>\n",
       "      <td>0</td>\n",
       "      <td>0</td>\n",
       "      <td>0</td>\n",
       "      <td>0</td>\n",
       "      <td>0</td>\n",
       "      <td>0</td>\n",
       "      <td>0</td>\n",
       "      <td>0</td>\n",
       "      <td>0</td>\n",
       "      <td>0</td>\n",
       "      <td>0</td>\n",
       "      <td>0</td>\n",
       "      <td>0</td>\n",
       "      <td>0</td>\n",
       "      <td>0</td>\n",
       "      <td>0</td>\n",
       "      <td>0</td>\n",
       "      <td>0</td>\n",
       "      <td>0</td>\n",
       "      <td>0</td>\n",
       "      <td>0</td>\n",
       "      <td>0</td>\n",
       "      <td>0</td>\n",
       "      <td>0</td>\n",
       "      <td>1</td>\n",
       "      <td>0</td>\n",
       "      <td>0</td>\n",
       "      <td>0</td>\n",
       "      <td>0</td>\n",
       "      <td>0</td>\n",
       "      <td>0</td>\n",
       "    </tr>\n",
       "    <tr>\n",
       "      <th>2398</th>\n",
       "      <td>27508</td>\n",
       "      <td>NaN</td>\n",
       "      <td>NaT</td>\n",
       "      <td>NaT</td>\n",
       "      <td>147</td>\n",
       "      <td>NaN</td>\n",
       "      <td>118.0</td>\n",
       "      <td>0</td>\n",
       "      <td>0</td>\n",
       "      <td>0</td>\n",
       "      <td>0.802721</td>\n",
       "      <td>True</td>\n",
       "      <td>NaN</td>\n",
       "      <td>0.000000</td>\n",
       "      <td>NaN</td>\n",
       "      <td>0</td>\n",
       "      <td>0</td>\n",
       "      <td>0</td>\n",
       "      <td>0</td>\n",
       "      <td>0</td>\n",
       "      <td>0</td>\n",
       "      <td>0</td>\n",
       "      <td>0</td>\n",
       "      <td>0</td>\n",
       "      <td>0</td>\n",
       "      <td>0</td>\n",
       "      <td>1</td>\n",
       "      <td>0</td>\n",
       "      <td>0</td>\n",
       "      <td>0</td>\n",
       "      <td>0</td>\n",
       "      <td>0</td>\n",
       "      <td>0</td>\n",
       "      <td>0</td>\n",
       "      <td>0</td>\n",
       "      <td>0</td>\n",
       "      <td>0</td>\n",
       "      <td>0</td>\n",
       "      <td>0</td>\n",
       "      <td>0</td>\n",
       "      <td>0</td>\n",
       "      <td>0</td>\n",
       "      <td>0</td>\n",
       "      <td>0</td>\n",
       "      <td>0</td>\n",
       "      <td>0</td>\n",
       "      <td>0</td>\n",
       "      <td>0</td>\n",
       "      <td>0</td>\n",
       "      <td>0</td>\n",
       "      <td>0</td>\n",
       "      <td>0</td>\n",
       "      <td>0</td>\n",
       "      <td>0</td>\n",
       "      <td>0</td>\n",
       "      <td>0</td>\n",
       "      <td>0</td>\n",
       "      <td>0</td>\n",
       "      <td>0</td>\n",
       "      <td>0</td>\n",
       "    </tr>\n",
       "  </tbody>\n",
       "</table>\n",
       "</div>"
      ],
      "text/plain": [
       "       store_id  parent_chain_id store_first_saving_date  \\\n",
       "13554     43886           3650.0              2019-09-21   \n",
       "12267     38150           3534.0              2019-07-16   \n",
       "2268      27378              NaN              2017-12-03   \n",
       "1212      26284              NaN                     NaT   \n",
       "13337     43571           4987.0              2019-11-25   \n",
       "9336      34930           3671.0              2019-03-12   \n",
       "2126      27227              NaN                     NaT   \n",
       "8901      34477           3912.0              2019-02-13   \n",
       "16297     59359              NaN              2020-01-21   \n",
       "2398      27508              NaN                     NaT   \n",
       "\n",
       "      store_last_saving_date  occurence  lifetime  no_target_hit  \\\n",
       "13554             2021-03-15        227     541.0           15.0   \n",
       "12267             2021-03-15        354     608.0            0.0   \n",
       "2268              2021-03-15        486    1198.0            0.0   \n",
       "1212                     NaT        196       NaN          167.0   \n",
       "13337             2021-03-15        228     476.0           57.0   \n",
       "9336              2021-01-30        428     690.0           18.0   \n",
       "2126                     NaT        147       NaN          118.0   \n",
       "8901              2019-06-04        154     111.0            0.0   \n",
       "16297             2021-03-15        102     419.0           19.0   \n",
       "2398                     NaT        147       NaN          118.0   \n",
       "\n",
       "       no_meals_refunded  no_store_cancellation  no_consumer_cancellation  \\\n",
       "13554                  4                      3                         5   \n",
       "12267                 10                      9                         3   \n",
       "2268                   6                     20                        20   \n",
       "1212                   0                      0                         0   \n",
       "13337                  7                     10                        19   \n",
       "9336                   0                    100                        46   \n",
       "2126                   0                      0                         0   \n",
       "8901                   0                      0                         1   \n",
       "16297                  5                      1                        11   \n",
       "2398                   0                      0                         0   \n",
       "\n",
       "       proportion_of_target_hit  worst  before_price_mean  price_mean  \\\n",
       "13554                  0.066079  False               12.0    3.990000   \n",
       "12267                  0.000000  False               12.0   10.870056   \n",
       "2268                   0.000000  False               12.0    4.000000   \n",
       "1212                   0.852041   True                8.5    3.500000   \n",
       "13337                  0.250000  False               12.0    3.990000   \n",
       "9336                   0.042056  False               12.0    3.990000   \n",
       "2126                   0.802721   True               12.0    4.000000   \n",
       "8901                   0.000000  False                NaN    7.000000   \n",
       "16297                  0.186275  False               12.0    3.990000   \n",
       "2398                   0.802721   True                NaN    0.000000   \n",
       "\n",
       "       reduction  store_region_Alsace  store_region_Aquitaine  \\\n",
       "13554   0.667500                    0                       0   \n",
       "12267   0.094162                    0                       0   \n",
       "2268    0.666667                    0                       0   \n",
       "1212    0.588235                    0                       0   \n",
       "13337   0.667500                    0                       0   \n",
       "9336    0.667500                    0                       0   \n",
       "2126    0.666667                    0                       0   \n",
       "8901         NaN                    0                       0   \n",
       "16297   0.667500                    0                       0   \n",
       "2398         NaN                    0                       0   \n",
       "\n",
       "       store_region_Auvergne  store_region_Basse-Normandie  \\\n",
       "13554                      0                             0   \n",
       "12267                      0                             0   \n",
       "2268                       0                             0   \n",
       "1212                       0                             0   \n",
       "13337                      0                             0   \n",
       "9336                       0                             0   \n",
       "2126                       0                             0   \n",
       "8901                       0                             0   \n",
       "16297                      0                             0   \n",
       "2398                       0                             0   \n",
       "\n",
       "       store_region_Bourgogne  store_region_Bretagne  \\\n",
       "13554                       0                      0   \n",
       "12267                       0                      0   \n",
       "2268                        0                      0   \n",
       "1212                        0                      0   \n",
       "13337                       0                      0   \n",
       "9336                        0                      1   \n",
       "2126                        0                      0   \n",
       "8901                        0                      0   \n",
       "16297                       0                      0   \n",
       "2398                        0                      0   \n",
       "\n",
       "       store_region_Centre - Val De Loire  store_region_Champagne-Ardenne  \\\n",
       "13554                                   0                               0   \n",
       "12267                                   0                               0   \n",
       "2268                                    0                               0   \n",
       "1212                                    0                               0   \n",
       "13337                                   0                               0   \n",
       "9336                                    0                               0   \n",
       "2126                                    0                               0   \n",
       "8901                                    0                               0   \n",
       "16297                                   0                               0   \n",
       "2398                                    0                               0   \n",
       "\n",
       "       store_region_Corse  store_region_Franche-Comté  \\\n",
       "13554                   0                           0   \n",
       "12267                   0                           0   \n",
       "2268                    0                           0   \n",
       "1212                    0                           0   \n",
       "13337                   0                           0   \n",
       "9336                    0                           0   \n",
       "2126                    0                           0   \n",
       "8901                    0                           0   \n",
       "16297                   0                           0   \n",
       "2398                    0                           0   \n",
       "\n",
       "       store_region_Haute-Normandie  store_region_Ile-De-France  \\\n",
       "13554                             0                           0   \n",
       "12267                             0                           1   \n",
       "2268                              0                           0   \n",
       "1212                              0                           0   \n",
       "13337                             0                           0   \n",
       "9336                              0                           0   \n",
       "2126                              0                           1   \n",
       "8901                              0                           0   \n",
       "16297                             0                           1   \n",
       "2398                              0                           1   \n",
       "\n",
       "       store_region_Languedoc-Roussillon  store_region_Limousin  \\\n",
       "13554                                  0                      0   \n",
       "12267                                  0                      0   \n",
       "2268                                   0                      0   \n",
       "1212                                   0                      0   \n",
       "13337                                  0                      0   \n",
       "9336                                   0                      0   \n",
       "2126                                   0                      0   \n",
       "8901                                   0                      0   \n",
       "16297                                  0                      0   \n",
       "2398                                   0                      0   \n",
       "\n",
       "       store_region_Lorraine  store_region_Midi-Pyrénées  \\\n",
       "13554                      0                           0   \n",
       "12267                      0                           0   \n",
       "2268                       0                           0   \n",
       "1212                       0                           0   \n",
       "13337                      0                           0   \n",
       "9336                       0                           0   \n",
       "2126                       0                           0   \n",
       "8901                       0                           0   \n",
       "16297                      0                           0   \n",
       "2398                       0                           0   \n",
       "\n",
       "       store_region_Nord-Pas De Calais  store_region_Pays De La Loire  \\\n",
       "13554                                0                              0   \n",
       "12267                                0                              0   \n",
       "2268                                 0                              0   \n",
       "1212                                 0                              1   \n",
       "13337                                0                              0   \n",
       "9336                                 0                              0   \n",
       "2126                                 0                              0   \n",
       "8901                                 0                              1   \n",
       "16297                                0                              0   \n",
       "2398                                 0                              0   \n",
       "\n",
       "       store_region_Picardie  store_region_Poitou-Charentes  \\\n",
       "13554                      0                              0   \n",
       "12267                      0                              0   \n",
       "2268                       0                              0   \n",
       "1212                       0                              0   \n",
       "13337                      0                              0   \n",
       "9336                       0                              0   \n",
       "2126                       0                              0   \n",
       "8901                       0                              0   \n",
       "16297                      0                              0   \n",
       "2398                       0                              0   \n",
       "\n",
       "       store_region_Provence-Alpes-Côte D’Azur  store_region_Rhône-Alpes  \\\n",
       "13554                                        0                         1   \n",
       "12267                                        0                         0   \n",
       "2268                                         1                         0   \n",
       "1212                                         0                         0   \n",
       "13337                                        0                         1   \n",
       "9336                                         0                         0   \n",
       "2126                                         0                         0   \n",
       "8901                                         0                         0   \n",
       "16297                                        0                         0   \n",
       "2398                                         0                         0   \n",
       "\n",
       "       store_segment_Bakery  store_segment_Beverages  store_segment_Buffet  \\\n",
       "13554                     0                        0                     0   \n",
       "12267                     0                        0                     0   \n",
       "2268                      0                        0                     0   \n",
       "1212                      0                        0                     0   \n",
       "13337                     0                        0                     0   \n",
       "9336                      1                        0                     0   \n",
       "2126                      1                        0                     0   \n",
       "8901                      0                        0                     0   \n",
       "16297                     0                        0                     0   \n",
       "2398                      0                        0                     0   \n",
       "\n",
       "       store_segment_Butcher  store_segment_Cafeteria  store_segment_Canteen  \\\n",
       "13554                      0                        0                      0   \n",
       "12267                      0                        0                      0   \n",
       "2268                       0                        0                      0   \n",
       "1212                       0                        0                      0   \n",
       "13337                      0                        0                      0   \n",
       "9336                       0                        0                      0   \n",
       "2126                       0                        0                      0   \n",
       "8901                       0                        0                      0   \n",
       "16297                      0                        0                      0   \n",
       "2398                       0                        0                      0   \n",
       "\n",
       "       store_segment_Caterer  store_segment_Fast Food / Take away restaurant  \\\n",
       "13554                      0                                               0   \n",
       "12267                      0                                               0   \n",
       "2268                       0                                               0   \n",
       "1212                       0                                               0   \n",
       "13337                      0                                               0   \n",
       "9336                       0                                               0   \n",
       "2126                       0                                               0   \n",
       "8901                       0                                               0   \n",
       "16297                      0                                               0   \n",
       "2398                       0                                               0   \n",
       "\n",
       "       store_segment_Fish shop  store_segment_Florist  \\\n",
       "13554                        0                      0   \n",
       "12267                        0                      0   \n",
       "2268                         0                      0   \n",
       "1212                         0                      0   \n",
       "13337                        0                      0   \n",
       "9336                         0                      0   \n",
       "2126                         0                      0   \n",
       "8901                         0                      0   \n",
       "16297                        0                      0   \n",
       "2398                         0                      0   \n",
       "\n",
       "       store_segment_Fruits & vegetables store  store_segment_Gas station  \\\n",
       "13554                                        0                          0   \n",
       "12267                                        0                          0   \n",
       "2268                                         0                          0   \n",
       "1212                                         0                          0   \n",
       "13337                                        0                          0   \n",
       "9336                                         0                          0   \n",
       "2126                                         0                          0   \n",
       "8901                                         0                          0   \n",
       "16297                                        0                          0   \n",
       "2398                                         0                          0   \n",
       "\n",
       "       store_segment_Hotel  store_segment_Manufacturer  \\\n",
       "13554                    0                           0   \n",
       "12267                    0                           0   \n",
       "2268                     0                           0   \n",
       "1212                     0                           0   \n",
       "13337                    0                           0   \n",
       "9336                     0                           0   \n",
       "2126                     0                           0   \n",
       "8901                     0                           0   \n",
       "16297                    0                           0   \n",
       "2398                     0                           0   \n",
       "\n",
       "       store_segment_Market stall  store_segment_Other  \\\n",
       "13554                           0                    0   \n",
       "12267                           0                    0   \n",
       "2268                            0                    0   \n",
       "1212                            0                    0   \n",
       "13337                           0                    0   \n",
       "9336                            0                    0   \n",
       "2126                            0                    0   \n",
       "8901                            0                    0   \n",
       "16297                           0                    0   \n",
       "2398                            0                    0   \n",
       "\n",
       "       store_segment_Other Specialists  store_segment_Pastry  \\\n",
       "13554                                0                     0   \n",
       "12267                                0                     0   \n",
       "2268                                 0                     0   \n",
       "1212                                 1                     0   \n",
       "13337                                0                     0   \n",
       "9336                                 0                     0   \n",
       "2126                                 0                     0   \n",
       "8901                                 0                     0   \n",
       "16297                                1                     0   \n",
       "2398                                 0                     0   \n",
       "\n",
       "       store_segment_Supermarket Big  store_segment_Supermarket Medium  \\\n",
       "13554                              0                                 1   \n",
       "12267                              0                                 0   \n",
       "2268                               0                                 0   \n",
       "1212                               0                                 0   \n",
       "13337                              1                                 0   \n",
       "9336                               0                                 0   \n",
       "2126                               0                                 0   \n",
       "8901                               0                                 0   \n",
       "16297                              0                                 0   \n",
       "2398                               0                                 0   \n",
       "\n",
       "       store_segment_Supermarket Small  store_segment_Sushi  \\\n",
       "13554                                0                    0   \n",
       "12267                                1                    0   \n",
       "2268                                 0                    0   \n",
       "1212                                 0                    0   \n",
       "13337                                0                    0   \n",
       "9336                                 0                    0   \n",
       "2126                                 0                    0   \n",
       "8901                                 0                    1   \n",
       "16297                                0                    0   \n",
       "2398                                 0                    0   \n",
       "\n",
       "       store_segment_Traditional Restaurant  \n",
       "13554                                     0  \n",
       "12267                                     0  \n",
       "2268                                      1  \n",
       "1212                                      0  \n",
       "13337                                     0  \n",
       "9336                                      0  \n",
       "2126                                      0  \n",
       "8901                                      0  \n",
       "16297                                     0  \n",
       "2398                                      0  "
      ]
     },
     "execution_count": 500,
     "metadata": {},
     "output_type": "execute_result"
    }
   ],
   "source": [
    "df_store.sample(10)"
   ]
  },
  {
   "cell_type": "code",
   "execution_count": 501,
   "metadata": {},
   "outputs": [],
   "source": [
    "#df_store['lifetime'] = df_store['lifetime'].dt.days"
   ]
  },
  {
   "cell_type": "code",
   "execution_count": 502,
   "metadata": {},
   "outputs": [],
   "source": [
    "df_store['store_first_saving_date'] = df_store.apply(lambda row: row.store_first_saving_date.value, axis = 1)"
   ]
  },
  {
   "cell_type": "code",
   "execution_count": 503,
   "metadata": {},
   "outputs": [],
   "source": [
    "df_store['store_last_saving_date'] = df_store.apply(lambda row: row.store_last_saving_date.value, axis = 1)"
   ]
  },
  {
   "cell_type": "code",
   "execution_count": 504,
   "metadata": {},
   "outputs": [],
   "source": [
    "#df_store['saving_date_interval'] = df_store['store_last_saving_date'] - df_store['store_first_saving_date']"
   ]
  },
  {
   "cell_type": "code",
   "execution_count": 505,
   "metadata": {},
   "outputs": [],
   "source": [
    "df_store = df_store.drop(columns = ['store_last_saving_date', 'store_first_saving_date', 'no_target_hit', 'lifetime', 'worst'])"
   ]
  },
  {
   "cell_type": "code",
   "execution_count": 506,
   "metadata": {},
   "outputs": [],
   "source": [
    "df1 = df_store.replace(np.nan, 0).dropna().copy()\n",
    "\n",
    "df1 = df1.replace([np.inf, -np.inf], np.nan).dropna()"
   ]
  },
  {
   "cell_type": "code",
   "execution_count": 507,
   "metadata": {},
   "outputs": [],
   "source": [
    "x = df1.values #returns a numpy array\n",
    "min_max_scaler = preprocessing.MinMaxScaler()\n",
    "x_scaled = min_max_scaler.fit_transform(x)\n",
    "df1 = pd.DataFrame(x_scaled, columns = df1.columns)\n"
   ]
  },
  {
   "cell_type": "code",
   "execution_count": 508,
   "metadata": {},
   "outputs": [
    {
     "data": {
      "text/html": [
       "<div>\n",
       "<style scoped>\n",
       "    .dataframe tbody tr th:only-of-type {\n",
       "        vertical-align: middle;\n",
       "    }\n",
       "\n",
       "    .dataframe tbody tr th {\n",
       "        vertical-align: top;\n",
       "    }\n",
       "\n",
       "    .dataframe thead th {\n",
       "        text-align: right;\n",
       "    }\n",
       "</style>\n",
       "<table border=\"1\" class=\"dataframe\">\n",
       "  <thead>\n",
       "    <tr style=\"text-align: right;\">\n",
       "      <th></th>\n",
       "      <th>store_id</th>\n",
       "      <th>parent_chain_id</th>\n",
       "      <th>occurence</th>\n",
       "      <th>no_meals_refunded</th>\n",
       "      <th>no_store_cancellation</th>\n",
       "      <th>no_consumer_cancellation</th>\n",
       "      <th>proportion_of_target_hit</th>\n",
       "      <th>before_price_mean</th>\n",
       "      <th>price_mean</th>\n",
       "      <th>reduction</th>\n",
       "      <th>store_region_Alsace</th>\n",
       "      <th>store_region_Aquitaine</th>\n",
       "      <th>store_region_Auvergne</th>\n",
       "      <th>store_region_Basse-Normandie</th>\n",
       "      <th>store_region_Bourgogne</th>\n",
       "      <th>store_region_Bretagne</th>\n",
       "      <th>store_region_Centre - Val De Loire</th>\n",
       "      <th>store_region_Champagne-Ardenne</th>\n",
       "      <th>store_region_Corse</th>\n",
       "      <th>store_region_Franche-Comté</th>\n",
       "      <th>store_region_Haute-Normandie</th>\n",
       "      <th>store_region_Ile-De-France</th>\n",
       "      <th>store_region_Languedoc-Roussillon</th>\n",
       "      <th>store_region_Limousin</th>\n",
       "      <th>store_region_Lorraine</th>\n",
       "      <th>store_region_Midi-Pyrénées</th>\n",
       "      <th>store_region_Nord-Pas De Calais</th>\n",
       "      <th>store_region_Pays De La Loire</th>\n",
       "      <th>store_region_Picardie</th>\n",
       "      <th>store_region_Poitou-Charentes</th>\n",
       "      <th>store_region_Provence-Alpes-Côte D’Azur</th>\n",
       "      <th>store_region_Rhône-Alpes</th>\n",
       "      <th>store_segment_Bakery</th>\n",
       "      <th>store_segment_Beverages</th>\n",
       "      <th>store_segment_Buffet</th>\n",
       "      <th>store_segment_Butcher</th>\n",
       "      <th>store_segment_Cafeteria</th>\n",
       "      <th>store_segment_Canteen</th>\n",
       "      <th>store_segment_Caterer</th>\n",
       "      <th>store_segment_Fast Food / Take away restaurant</th>\n",
       "      <th>store_segment_Fish shop</th>\n",
       "      <th>store_segment_Florist</th>\n",
       "      <th>store_segment_Fruits &amp; vegetables store</th>\n",
       "      <th>store_segment_Gas station</th>\n",
       "      <th>store_segment_Hotel</th>\n",
       "      <th>store_segment_Manufacturer</th>\n",
       "      <th>store_segment_Market stall</th>\n",
       "      <th>store_segment_Other</th>\n",
       "      <th>store_segment_Other Specialists</th>\n",
       "      <th>store_segment_Pastry</th>\n",
       "      <th>store_segment_Supermarket Big</th>\n",
       "      <th>store_segment_Supermarket Medium</th>\n",
       "      <th>store_segment_Supermarket Small</th>\n",
       "      <th>store_segment_Sushi</th>\n",
       "      <th>store_segment_Traditional Restaurant</th>\n",
       "    </tr>\n",
       "  </thead>\n",
       "  <tbody>\n",
       "    <tr>\n",
       "      <th>0</th>\n",
       "      <td>0.000000</td>\n",
       "      <td>0.000000</td>\n",
       "      <td>0.188874</td>\n",
       "      <td>0.016216</td>\n",
       "      <td>0.005096</td>\n",
       "      <td>0.031933</td>\n",
       "      <td>0.202259</td>\n",
       "      <td>0.080000</td>\n",
       "      <td>0.058281</td>\n",
       "      <td>0.927914</td>\n",
       "      <td>0.0</td>\n",
       "      <td>0.0</td>\n",
       "      <td>0.0</td>\n",
       "      <td>0.0</td>\n",
       "      <td>0.0</td>\n",
       "      <td>0.0</td>\n",
       "      <td>0.0</td>\n",
       "      <td>0.0</td>\n",
       "      <td>0.0</td>\n",
       "      <td>0.0</td>\n",
       "      <td>0.0</td>\n",
       "      <td>1.0</td>\n",
       "      <td>0.0</td>\n",
       "      <td>0.0</td>\n",
       "      <td>0.0</td>\n",
       "      <td>0.0</td>\n",
       "      <td>0.0</td>\n",
       "      <td>0.0</td>\n",
       "      <td>0.0</td>\n",
       "      <td>0.0</td>\n",
       "      <td>0.0</td>\n",
       "      <td>0.0</td>\n",
       "      <td>1.0</td>\n",
       "      <td>0.0</td>\n",
       "      <td>0.0</td>\n",
       "      <td>0.0</td>\n",
       "      <td>0.0</td>\n",
       "      <td>0.0</td>\n",
       "      <td>0.0</td>\n",
       "      <td>0.0</td>\n",
       "      <td>0.0</td>\n",
       "      <td>0.0</td>\n",
       "      <td>0.0</td>\n",
       "      <td>0.0</td>\n",
       "      <td>0.0</td>\n",
       "      <td>0.0</td>\n",
       "      <td>0.0</td>\n",
       "      <td>0.0</td>\n",
       "      <td>0.0</td>\n",
       "      <td>0.0</td>\n",
       "      <td>0.0</td>\n",
       "      <td>0.0</td>\n",
       "      <td>0.0</td>\n",
       "      <td>0.0</td>\n",
       "      <td>0.0</td>\n",
       "    </tr>\n",
       "    <tr>\n",
       "      <th>1</th>\n",
       "      <td>0.000238</td>\n",
       "      <td>0.192630</td>\n",
       "      <td>0.224588</td>\n",
       "      <td>0.000000</td>\n",
       "      <td>0.000566</td>\n",
       "      <td>0.001681</td>\n",
       "      <td>0.227055</td>\n",
       "      <td>0.080669</td>\n",
       "      <td>0.059257</td>\n",
       "      <td>0.926953</td>\n",
       "      <td>0.0</td>\n",
       "      <td>0.0</td>\n",
       "      <td>0.0</td>\n",
       "      <td>0.0</td>\n",
       "      <td>0.0</td>\n",
       "      <td>0.0</td>\n",
       "      <td>0.0</td>\n",
       "      <td>0.0</td>\n",
       "      <td>0.0</td>\n",
       "      <td>0.0</td>\n",
       "      <td>0.0</td>\n",
       "      <td>1.0</td>\n",
       "      <td>0.0</td>\n",
       "      <td>0.0</td>\n",
       "      <td>0.0</td>\n",
       "      <td>0.0</td>\n",
       "      <td>0.0</td>\n",
       "      <td>0.0</td>\n",
       "      <td>0.0</td>\n",
       "      <td>0.0</td>\n",
       "      <td>0.0</td>\n",
       "      <td>0.0</td>\n",
       "      <td>0.0</td>\n",
       "      <td>0.0</td>\n",
       "      <td>0.0</td>\n",
       "      <td>0.0</td>\n",
       "      <td>0.0</td>\n",
       "      <td>0.0</td>\n",
       "      <td>0.0</td>\n",
       "      <td>0.0</td>\n",
       "      <td>0.0</td>\n",
       "      <td>0.0</td>\n",
       "      <td>0.0</td>\n",
       "      <td>0.0</td>\n",
       "      <td>0.0</td>\n",
       "      <td>0.0</td>\n",
       "      <td>0.0</td>\n",
       "      <td>0.0</td>\n",
       "      <td>0.0</td>\n",
       "      <td>0.0</td>\n",
       "      <td>1.0</td>\n",
       "      <td>0.0</td>\n",
       "      <td>0.0</td>\n",
       "      <td>0.0</td>\n",
       "      <td>0.0</td>\n",
       "    </tr>\n",
       "    <tr>\n",
       "      <th>2</th>\n",
       "      <td>0.000861</td>\n",
       "      <td>0.000000</td>\n",
       "      <td>0.164148</td>\n",
       "      <td>0.005405</td>\n",
       "      <td>0.003964</td>\n",
       "      <td>0.000000</td>\n",
       "      <td>0.000000</td>\n",
       "      <td>0.280166</td>\n",
       "      <td>0.204615</td>\n",
       "      <td>0.927625</td>\n",
       "      <td>0.0</td>\n",
       "      <td>0.0</td>\n",
       "      <td>0.0</td>\n",
       "      <td>0.0</td>\n",
       "      <td>0.0</td>\n",
       "      <td>0.0</td>\n",
       "      <td>0.0</td>\n",
       "      <td>0.0</td>\n",
       "      <td>0.0</td>\n",
       "      <td>0.0</td>\n",
       "      <td>0.0</td>\n",
       "      <td>1.0</td>\n",
       "      <td>0.0</td>\n",
       "      <td>0.0</td>\n",
       "      <td>0.0</td>\n",
       "      <td>0.0</td>\n",
       "      <td>0.0</td>\n",
       "      <td>0.0</td>\n",
       "      <td>0.0</td>\n",
       "      <td>0.0</td>\n",
       "      <td>0.0</td>\n",
       "      <td>0.0</td>\n",
       "      <td>0.0</td>\n",
       "      <td>0.0</td>\n",
       "      <td>0.0</td>\n",
       "      <td>0.0</td>\n",
       "      <td>0.0</td>\n",
       "      <td>0.0</td>\n",
       "      <td>0.0</td>\n",
       "      <td>0.0</td>\n",
       "      <td>0.0</td>\n",
       "      <td>0.0</td>\n",
       "      <td>0.0</td>\n",
       "      <td>0.0</td>\n",
       "      <td>0.0</td>\n",
       "      <td>0.0</td>\n",
       "      <td>0.0</td>\n",
       "      <td>0.0</td>\n",
       "      <td>0.0</td>\n",
       "      <td>1.0</td>\n",
       "      <td>0.0</td>\n",
       "      <td>0.0</td>\n",
       "      <td>0.0</td>\n",
       "      <td>0.0</td>\n",
       "      <td>0.0</td>\n",
       "    </tr>\n",
       "    <tr>\n",
       "      <th>3</th>\n",
       "      <td>0.000888</td>\n",
       "      <td>0.000000</td>\n",
       "      <td>0.160714</td>\n",
       "      <td>0.000000</td>\n",
       "      <td>0.002831</td>\n",
       "      <td>0.000000</td>\n",
       "      <td>0.000000</td>\n",
       "      <td>0.280000</td>\n",
       "      <td>0.204494</td>\n",
       "      <td>0.927625</td>\n",
       "      <td>0.0</td>\n",
       "      <td>0.0</td>\n",
       "      <td>0.0</td>\n",
       "      <td>0.0</td>\n",
       "      <td>0.0</td>\n",
       "      <td>0.0</td>\n",
       "      <td>0.0</td>\n",
       "      <td>0.0</td>\n",
       "      <td>0.0</td>\n",
       "      <td>0.0</td>\n",
       "      <td>0.0</td>\n",
       "      <td>1.0</td>\n",
       "      <td>0.0</td>\n",
       "      <td>0.0</td>\n",
       "      <td>0.0</td>\n",
       "      <td>0.0</td>\n",
       "      <td>0.0</td>\n",
       "      <td>0.0</td>\n",
       "      <td>0.0</td>\n",
       "      <td>0.0</td>\n",
       "      <td>0.0</td>\n",
       "      <td>0.0</td>\n",
       "      <td>0.0</td>\n",
       "      <td>0.0</td>\n",
       "      <td>0.0</td>\n",
       "      <td>0.0</td>\n",
       "      <td>0.0</td>\n",
       "      <td>0.0</td>\n",
       "      <td>0.0</td>\n",
       "      <td>0.0</td>\n",
       "      <td>0.0</td>\n",
       "      <td>0.0</td>\n",
       "      <td>0.0</td>\n",
       "      <td>0.0</td>\n",
       "      <td>0.0</td>\n",
       "      <td>0.0</td>\n",
       "      <td>0.0</td>\n",
       "      <td>0.0</td>\n",
       "      <td>0.0</td>\n",
       "      <td>1.0</td>\n",
       "      <td>0.0</td>\n",
       "      <td>0.0</td>\n",
       "      <td>0.0</td>\n",
       "      <td>0.0</td>\n",
       "      <td>0.0</td>\n",
       "    </tr>\n",
       "    <tr>\n",
       "      <th>4</th>\n",
       "      <td>0.000901</td>\n",
       "      <td>0.000000</td>\n",
       "      <td>0.160027</td>\n",
       "      <td>0.000000</td>\n",
       "      <td>0.000000</td>\n",
       "      <td>0.000000</td>\n",
       "      <td>0.737299</td>\n",
       "      <td>0.280170</td>\n",
       "      <td>0.204618</td>\n",
       "      <td>0.927625</td>\n",
       "      <td>0.0</td>\n",
       "      <td>0.0</td>\n",
       "      <td>0.0</td>\n",
       "      <td>0.0</td>\n",
       "      <td>0.0</td>\n",
       "      <td>0.0</td>\n",
       "      <td>0.0</td>\n",
       "      <td>0.0</td>\n",
       "      <td>0.0</td>\n",
       "      <td>0.0</td>\n",
       "      <td>0.0</td>\n",
       "      <td>1.0</td>\n",
       "      <td>0.0</td>\n",
       "      <td>0.0</td>\n",
       "      <td>0.0</td>\n",
       "      <td>0.0</td>\n",
       "      <td>0.0</td>\n",
       "      <td>0.0</td>\n",
       "      <td>0.0</td>\n",
       "      <td>0.0</td>\n",
       "      <td>0.0</td>\n",
       "      <td>0.0</td>\n",
       "      <td>0.0</td>\n",
       "      <td>0.0</td>\n",
       "      <td>0.0</td>\n",
       "      <td>0.0</td>\n",
       "      <td>0.0</td>\n",
       "      <td>0.0</td>\n",
       "      <td>0.0</td>\n",
       "      <td>0.0</td>\n",
       "      <td>0.0</td>\n",
       "      <td>0.0</td>\n",
       "      <td>0.0</td>\n",
       "      <td>0.0</td>\n",
       "      <td>0.0</td>\n",
       "      <td>0.0</td>\n",
       "      <td>0.0</td>\n",
       "      <td>0.0</td>\n",
       "      <td>0.0</td>\n",
       "      <td>1.0</td>\n",
       "      <td>0.0</td>\n",
       "      <td>0.0</td>\n",
       "      <td>0.0</td>\n",
       "      <td>0.0</td>\n",
       "      <td>0.0</td>\n",
       "    </tr>\n",
       "    <tr>\n",
       "      <th>...</th>\n",
       "      <td>...</td>\n",
       "      <td>...</td>\n",
       "      <td>...</td>\n",
       "      <td>...</td>\n",
       "      <td>...</td>\n",
       "      <td>...</td>\n",
       "      <td>...</td>\n",
       "      <td>...</td>\n",
       "      <td>...</td>\n",
       "      <td>...</td>\n",
       "      <td>...</td>\n",
       "      <td>...</td>\n",
       "      <td>...</td>\n",
       "      <td>...</td>\n",
       "      <td>...</td>\n",
       "      <td>...</td>\n",
       "      <td>...</td>\n",
       "      <td>...</td>\n",
       "      <td>...</td>\n",
       "      <td>...</td>\n",
       "      <td>...</td>\n",
       "      <td>...</td>\n",
       "      <td>...</td>\n",
       "      <td>...</td>\n",
       "      <td>...</td>\n",
       "      <td>...</td>\n",
       "      <td>...</td>\n",
       "      <td>...</td>\n",
       "      <td>...</td>\n",
       "      <td>...</td>\n",
       "      <td>...</td>\n",
       "      <td>...</td>\n",
       "      <td>...</td>\n",
       "      <td>...</td>\n",
       "      <td>...</td>\n",
       "      <td>...</td>\n",
       "      <td>...</td>\n",
       "      <td>...</td>\n",
       "      <td>...</td>\n",
       "      <td>...</td>\n",
       "      <td>...</td>\n",
       "      <td>...</td>\n",
       "      <td>...</td>\n",
       "      <td>...</td>\n",
       "      <td>...</td>\n",
       "      <td>...</td>\n",
       "      <td>...</td>\n",
       "      <td>...</td>\n",
       "      <td>...</td>\n",
       "      <td>...</td>\n",
       "      <td>...</td>\n",
       "      <td>...</td>\n",
       "      <td>...</td>\n",
       "      <td>...</td>\n",
       "      <td>...</td>\n",
       "    </tr>\n",
       "    <tr>\n",
       "      <th>17895</th>\n",
       "      <td>0.998543</td>\n",
       "      <td>0.000000</td>\n",
       "      <td>0.001374</td>\n",
       "      <td>0.000000</td>\n",
       "      <td>0.000000</td>\n",
       "      <td>0.000000</td>\n",
       "      <td>0.000000</td>\n",
       "      <td>0.080000</td>\n",
       "      <td>0.058281</td>\n",
       "      <td>0.927914</td>\n",
       "      <td>0.0</td>\n",
       "      <td>0.0</td>\n",
       "      <td>0.0</td>\n",
       "      <td>0.0</td>\n",
       "      <td>1.0</td>\n",
       "      <td>0.0</td>\n",
       "      <td>0.0</td>\n",
       "      <td>0.0</td>\n",
       "      <td>0.0</td>\n",
       "      <td>0.0</td>\n",
       "      <td>0.0</td>\n",
       "      <td>0.0</td>\n",
       "      <td>0.0</td>\n",
       "      <td>0.0</td>\n",
       "      <td>0.0</td>\n",
       "      <td>0.0</td>\n",
       "      <td>0.0</td>\n",
       "      <td>0.0</td>\n",
       "      <td>0.0</td>\n",
       "      <td>0.0</td>\n",
       "      <td>0.0</td>\n",
       "      <td>0.0</td>\n",
       "      <td>1.0</td>\n",
       "      <td>0.0</td>\n",
       "      <td>0.0</td>\n",
       "      <td>0.0</td>\n",
       "      <td>0.0</td>\n",
       "      <td>0.0</td>\n",
       "      <td>0.0</td>\n",
       "      <td>0.0</td>\n",
       "      <td>0.0</td>\n",
       "      <td>0.0</td>\n",
       "      <td>0.0</td>\n",
       "      <td>0.0</td>\n",
       "      <td>0.0</td>\n",
       "      <td>0.0</td>\n",
       "      <td>0.0</td>\n",
       "      <td>0.0</td>\n",
       "      <td>0.0</td>\n",
       "      <td>0.0</td>\n",
       "      <td>0.0</td>\n",
       "      <td>0.0</td>\n",
       "      <td>0.0</td>\n",
       "      <td>0.0</td>\n",
       "      <td>0.0</td>\n",
       "    </tr>\n",
       "    <tr>\n",
       "      <th>17896</th>\n",
       "      <td>0.998675</td>\n",
       "      <td>0.671181</td>\n",
       "      <td>0.004121</td>\n",
       "      <td>0.000000</td>\n",
       "      <td>0.000000</td>\n",
       "      <td>0.000000</td>\n",
       "      <td>0.000000</td>\n",
       "      <td>0.300000</td>\n",
       "      <td>0.218954</td>\n",
       "      <td>0.927702</td>\n",
       "      <td>0.0</td>\n",
       "      <td>0.0</td>\n",
       "      <td>0.0</td>\n",
       "      <td>0.0</td>\n",
       "      <td>0.0</td>\n",
       "      <td>0.0</td>\n",
       "      <td>0.0</td>\n",
       "      <td>0.0</td>\n",
       "      <td>0.0</td>\n",
       "      <td>0.0</td>\n",
       "      <td>0.0</td>\n",
       "      <td>0.0</td>\n",
       "      <td>0.0</td>\n",
       "      <td>0.0</td>\n",
       "      <td>0.0</td>\n",
       "      <td>0.0</td>\n",
       "      <td>0.0</td>\n",
       "      <td>0.0</td>\n",
       "      <td>0.0</td>\n",
       "      <td>0.0</td>\n",
       "      <td>1.0</td>\n",
       "      <td>0.0</td>\n",
       "      <td>0.0</td>\n",
       "      <td>0.0</td>\n",
       "      <td>0.0</td>\n",
       "      <td>0.0</td>\n",
       "      <td>0.0</td>\n",
       "      <td>0.0</td>\n",
       "      <td>0.0</td>\n",
       "      <td>0.0</td>\n",
       "      <td>0.0</td>\n",
       "      <td>0.0</td>\n",
       "      <td>0.0</td>\n",
       "      <td>0.0</td>\n",
       "      <td>0.0</td>\n",
       "      <td>0.0</td>\n",
       "      <td>0.0</td>\n",
       "      <td>0.0</td>\n",
       "      <td>0.0</td>\n",
       "      <td>1.0</td>\n",
       "      <td>0.0</td>\n",
       "      <td>0.0</td>\n",
       "      <td>0.0</td>\n",
       "      <td>0.0</td>\n",
       "      <td>0.0</td>\n",
       "    </tr>\n",
       "    <tr>\n",
       "      <th>17897</th>\n",
       "      <td>0.998794</td>\n",
       "      <td>0.289874</td>\n",
       "      <td>0.000687</td>\n",
       "      <td>0.000000</td>\n",
       "      <td>0.000000</td>\n",
       "      <td>0.000000</td>\n",
       "      <td>0.000000</td>\n",
       "      <td>0.080000</td>\n",
       "      <td>0.058281</td>\n",
       "      <td>0.927914</td>\n",
       "      <td>0.0</td>\n",
       "      <td>0.0</td>\n",
       "      <td>0.0</td>\n",
       "      <td>0.0</td>\n",
       "      <td>0.0</td>\n",
       "      <td>0.0</td>\n",
       "      <td>0.0</td>\n",
       "      <td>0.0</td>\n",
       "      <td>0.0</td>\n",
       "      <td>0.0</td>\n",
       "      <td>0.0</td>\n",
       "      <td>0.0</td>\n",
       "      <td>0.0</td>\n",
       "      <td>0.0</td>\n",
       "      <td>0.0</td>\n",
       "      <td>0.0</td>\n",
       "      <td>0.0</td>\n",
       "      <td>0.0</td>\n",
       "      <td>0.0</td>\n",
       "      <td>1.0</td>\n",
       "      <td>0.0</td>\n",
       "      <td>0.0</td>\n",
       "      <td>0.0</td>\n",
       "      <td>0.0</td>\n",
       "      <td>0.0</td>\n",
       "      <td>0.0</td>\n",
       "      <td>0.0</td>\n",
       "      <td>0.0</td>\n",
       "      <td>0.0</td>\n",
       "      <td>0.0</td>\n",
       "      <td>0.0</td>\n",
       "      <td>0.0</td>\n",
       "      <td>0.0</td>\n",
       "      <td>0.0</td>\n",
       "      <td>0.0</td>\n",
       "      <td>0.0</td>\n",
       "      <td>0.0</td>\n",
       "      <td>0.0</td>\n",
       "      <td>0.0</td>\n",
       "      <td>0.0</td>\n",
       "      <td>0.0</td>\n",
       "      <td>0.0</td>\n",
       "      <td>1.0</td>\n",
       "      <td>0.0</td>\n",
       "      <td>0.0</td>\n",
       "    </tr>\n",
       "    <tr>\n",
       "      <th>17898</th>\n",
       "      <td>0.999059</td>\n",
       "      <td>0.272960</td>\n",
       "      <td>0.000687</td>\n",
       "      <td>0.000000</td>\n",
       "      <td>0.000000</td>\n",
       "      <td>0.000000</td>\n",
       "      <td>0.000000</td>\n",
       "      <td>0.080000</td>\n",
       "      <td>0.058281</td>\n",
       "      <td>0.927914</td>\n",
       "      <td>0.0</td>\n",
       "      <td>0.0</td>\n",
       "      <td>0.0</td>\n",
       "      <td>0.0</td>\n",
       "      <td>0.0</td>\n",
       "      <td>0.0</td>\n",
       "      <td>0.0</td>\n",
       "      <td>0.0</td>\n",
       "      <td>0.0</td>\n",
       "      <td>0.0</td>\n",
       "      <td>0.0</td>\n",
       "      <td>0.0</td>\n",
       "      <td>0.0</td>\n",
       "      <td>0.0</td>\n",
       "      <td>0.0</td>\n",
       "      <td>0.0</td>\n",
       "      <td>0.0</td>\n",
       "      <td>0.0</td>\n",
       "      <td>0.0</td>\n",
       "      <td>0.0</td>\n",
       "      <td>1.0</td>\n",
       "      <td>0.0</td>\n",
       "      <td>0.0</td>\n",
       "      <td>0.0</td>\n",
       "      <td>0.0</td>\n",
       "      <td>0.0</td>\n",
       "      <td>0.0</td>\n",
       "      <td>0.0</td>\n",
       "      <td>0.0</td>\n",
       "      <td>0.0</td>\n",
       "      <td>0.0</td>\n",
       "      <td>0.0</td>\n",
       "      <td>0.0</td>\n",
       "      <td>0.0</td>\n",
       "      <td>0.0</td>\n",
       "      <td>0.0</td>\n",
       "      <td>0.0</td>\n",
       "      <td>0.0</td>\n",
       "      <td>0.0</td>\n",
       "      <td>0.0</td>\n",
       "      <td>0.0</td>\n",
       "      <td>0.0</td>\n",
       "      <td>1.0</td>\n",
       "      <td>0.0</td>\n",
       "      <td>0.0</td>\n",
       "    </tr>\n",
       "    <tr>\n",
       "      <th>17899</th>\n",
       "      <td>1.000000</td>\n",
       "      <td>0.000000</td>\n",
       "      <td>0.000000</td>\n",
       "      <td>0.000000</td>\n",
       "      <td>0.000000</td>\n",
       "      <td>0.000000</td>\n",
       "      <td>0.000000</td>\n",
       "      <td>0.080000</td>\n",
       "      <td>0.058281</td>\n",
       "      <td>0.927914</td>\n",
       "      <td>0.0</td>\n",
       "      <td>0.0</td>\n",
       "      <td>0.0</td>\n",
       "      <td>0.0</td>\n",
       "      <td>0.0</td>\n",
       "      <td>1.0</td>\n",
       "      <td>0.0</td>\n",
       "      <td>0.0</td>\n",
       "      <td>0.0</td>\n",
       "      <td>0.0</td>\n",
       "      <td>0.0</td>\n",
       "      <td>0.0</td>\n",
       "      <td>0.0</td>\n",
       "      <td>0.0</td>\n",
       "      <td>0.0</td>\n",
       "      <td>0.0</td>\n",
       "      <td>0.0</td>\n",
       "      <td>0.0</td>\n",
       "      <td>0.0</td>\n",
       "      <td>0.0</td>\n",
       "      <td>0.0</td>\n",
       "      <td>0.0</td>\n",
       "      <td>1.0</td>\n",
       "      <td>0.0</td>\n",
       "      <td>0.0</td>\n",
       "      <td>0.0</td>\n",
       "      <td>0.0</td>\n",
       "      <td>0.0</td>\n",
       "      <td>0.0</td>\n",
       "      <td>0.0</td>\n",
       "      <td>0.0</td>\n",
       "      <td>0.0</td>\n",
       "      <td>0.0</td>\n",
       "      <td>0.0</td>\n",
       "      <td>0.0</td>\n",
       "      <td>0.0</td>\n",
       "      <td>0.0</td>\n",
       "      <td>0.0</td>\n",
       "      <td>0.0</td>\n",
       "      <td>0.0</td>\n",
       "      <td>0.0</td>\n",
       "      <td>0.0</td>\n",
       "      <td>0.0</td>\n",
       "      <td>0.0</td>\n",
       "      <td>0.0</td>\n",
       "    </tr>\n",
       "  </tbody>\n",
       "</table>\n",
       "<p>17900 rows × 55 columns</p>\n",
       "</div>"
      ],
      "text/plain": [
       "       store_id  parent_chain_id  occurence  no_meals_refunded  \\\n",
       "0      0.000000         0.000000   0.188874           0.016216   \n",
       "1      0.000238         0.192630   0.224588           0.000000   \n",
       "2      0.000861         0.000000   0.164148           0.005405   \n",
       "3      0.000888         0.000000   0.160714           0.000000   \n",
       "4      0.000901         0.000000   0.160027           0.000000   \n",
       "...         ...              ...        ...                ...   \n",
       "17895  0.998543         0.000000   0.001374           0.000000   \n",
       "17896  0.998675         0.671181   0.004121           0.000000   \n",
       "17897  0.998794         0.289874   0.000687           0.000000   \n",
       "17898  0.999059         0.272960   0.000687           0.000000   \n",
       "17899  1.000000         0.000000   0.000000           0.000000   \n",
       "\n",
       "       no_store_cancellation  no_consumer_cancellation  \\\n",
       "0                   0.005096                  0.031933   \n",
       "1                   0.000566                  0.001681   \n",
       "2                   0.003964                  0.000000   \n",
       "3                   0.002831                  0.000000   \n",
       "4                   0.000000                  0.000000   \n",
       "...                      ...                       ...   \n",
       "17895               0.000000                  0.000000   \n",
       "17896               0.000000                  0.000000   \n",
       "17897               0.000000                  0.000000   \n",
       "17898               0.000000                  0.000000   \n",
       "17899               0.000000                  0.000000   \n",
       "\n",
       "       proportion_of_target_hit  before_price_mean  price_mean  reduction  \\\n",
       "0                      0.202259           0.080000    0.058281   0.927914   \n",
       "1                      0.227055           0.080669    0.059257   0.926953   \n",
       "2                      0.000000           0.280166    0.204615   0.927625   \n",
       "3                      0.000000           0.280000    0.204494   0.927625   \n",
       "4                      0.737299           0.280170    0.204618   0.927625   \n",
       "...                         ...                ...         ...        ...   \n",
       "17895                  0.000000           0.080000    0.058281   0.927914   \n",
       "17896                  0.000000           0.300000    0.218954   0.927702   \n",
       "17897                  0.000000           0.080000    0.058281   0.927914   \n",
       "17898                  0.000000           0.080000    0.058281   0.927914   \n",
       "17899                  0.000000           0.080000    0.058281   0.927914   \n",
       "\n",
       "       store_region_Alsace  store_region_Aquitaine  store_region_Auvergne  \\\n",
       "0                      0.0                     0.0                    0.0   \n",
       "1                      0.0                     0.0                    0.0   \n",
       "2                      0.0                     0.0                    0.0   \n",
       "3                      0.0                     0.0                    0.0   \n",
       "4                      0.0                     0.0                    0.0   \n",
       "...                    ...                     ...                    ...   \n",
       "17895                  0.0                     0.0                    0.0   \n",
       "17896                  0.0                     0.0                    0.0   \n",
       "17897                  0.0                     0.0                    0.0   \n",
       "17898                  0.0                     0.0                    0.0   \n",
       "17899                  0.0                     0.0                    0.0   \n",
       "\n",
       "       store_region_Basse-Normandie  store_region_Bourgogne  \\\n",
       "0                               0.0                     0.0   \n",
       "1                               0.0                     0.0   \n",
       "2                               0.0                     0.0   \n",
       "3                               0.0                     0.0   \n",
       "4                               0.0                     0.0   \n",
       "...                             ...                     ...   \n",
       "17895                           0.0                     1.0   \n",
       "17896                           0.0                     0.0   \n",
       "17897                           0.0                     0.0   \n",
       "17898                           0.0                     0.0   \n",
       "17899                           0.0                     0.0   \n",
       "\n",
       "       store_region_Bretagne  store_region_Centre - Val De Loire  \\\n",
       "0                        0.0                                 0.0   \n",
       "1                        0.0                                 0.0   \n",
       "2                        0.0                                 0.0   \n",
       "3                        0.0                                 0.0   \n",
       "4                        0.0                                 0.0   \n",
       "...                      ...                                 ...   \n",
       "17895                    0.0                                 0.0   \n",
       "17896                    0.0                                 0.0   \n",
       "17897                    0.0                                 0.0   \n",
       "17898                    0.0                                 0.0   \n",
       "17899                    1.0                                 0.0   \n",
       "\n",
       "       store_region_Champagne-Ardenne  store_region_Corse  \\\n",
       "0                                 0.0                 0.0   \n",
       "1                                 0.0                 0.0   \n",
       "2                                 0.0                 0.0   \n",
       "3                                 0.0                 0.0   \n",
       "4                                 0.0                 0.0   \n",
       "...                               ...                 ...   \n",
       "17895                             0.0                 0.0   \n",
       "17896                             0.0                 0.0   \n",
       "17897                             0.0                 0.0   \n",
       "17898                             0.0                 0.0   \n",
       "17899                             0.0                 0.0   \n",
       "\n",
       "       store_region_Franche-Comté  store_region_Haute-Normandie  \\\n",
       "0                             0.0                           0.0   \n",
       "1                             0.0                           0.0   \n",
       "2                             0.0                           0.0   \n",
       "3                             0.0                           0.0   \n",
       "4                             0.0                           0.0   \n",
       "...                           ...                           ...   \n",
       "17895                         0.0                           0.0   \n",
       "17896                         0.0                           0.0   \n",
       "17897                         0.0                           0.0   \n",
       "17898                         0.0                           0.0   \n",
       "17899                         0.0                           0.0   \n",
       "\n",
       "       store_region_Ile-De-France  store_region_Languedoc-Roussillon  \\\n",
       "0                             1.0                                0.0   \n",
       "1                             1.0                                0.0   \n",
       "2                             1.0                                0.0   \n",
       "3                             1.0                                0.0   \n",
       "4                             1.0                                0.0   \n",
       "...                           ...                                ...   \n",
       "17895                         0.0                                0.0   \n",
       "17896                         0.0                                0.0   \n",
       "17897                         0.0                                0.0   \n",
       "17898                         0.0                                0.0   \n",
       "17899                         0.0                                0.0   \n",
       "\n",
       "       store_region_Limousin  store_region_Lorraine  \\\n",
       "0                        0.0                    0.0   \n",
       "1                        0.0                    0.0   \n",
       "2                        0.0                    0.0   \n",
       "3                        0.0                    0.0   \n",
       "4                        0.0                    0.0   \n",
       "...                      ...                    ...   \n",
       "17895                    0.0                    0.0   \n",
       "17896                    0.0                    0.0   \n",
       "17897                    0.0                    0.0   \n",
       "17898                    0.0                    0.0   \n",
       "17899                    0.0                    0.0   \n",
       "\n",
       "       store_region_Midi-Pyrénées  store_region_Nord-Pas De Calais  \\\n",
       "0                             0.0                              0.0   \n",
       "1                             0.0                              0.0   \n",
       "2                             0.0                              0.0   \n",
       "3                             0.0                              0.0   \n",
       "4                             0.0                              0.0   \n",
       "...                           ...                              ...   \n",
       "17895                         0.0                              0.0   \n",
       "17896                         0.0                              0.0   \n",
       "17897                         0.0                              0.0   \n",
       "17898                         0.0                              0.0   \n",
       "17899                         0.0                              0.0   \n",
       "\n",
       "       store_region_Pays De La Loire  store_region_Picardie  \\\n",
       "0                                0.0                    0.0   \n",
       "1                                0.0                    0.0   \n",
       "2                                0.0                    0.0   \n",
       "3                                0.0                    0.0   \n",
       "4                                0.0                    0.0   \n",
       "...                              ...                    ...   \n",
       "17895                            0.0                    0.0   \n",
       "17896                            0.0                    0.0   \n",
       "17897                            0.0                    0.0   \n",
       "17898                            0.0                    0.0   \n",
       "17899                            0.0                    0.0   \n",
       "\n",
       "       store_region_Poitou-Charentes  store_region_Provence-Alpes-Côte D’Azur  \\\n",
       "0                                0.0                                      0.0   \n",
       "1                                0.0                                      0.0   \n",
       "2                                0.0                                      0.0   \n",
       "3                                0.0                                      0.0   \n",
       "4                                0.0                                      0.0   \n",
       "...                              ...                                      ...   \n",
       "17895                            0.0                                      0.0   \n",
       "17896                            0.0                                      1.0   \n",
       "17897                            1.0                                      0.0   \n",
       "17898                            0.0                                      1.0   \n",
       "17899                            0.0                                      0.0   \n",
       "\n",
       "       store_region_Rhône-Alpes  store_segment_Bakery  \\\n",
       "0                           0.0                   1.0   \n",
       "1                           0.0                   0.0   \n",
       "2                           0.0                   0.0   \n",
       "3                           0.0                   0.0   \n",
       "4                           0.0                   0.0   \n",
       "...                         ...                   ...   \n",
       "17895                       0.0                   1.0   \n",
       "17896                       0.0                   0.0   \n",
       "17897                       0.0                   0.0   \n",
       "17898                       0.0                   0.0   \n",
       "17899                       0.0                   1.0   \n",
       "\n",
       "       store_segment_Beverages  store_segment_Buffet  store_segment_Butcher  \\\n",
       "0                          0.0                   0.0                    0.0   \n",
       "1                          0.0                   0.0                    0.0   \n",
       "2                          0.0                   0.0                    0.0   \n",
       "3                          0.0                   0.0                    0.0   \n",
       "4                          0.0                   0.0                    0.0   \n",
       "...                        ...                   ...                    ...   \n",
       "17895                      0.0                   0.0                    0.0   \n",
       "17896                      0.0                   0.0                    0.0   \n",
       "17897                      0.0                   0.0                    0.0   \n",
       "17898                      0.0                   0.0                    0.0   \n",
       "17899                      0.0                   0.0                    0.0   \n",
       "\n",
       "       store_segment_Cafeteria  store_segment_Canteen  store_segment_Caterer  \\\n",
       "0                          0.0                    0.0                    0.0   \n",
       "1                          0.0                    0.0                    0.0   \n",
       "2                          0.0                    0.0                    0.0   \n",
       "3                          0.0                    0.0                    0.0   \n",
       "4                          0.0                    0.0                    0.0   \n",
       "...                        ...                    ...                    ...   \n",
       "17895                      0.0                    0.0                    0.0   \n",
       "17896                      0.0                    0.0                    0.0   \n",
       "17897                      0.0                    0.0                    0.0   \n",
       "17898                      0.0                    0.0                    0.0   \n",
       "17899                      0.0                    0.0                    0.0   \n",
       "\n",
       "       store_segment_Fast Food / Take away restaurant  \\\n",
       "0                                                 0.0   \n",
       "1                                                 0.0   \n",
       "2                                                 0.0   \n",
       "3                                                 0.0   \n",
       "4                                                 0.0   \n",
       "...                                               ...   \n",
       "17895                                             0.0   \n",
       "17896                                             0.0   \n",
       "17897                                             0.0   \n",
       "17898                                             0.0   \n",
       "17899                                             0.0   \n",
       "\n",
       "       store_segment_Fish shop  store_segment_Florist  \\\n",
       "0                          0.0                    0.0   \n",
       "1                          0.0                    0.0   \n",
       "2                          0.0                    0.0   \n",
       "3                          0.0                    0.0   \n",
       "4                          0.0                    0.0   \n",
       "...                        ...                    ...   \n",
       "17895                      0.0                    0.0   \n",
       "17896                      0.0                    0.0   \n",
       "17897                      0.0                    0.0   \n",
       "17898                      0.0                    0.0   \n",
       "17899                      0.0                    0.0   \n",
       "\n",
       "       store_segment_Fruits & vegetables store  store_segment_Gas station  \\\n",
       "0                                          0.0                        0.0   \n",
       "1                                          0.0                        0.0   \n",
       "2                                          0.0                        0.0   \n",
       "3                                          0.0                        0.0   \n",
       "4                                          0.0                        0.0   \n",
       "...                                        ...                        ...   \n",
       "17895                                      0.0                        0.0   \n",
       "17896                                      0.0                        0.0   \n",
       "17897                                      0.0                        0.0   \n",
       "17898                                      0.0                        0.0   \n",
       "17899                                      0.0                        0.0   \n",
       "\n",
       "       store_segment_Hotel  store_segment_Manufacturer  \\\n",
       "0                      0.0                         0.0   \n",
       "1                      0.0                         0.0   \n",
       "2                      0.0                         0.0   \n",
       "3                      0.0                         0.0   \n",
       "4                      0.0                         0.0   \n",
       "...                    ...                         ...   \n",
       "17895                  0.0                         0.0   \n",
       "17896                  0.0                         0.0   \n",
       "17897                  0.0                         0.0   \n",
       "17898                  0.0                         0.0   \n",
       "17899                  0.0                         0.0   \n",
       "\n",
       "       store_segment_Market stall  store_segment_Other  \\\n",
       "0                             0.0                  0.0   \n",
       "1                             0.0                  0.0   \n",
       "2                             0.0                  0.0   \n",
       "3                             0.0                  0.0   \n",
       "4                             0.0                  0.0   \n",
       "...                           ...                  ...   \n",
       "17895                         0.0                  0.0   \n",
       "17896                         0.0                  0.0   \n",
       "17897                         0.0                  0.0   \n",
       "17898                         0.0                  0.0   \n",
       "17899                         0.0                  0.0   \n",
       "\n",
       "       store_segment_Other Specialists  store_segment_Pastry  \\\n",
       "0                                  0.0                   0.0   \n",
       "1                                  0.0                   0.0   \n",
       "2                                  0.0                   1.0   \n",
       "3                                  0.0                   1.0   \n",
       "4                                  0.0                   1.0   \n",
       "...                                ...                   ...   \n",
       "17895                              0.0                   0.0   \n",
       "17896                              0.0                   1.0   \n",
       "17897                              0.0                   0.0   \n",
       "17898                              0.0                   0.0   \n",
       "17899                              0.0                   0.0   \n",
       "\n",
       "       store_segment_Supermarket Big  store_segment_Supermarket Medium  \\\n",
       "0                                0.0                               0.0   \n",
       "1                                1.0                               0.0   \n",
       "2                                0.0                               0.0   \n",
       "3                                0.0                               0.0   \n",
       "4                                0.0                               0.0   \n",
       "...                              ...                               ...   \n",
       "17895                            0.0                               0.0   \n",
       "17896                            0.0                               0.0   \n",
       "17897                            0.0                               0.0   \n",
       "17898                            0.0                               0.0   \n",
       "17899                            0.0                               0.0   \n",
       "\n",
       "       store_segment_Supermarket Small  store_segment_Sushi  \\\n",
       "0                                  0.0                  0.0   \n",
       "1                                  0.0                  0.0   \n",
       "2                                  0.0                  0.0   \n",
       "3                                  0.0                  0.0   \n",
       "4                                  0.0                  0.0   \n",
       "...                                ...                  ...   \n",
       "17895                              0.0                  0.0   \n",
       "17896                              0.0                  0.0   \n",
       "17897                              1.0                  0.0   \n",
       "17898                              1.0                  0.0   \n",
       "17899                              0.0                  0.0   \n",
       "\n",
       "       store_segment_Traditional Restaurant  \n",
       "0                                       0.0  \n",
       "1                                       0.0  \n",
       "2                                       0.0  \n",
       "3                                       0.0  \n",
       "4                                       0.0  \n",
       "...                                     ...  \n",
       "17895                                   0.0  \n",
       "17896                                   0.0  \n",
       "17897                                   0.0  \n",
       "17898                                   0.0  \n",
       "17899                                   0.0  \n",
       "\n",
       "[17900 rows x 55 columns]"
      ]
     },
     "execution_count": 508,
     "metadata": {},
     "output_type": "execute_result"
    }
   ],
   "source": [
    "df1"
   ]
  },
  {
   "cell_type": "code",
   "execution_count": 509,
   "metadata": {},
   "outputs": [],
   "source": [
    "y = df1[['proportion_of_target_hit']]\n",
    "X = df1.drop(columns = ['proportion_of_target_hit'])\n",
    "\n",
    "# On choisit un échantillon de validation de 20 %\n",
    "\n",
    "X_train, X_test, y_train, y_test = train_test_split(X,y,test_size = 0.2)"
   ]
  },
  {
   "cell_type": "code",
   "execution_count": 510,
   "metadata": {},
   "outputs": [
    {
     "data": {
      "text/html": [
       "<div>\n",
       "<style scoped>\n",
       "    .dataframe tbody tr th:only-of-type {\n",
       "        vertical-align: middle;\n",
       "    }\n",
       "\n",
       "    .dataframe tbody tr th {\n",
       "        vertical-align: top;\n",
       "    }\n",
       "\n",
       "    .dataframe thead th {\n",
       "        text-align: right;\n",
       "    }\n",
       "</style>\n",
       "<table border=\"1\" class=\"dataframe\">\n",
       "  <thead>\n",
       "    <tr style=\"text-align: right;\">\n",
       "      <th></th>\n",
       "      <th>proportion_of_target_hit</th>\n",
       "    </tr>\n",
       "  </thead>\n",
       "  <tbody>\n",
       "    <tr>\n",
       "      <th>8853</th>\n",
       "      <td>0.171375</td>\n",
       "    </tr>\n",
       "    <tr>\n",
       "      <th>16988</th>\n",
       "      <td>0.282959</td>\n",
       "    </tr>\n",
       "    <tr>\n",
       "      <th>15559</th>\n",
       "      <td>0.103065</td>\n",
       "    </tr>\n",
       "    <tr>\n",
       "      <th>11946</th>\n",
       "      <td>0.000000</td>\n",
       "    </tr>\n",
       "    <tr>\n",
       "      <th>1217</th>\n",
       "      <td>0.884006</td>\n",
       "    </tr>\n",
       "    <tr>\n",
       "      <th>16180</th>\n",
       "      <td>0.180851</td>\n",
       "    </tr>\n",
       "    <tr>\n",
       "      <th>14913</th>\n",
       "      <td>0.073303</td>\n",
       "    </tr>\n",
       "    <tr>\n",
       "      <th>7063</th>\n",
       "      <td>0.000000</td>\n",
       "    </tr>\n",
       "    <tr>\n",
       "      <th>10921</th>\n",
       "      <td>0.462934</td>\n",
       "    </tr>\n",
       "    <tr>\n",
       "      <th>12272</th>\n",
       "      <td>0.209835</td>\n",
       "    </tr>\n",
       "  </tbody>\n",
       "</table>\n",
       "</div>"
      ],
      "text/plain": [
       "       proportion_of_target_hit\n",
       "8853                   0.171375\n",
       "16988                  0.282959\n",
       "15559                  0.103065\n",
       "11946                  0.000000\n",
       "1217                   0.884006\n",
       "16180                  0.180851\n",
       "14913                  0.073303\n",
       "7063                   0.000000\n",
       "10921                  0.462934\n",
       "12272                  0.209835"
      ]
     },
     "execution_count": 510,
     "metadata": {},
     "output_type": "execute_result"
    }
   ],
   "source": [
    "y.sample(10)"
   ]
  },
  {
   "cell_type": "code",
   "execution_count": 511,
   "metadata": {},
   "outputs": [],
   "source": [
    "lin_reg = LinearRegression().fit(X_train, y_train)\n",
    "\n",
    "# On prédit à partir de l'échantillon de test pour calculer les scores\n",
    "\n",
    "y_pred = lin_reg.predict(X_test)"
   ]
  },
  {
   "cell_type": "code",
   "execution_count": 512,
   "metadata": {},
   "outputs": [
    {
     "data": {
      "application/vnd.plotly.v1+json": {
       "config": {
        "plotlyServerURL": "https://plot.ly"
       },
       "data": [
        {
         "alignmentgroup": "True",
         "bingroup": "x",
         "histfunc": "sum",
         "hovertemplate": "variable=%{x}<br>sum of coeff=%{y}<extra></extra>",
         "legendgroup": "",
         "marker": {
          "color": "#636efa"
         },
         "name": "",
         "offsetgroup": "",
         "orientation": "v",
         "showlegend": false,
         "type": "histogram",
         "x": [
          "store_id",
          "parent_chain_id",
          "occurence",
          "no_meals_refunded",
          "no_store_cancellation",
          "no_consumer_cancellation",
          "before_price_mean",
          "price_mean",
          "reduction",
          "store_region_Alsace",
          "store_region_Aquitaine",
          "store_region_Auvergne",
          "store_region_Basse-Normandie",
          "store_region_Bourgogne",
          "store_region_Bretagne",
          "store_region_Centre - Val De Loire",
          "store_region_Champagne-Ardenne",
          "store_region_Corse",
          "store_region_Franche-Comté",
          "store_region_Haute-Normandie",
          "store_region_Ile-De-France",
          "store_region_Languedoc-Roussillon",
          "store_region_Limousin",
          "store_region_Lorraine",
          "store_region_Midi-Pyrénées",
          "store_region_Nord-Pas De Calais",
          "store_region_Pays De La Loire",
          "store_region_Picardie",
          "store_region_Poitou-Charentes",
          "store_region_Provence-Alpes-Côte D’Azur",
          "store_region_Rhône-Alpes",
          "store_segment_Bakery",
          "store_segment_Beverages",
          "store_segment_Buffet",
          "store_segment_Butcher",
          "store_segment_Cafeteria",
          "store_segment_Canteen",
          "store_segment_Caterer",
          "store_segment_Fast Food / Take away restaurant",
          "store_segment_Fish shop",
          "store_segment_Florist",
          "store_segment_Fruits & vegetables store",
          "store_segment_Gas station",
          "store_segment_Hotel",
          "store_segment_Manufacturer",
          "store_segment_Market stall",
          "store_segment_Other",
          "store_segment_Other Specialists",
          "store_segment_Pastry",
          "store_segment_Supermarket Big",
          "store_segment_Supermarket Medium",
          "store_segment_Supermarket Small",
          "store_segment_Sushi"
         ],
         "xaxis": "x",
         "y": [
          -0.764996598096359,
          -0.11893391151097454,
          -1.4187375847921144,
          -0.5982241194497044,
          -0.1067262102240723,
          -0.7838534231187673,
          0.46840107369800454,
          -0.2521596421368997,
          -0.41190600025897883,
          0.060041869092223255,
          0.04048044838152473,
          0.03505019077819099,
          0.007249512665917035,
          0.014080454811136248,
          0.009802741567134982,
          0.007997994665117317,
          0.027020736331179296,
          -0.06935983404848177,
          0.010469479815128652,
          0.03413960585277716,
          0.0694056346741477,
          0.03481770792728982,
          -0.016356850773475727,
          0.02567698147202134,
          0.022304730790621487,
          0.02794681548863466,
          0.0076396935109674866,
          0.01492759199589911,
          0.03674553199420945,
          0.03582148801733698,
          0.03492385545923968,
          -0.23132102738486782,
          0.0006272573066123596,
          -0.12849553641785155,
          -0.17521821137275193,
          -0.10368682498128157,
          0.06570465336035988,
          -0.03796387259503676,
          -0.16511799870348895,
          -0.10061491037215926,
          -0.14666855483773328,
          -0.21314935957266004,
          -0.210801821301152,
          -0.21323757017309067,
          -0.17007436267184403,
          -0.2124711428995754,
          -0.11557009275171348,
          -0.10474851669237856,
          -0.13578409624989238,
          -0.13505319843304384,
          -0.18394374473525313,
          -0.24507003402635807,
          -0.09791221856099336
         ],
         "yaxis": "y"
        }
       ],
       "layout": {
        "barmode": "relative",
        "legend": {
         "tracegroupgap": 0
        },
        "margin": {
         "t": 60
        },
        "template": {
         "data": {
          "bar": [
           {
            "error_x": {
             "color": "#2a3f5f"
            },
            "error_y": {
             "color": "#2a3f5f"
            },
            "marker": {
             "line": {
              "color": "#E5ECF6",
              "width": 0.5
             }
            },
            "type": "bar"
           }
          ],
          "barpolar": [
           {
            "marker": {
             "line": {
              "color": "#E5ECF6",
              "width": 0.5
             }
            },
            "type": "barpolar"
           }
          ],
          "carpet": [
           {
            "aaxis": {
             "endlinecolor": "#2a3f5f",
             "gridcolor": "white",
             "linecolor": "white",
             "minorgridcolor": "white",
             "startlinecolor": "#2a3f5f"
            },
            "baxis": {
             "endlinecolor": "#2a3f5f",
             "gridcolor": "white",
             "linecolor": "white",
             "minorgridcolor": "white",
             "startlinecolor": "#2a3f5f"
            },
            "type": "carpet"
           }
          ],
          "choropleth": [
           {
            "colorbar": {
             "outlinewidth": 0,
             "ticks": ""
            },
            "type": "choropleth"
           }
          ],
          "contour": [
           {
            "colorbar": {
             "outlinewidth": 0,
             "ticks": ""
            },
            "colorscale": [
             [
              0,
              "#0d0887"
             ],
             [
              0.1111111111111111,
              "#46039f"
             ],
             [
              0.2222222222222222,
              "#7201a8"
             ],
             [
              0.3333333333333333,
              "#9c179e"
             ],
             [
              0.4444444444444444,
              "#bd3786"
             ],
             [
              0.5555555555555556,
              "#d8576b"
             ],
             [
              0.6666666666666666,
              "#ed7953"
             ],
             [
              0.7777777777777778,
              "#fb9f3a"
             ],
             [
              0.8888888888888888,
              "#fdca26"
             ],
             [
              1,
              "#f0f921"
             ]
            ],
            "type": "contour"
           }
          ],
          "contourcarpet": [
           {
            "colorbar": {
             "outlinewidth": 0,
             "ticks": ""
            },
            "type": "contourcarpet"
           }
          ],
          "heatmap": [
           {
            "colorbar": {
             "outlinewidth": 0,
             "ticks": ""
            },
            "colorscale": [
             [
              0,
              "#0d0887"
             ],
             [
              0.1111111111111111,
              "#46039f"
             ],
             [
              0.2222222222222222,
              "#7201a8"
             ],
             [
              0.3333333333333333,
              "#9c179e"
             ],
             [
              0.4444444444444444,
              "#bd3786"
             ],
             [
              0.5555555555555556,
              "#d8576b"
             ],
             [
              0.6666666666666666,
              "#ed7953"
             ],
             [
              0.7777777777777778,
              "#fb9f3a"
             ],
             [
              0.8888888888888888,
              "#fdca26"
             ],
             [
              1,
              "#f0f921"
             ]
            ],
            "type": "heatmap"
           }
          ],
          "heatmapgl": [
           {
            "colorbar": {
             "outlinewidth": 0,
             "ticks": ""
            },
            "colorscale": [
             [
              0,
              "#0d0887"
             ],
             [
              0.1111111111111111,
              "#46039f"
             ],
             [
              0.2222222222222222,
              "#7201a8"
             ],
             [
              0.3333333333333333,
              "#9c179e"
             ],
             [
              0.4444444444444444,
              "#bd3786"
             ],
             [
              0.5555555555555556,
              "#d8576b"
             ],
             [
              0.6666666666666666,
              "#ed7953"
             ],
             [
              0.7777777777777778,
              "#fb9f3a"
             ],
             [
              0.8888888888888888,
              "#fdca26"
             ],
             [
              1,
              "#f0f921"
             ]
            ],
            "type": "heatmapgl"
           }
          ],
          "histogram": [
           {
            "marker": {
             "colorbar": {
              "outlinewidth": 0,
              "ticks": ""
             }
            },
            "type": "histogram"
           }
          ],
          "histogram2d": [
           {
            "colorbar": {
             "outlinewidth": 0,
             "ticks": ""
            },
            "colorscale": [
             [
              0,
              "#0d0887"
             ],
             [
              0.1111111111111111,
              "#46039f"
             ],
             [
              0.2222222222222222,
              "#7201a8"
             ],
             [
              0.3333333333333333,
              "#9c179e"
             ],
             [
              0.4444444444444444,
              "#bd3786"
             ],
             [
              0.5555555555555556,
              "#d8576b"
             ],
             [
              0.6666666666666666,
              "#ed7953"
             ],
             [
              0.7777777777777778,
              "#fb9f3a"
             ],
             [
              0.8888888888888888,
              "#fdca26"
             ],
             [
              1,
              "#f0f921"
             ]
            ],
            "type": "histogram2d"
           }
          ],
          "histogram2dcontour": [
           {
            "colorbar": {
             "outlinewidth": 0,
             "ticks": ""
            },
            "colorscale": [
             [
              0,
              "#0d0887"
             ],
             [
              0.1111111111111111,
              "#46039f"
             ],
             [
              0.2222222222222222,
              "#7201a8"
             ],
             [
              0.3333333333333333,
              "#9c179e"
             ],
             [
              0.4444444444444444,
              "#bd3786"
             ],
             [
              0.5555555555555556,
              "#d8576b"
             ],
             [
              0.6666666666666666,
              "#ed7953"
             ],
             [
              0.7777777777777778,
              "#fb9f3a"
             ],
             [
              0.8888888888888888,
              "#fdca26"
             ],
             [
              1,
              "#f0f921"
             ]
            ],
            "type": "histogram2dcontour"
           }
          ],
          "mesh3d": [
           {
            "colorbar": {
             "outlinewidth": 0,
             "ticks": ""
            },
            "type": "mesh3d"
           }
          ],
          "parcoords": [
           {
            "line": {
             "colorbar": {
              "outlinewidth": 0,
              "ticks": ""
             }
            },
            "type": "parcoords"
           }
          ],
          "pie": [
           {
            "automargin": true,
            "type": "pie"
           }
          ],
          "scatter": [
           {
            "marker": {
             "colorbar": {
              "outlinewidth": 0,
              "ticks": ""
             }
            },
            "type": "scatter"
           }
          ],
          "scatter3d": [
           {
            "line": {
             "colorbar": {
              "outlinewidth": 0,
              "ticks": ""
             }
            },
            "marker": {
             "colorbar": {
              "outlinewidth": 0,
              "ticks": ""
             }
            },
            "type": "scatter3d"
           }
          ],
          "scattercarpet": [
           {
            "marker": {
             "colorbar": {
              "outlinewidth": 0,
              "ticks": ""
             }
            },
            "type": "scattercarpet"
           }
          ],
          "scattergeo": [
           {
            "marker": {
             "colorbar": {
              "outlinewidth": 0,
              "ticks": ""
             }
            },
            "type": "scattergeo"
           }
          ],
          "scattergl": [
           {
            "marker": {
             "colorbar": {
              "outlinewidth": 0,
              "ticks": ""
             }
            },
            "type": "scattergl"
           }
          ],
          "scattermapbox": [
           {
            "marker": {
             "colorbar": {
              "outlinewidth": 0,
              "ticks": ""
             }
            },
            "type": "scattermapbox"
           }
          ],
          "scatterpolar": [
           {
            "marker": {
             "colorbar": {
              "outlinewidth": 0,
              "ticks": ""
             }
            },
            "type": "scatterpolar"
           }
          ],
          "scatterpolargl": [
           {
            "marker": {
             "colorbar": {
              "outlinewidth": 0,
              "ticks": ""
             }
            },
            "type": "scatterpolargl"
           }
          ],
          "scatterternary": [
           {
            "marker": {
             "colorbar": {
              "outlinewidth": 0,
              "ticks": ""
             }
            },
            "type": "scatterternary"
           }
          ],
          "surface": [
           {
            "colorbar": {
             "outlinewidth": 0,
             "ticks": ""
            },
            "colorscale": [
             [
              0,
              "#0d0887"
             ],
             [
              0.1111111111111111,
              "#46039f"
             ],
             [
              0.2222222222222222,
              "#7201a8"
             ],
             [
              0.3333333333333333,
              "#9c179e"
             ],
             [
              0.4444444444444444,
              "#bd3786"
             ],
             [
              0.5555555555555556,
              "#d8576b"
             ],
             [
              0.6666666666666666,
              "#ed7953"
             ],
             [
              0.7777777777777778,
              "#fb9f3a"
             ],
             [
              0.8888888888888888,
              "#fdca26"
             ],
             [
              1,
              "#f0f921"
             ]
            ],
            "type": "surface"
           }
          ],
          "table": [
           {
            "cells": {
             "fill": {
              "color": "#EBF0F8"
             },
             "line": {
              "color": "white"
             }
            },
            "header": {
             "fill": {
              "color": "#C8D4E3"
             },
             "line": {
              "color": "white"
             }
            },
            "type": "table"
           }
          ]
         },
         "layout": {
          "annotationdefaults": {
           "arrowcolor": "#2a3f5f",
           "arrowhead": 0,
           "arrowwidth": 1
          },
          "autotypenumbers": "strict",
          "coloraxis": {
           "colorbar": {
            "outlinewidth": 0,
            "ticks": ""
           }
          },
          "colorscale": {
           "diverging": [
            [
             0,
             "#8e0152"
            ],
            [
             0.1,
             "#c51b7d"
            ],
            [
             0.2,
             "#de77ae"
            ],
            [
             0.3,
             "#f1b6da"
            ],
            [
             0.4,
             "#fde0ef"
            ],
            [
             0.5,
             "#f7f7f7"
            ],
            [
             0.6,
             "#e6f5d0"
            ],
            [
             0.7,
             "#b8e186"
            ],
            [
             0.8,
             "#7fbc41"
            ],
            [
             0.9,
             "#4d9221"
            ],
            [
             1,
             "#276419"
            ]
           ],
           "sequential": [
            [
             0,
             "#0d0887"
            ],
            [
             0.1111111111111111,
             "#46039f"
            ],
            [
             0.2222222222222222,
             "#7201a8"
            ],
            [
             0.3333333333333333,
             "#9c179e"
            ],
            [
             0.4444444444444444,
             "#bd3786"
            ],
            [
             0.5555555555555556,
             "#d8576b"
            ],
            [
             0.6666666666666666,
             "#ed7953"
            ],
            [
             0.7777777777777778,
             "#fb9f3a"
            ],
            [
             0.8888888888888888,
             "#fdca26"
            ],
            [
             1,
             "#f0f921"
            ]
           ],
           "sequentialminus": [
            [
             0,
             "#0d0887"
            ],
            [
             0.1111111111111111,
             "#46039f"
            ],
            [
             0.2222222222222222,
             "#7201a8"
            ],
            [
             0.3333333333333333,
             "#9c179e"
            ],
            [
             0.4444444444444444,
             "#bd3786"
            ],
            [
             0.5555555555555556,
             "#d8576b"
            ],
            [
             0.6666666666666666,
             "#ed7953"
            ],
            [
             0.7777777777777778,
             "#fb9f3a"
            ],
            [
             0.8888888888888888,
             "#fdca26"
            ],
            [
             1,
             "#f0f921"
            ]
           ]
          },
          "colorway": [
           "#636efa",
           "#EF553B",
           "#00cc96",
           "#ab63fa",
           "#FFA15A",
           "#19d3f3",
           "#FF6692",
           "#B6E880",
           "#FF97FF",
           "#FECB52"
          ],
          "font": {
           "color": "#2a3f5f"
          },
          "geo": {
           "bgcolor": "white",
           "lakecolor": "white",
           "landcolor": "#E5ECF6",
           "showlakes": true,
           "showland": true,
           "subunitcolor": "white"
          },
          "hoverlabel": {
           "align": "left"
          },
          "hovermode": "closest",
          "mapbox": {
           "style": "light"
          },
          "paper_bgcolor": "white",
          "plot_bgcolor": "#E5ECF6",
          "polar": {
           "angularaxis": {
            "gridcolor": "white",
            "linecolor": "white",
            "ticks": ""
           },
           "bgcolor": "#E5ECF6",
           "radialaxis": {
            "gridcolor": "white",
            "linecolor": "white",
            "ticks": ""
           }
          },
          "scene": {
           "xaxis": {
            "backgroundcolor": "#E5ECF6",
            "gridcolor": "white",
            "gridwidth": 2,
            "linecolor": "white",
            "showbackground": true,
            "ticks": "",
            "zerolinecolor": "white"
           },
           "yaxis": {
            "backgroundcolor": "#E5ECF6",
            "gridcolor": "white",
            "gridwidth": 2,
            "linecolor": "white",
            "showbackground": true,
            "ticks": "",
            "zerolinecolor": "white"
           },
           "zaxis": {
            "backgroundcolor": "#E5ECF6",
            "gridcolor": "white",
            "gridwidth": 2,
            "linecolor": "white",
            "showbackground": true,
            "ticks": "",
            "zerolinecolor": "white"
           }
          },
          "shapedefaults": {
           "line": {
            "color": "#2a3f5f"
           }
          },
          "ternary": {
           "aaxis": {
            "gridcolor": "white",
            "linecolor": "white",
            "ticks": ""
           },
           "baxis": {
            "gridcolor": "white",
            "linecolor": "white",
            "ticks": ""
           },
           "bgcolor": "#E5ECF6",
           "caxis": {
            "gridcolor": "white",
            "linecolor": "white",
            "ticks": ""
           }
          },
          "title": {
           "x": 0.05
          },
          "xaxis": {
           "automargin": true,
           "gridcolor": "white",
           "linecolor": "white",
           "ticks": "",
           "title": {
            "standoff": 15
           },
           "zerolinecolor": "white",
           "zerolinewidth": 2
          },
          "yaxis": {
           "automargin": true,
           "gridcolor": "white",
           "linecolor": "white",
           "ticks": "",
           "title": {
            "standoff": 15
           },
           "zerolinecolor": "white",
           "zerolinewidth": 2
          }
         }
        },
        "xaxis": {
         "anchor": "y",
         "domain": [
          0,
          1
         ],
         "title": {
          "text": "variable"
         }
        },
        "yaxis": {
         "anchor": "x",
         "domain": [
          0,
          1
         ],
         "title": {
          "text": "sum of coeff"
         }
        }
       }
      },
      "text/html": [
       "<div>                            <div id=\"593bc2fb-f755-47e7-915a-51ff167cbf34\" class=\"plotly-graph-div\" style=\"height:525px; width:100%;\"></div>            <script type=\"text/javascript\">                require([\"plotly\"], function(Plotly) {                    window.PLOTLYENV=window.PLOTLYENV || {};                                    if (document.getElementById(\"593bc2fb-f755-47e7-915a-51ff167cbf34\")) {                    Plotly.newPlot(                        \"593bc2fb-f755-47e7-915a-51ff167cbf34\",                        [{\"alignmentgroup\": \"True\", \"bingroup\": \"x\", \"histfunc\": \"sum\", \"hovertemplate\": \"variable=%{x}<br>sum of coeff=%{y}<extra></extra>\", \"legendgroup\": \"\", \"marker\": {\"color\": \"#636efa\"}, \"name\": \"\", \"offsetgroup\": \"\", \"orientation\": \"v\", \"showlegend\": false, \"type\": \"histogram\", \"x\": [\"store_id\", \"parent_chain_id\", \"occurence\", \"no_meals_refunded\", \"no_store_cancellation\", \"no_consumer_cancellation\", \"before_price_mean\", \"price_mean\", \"reduction\", \"store_region_Alsace\", \"store_region_Aquitaine\", \"store_region_Auvergne\", \"store_region_Basse-Normandie\", \"store_region_Bourgogne\", \"store_region_Bretagne\", \"store_region_Centre - Val De Loire\", \"store_region_Champagne-Ardenne\", \"store_region_Corse\", \"store_region_Franche-Comt\\u00e9\", \"store_region_Haute-Normandie\", \"store_region_Ile-De-France\", \"store_region_Languedoc-Roussillon\", \"store_region_Limousin\", \"store_region_Lorraine\", \"store_region_Midi-Pyr\\u00e9n\\u00e9es\", \"store_region_Nord-Pas De Calais\", \"store_region_Pays De La Loire\", \"store_region_Picardie\", \"store_region_Poitou-Charentes\", \"store_region_Provence-Alpes-C\\u00f4te D\\u2019Azur\", \"store_region_Rh\\u00f4ne-Alpes\", \"store_segment_Bakery\", \"store_segment_Beverages\", \"store_segment_Buffet\", \"store_segment_Butcher\", \"store_segment_Cafeteria\", \"store_segment_Canteen\", \"store_segment_Caterer\", \"store_segment_Fast Food / Take away restaurant\", \"store_segment_Fish shop\", \"store_segment_Florist\", \"store_segment_Fruits & vegetables store\", \"store_segment_Gas station\", \"store_segment_Hotel\", \"store_segment_Manufacturer\", \"store_segment_Market stall\", \"store_segment_Other\", \"store_segment_Other Specialists\", \"store_segment_Pastry\", \"store_segment_Supermarket Big\", \"store_segment_Supermarket Medium\", \"store_segment_Supermarket Small\", \"store_segment_Sushi\"], \"xaxis\": \"x\", \"y\": [-0.764996598096359, -0.11893391151097454, -1.4187375847921144, -0.5982241194497044, -0.1067262102240723, -0.7838534231187673, 0.46840107369800454, -0.2521596421368997, -0.41190600025897883, 0.060041869092223255, 0.04048044838152473, 0.03505019077819099, 0.007249512665917035, 0.014080454811136248, 0.009802741567134982, 0.007997994665117317, 0.027020736331179296, -0.06935983404848177, 0.010469479815128652, 0.03413960585277716, 0.0694056346741477, 0.03481770792728982, -0.016356850773475727, 0.02567698147202134, 0.022304730790621487, 0.02794681548863466, 0.0076396935109674866, 0.01492759199589911, 0.03674553199420945, 0.03582148801733698, 0.03492385545923968, -0.23132102738486782, 0.0006272573066123596, -0.12849553641785155, -0.17521821137275193, -0.10368682498128157, 0.06570465336035988, -0.03796387259503676, -0.16511799870348895, -0.10061491037215926, -0.14666855483773328, -0.21314935957266004, -0.210801821301152, -0.21323757017309067, -0.17007436267184403, -0.2124711428995754, -0.11557009275171348, -0.10474851669237856, -0.13578409624989238, -0.13505319843304384, -0.18394374473525313, -0.24507003402635807, -0.09791221856099336], \"yaxis\": \"y\"}],                        {\"barmode\": \"relative\", \"legend\": {\"tracegroupgap\": 0}, \"margin\": {\"t\": 60}, \"template\": {\"data\": {\"bar\": [{\"error_x\": {\"color\": \"#2a3f5f\"}, \"error_y\": {\"color\": \"#2a3f5f\"}, \"marker\": {\"line\": {\"color\": \"#E5ECF6\", \"width\": 0.5}}, \"type\": \"bar\"}], \"barpolar\": [{\"marker\": {\"line\": {\"color\": \"#E5ECF6\", \"width\": 0.5}}, \"type\": \"barpolar\"}], \"carpet\": [{\"aaxis\": {\"endlinecolor\": \"#2a3f5f\", \"gridcolor\": \"white\", \"linecolor\": \"white\", \"minorgridcolor\": \"white\", \"startlinecolor\": \"#2a3f5f\"}, \"baxis\": {\"endlinecolor\": \"#2a3f5f\", \"gridcolor\": \"white\", \"linecolor\": \"white\", \"minorgridcolor\": \"white\", \"startlinecolor\": \"#2a3f5f\"}, \"type\": \"carpet\"}], \"choropleth\": [{\"colorbar\": {\"outlinewidth\": 0, \"ticks\": \"\"}, \"type\": \"choropleth\"}], \"contour\": [{\"colorbar\": {\"outlinewidth\": 0, \"ticks\": \"\"}, \"colorscale\": [[0.0, \"#0d0887\"], [0.1111111111111111, \"#46039f\"], [0.2222222222222222, \"#7201a8\"], [0.3333333333333333, \"#9c179e\"], [0.4444444444444444, \"#bd3786\"], [0.5555555555555556, \"#d8576b\"], [0.6666666666666666, \"#ed7953\"], [0.7777777777777778, \"#fb9f3a\"], [0.8888888888888888, \"#fdca26\"], [1.0, \"#f0f921\"]], \"type\": \"contour\"}], \"contourcarpet\": [{\"colorbar\": {\"outlinewidth\": 0, \"ticks\": \"\"}, \"type\": \"contourcarpet\"}], \"heatmap\": [{\"colorbar\": {\"outlinewidth\": 0, \"ticks\": \"\"}, \"colorscale\": [[0.0, \"#0d0887\"], [0.1111111111111111, \"#46039f\"], [0.2222222222222222, \"#7201a8\"], [0.3333333333333333, \"#9c179e\"], [0.4444444444444444, \"#bd3786\"], [0.5555555555555556, \"#d8576b\"], [0.6666666666666666, \"#ed7953\"], [0.7777777777777778, \"#fb9f3a\"], [0.8888888888888888, \"#fdca26\"], [1.0, \"#f0f921\"]], \"type\": \"heatmap\"}], \"heatmapgl\": [{\"colorbar\": {\"outlinewidth\": 0, \"ticks\": \"\"}, \"colorscale\": [[0.0, \"#0d0887\"], [0.1111111111111111, \"#46039f\"], [0.2222222222222222, \"#7201a8\"], [0.3333333333333333, \"#9c179e\"], [0.4444444444444444, \"#bd3786\"], [0.5555555555555556, \"#d8576b\"], [0.6666666666666666, \"#ed7953\"], [0.7777777777777778, \"#fb9f3a\"], [0.8888888888888888, \"#fdca26\"], [1.0, \"#f0f921\"]], \"type\": \"heatmapgl\"}], \"histogram\": [{\"marker\": {\"colorbar\": {\"outlinewidth\": 0, \"ticks\": \"\"}}, \"type\": \"histogram\"}], \"histogram2d\": [{\"colorbar\": {\"outlinewidth\": 0, \"ticks\": \"\"}, \"colorscale\": [[0.0, \"#0d0887\"], [0.1111111111111111, \"#46039f\"], [0.2222222222222222, \"#7201a8\"], [0.3333333333333333, \"#9c179e\"], [0.4444444444444444, \"#bd3786\"], [0.5555555555555556, \"#d8576b\"], [0.6666666666666666, \"#ed7953\"], [0.7777777777777778, \"#fb9f3a\"], [0.8888888888888888, \"#fdca26\"], [1.0, \"#f0f921\"]], \"type\": \"histogram2d\"}], \"histogram2dcontour\": [{\"colorbar\": {\"outlinewidth\": 0, \"ticks\": \"\"}, \"colorscale\": [[0.0, \"#0d0887\"], [0.1111111111111111, \"#46039f\"], [0.2222222222222222, \"#7201a8\"], [0.3333333333333333, \"#9c179e\"], [0.4444444444444444, \"#bd3786\"], [0.5555555555555556, \"#d8576b\"], [0.6666666666666666, \"#ed7953\"], [0.7777777777777778, \"#fb9f3a\"], [0.8888888888888888, \"#fdca26\"], [1.0, \"#f0f921\"]], \"type\": \"histogram2dcontour\"}], \"mesh3d\": [{\"colorbar\": {\"outlinewidth\": 0, \"ticks\": \"\"}, \"type\": \"mesh3d\"}], \"parcoords\": [{\"line\": {\"colorbar\": {\"outlinewidth\": 0, \"ticks\": \"\"}}, \"type\": \"parcoords\"}], \"pie\": [{\"automargin\": true, \"type\": \"pie\"}], \"scatter\": [{\"marker\": {\"colorbar\": {\"outlinewidth\": 0, \"ticks\": \"\"}}, \"type\": \"scatter\"}], \"scatter3d\": [{\"line\": {\"colorbar\": {\"outlinewidth\": 0, \"ticks\": \"\"}}, \"marker\": {\"colorbar\": {\"outlinewidth\": 0, \"ticks\": \"\"}}, \"type\": \"scatter3d\"}], \"scattercarpet\": [{\"marker\": {\"colorbar\": {\"outlinewidth\": 0, \"ticks\": \"\"}}, \"type\": \"scattercarpet\"}], \"scattergeo\": [{\"marker\": {\"colorbar\": {\"outlinewidth\": 0, \"ticks\": \"\"}}, \"type\": \"scattergeo\"}], \"scattergl\": [{\"marker\": {\"colorbar\": {\"outlinewidth\": 0, \"ticks\": \"\"}}, \"type\": \"scattergl\"}], \"scattermapbox\": [{\"marker\": {\"colorbar\": {\"outlinewidth\": 0, \"ticks\": \"\"}}, \"type\": \"scattermapbox\"}], \"scatterpolar\": [{\"marker\": {\"colorbar\": {\"outlinewidth\": 0, \"ticks\": \"\"}}, \"type\": \"scatterpolar\"}], \"scatterpolargl\": [{\"marker\": {\"colorbar\": {\"outlinewidth\": 0, \"ticks\": \"\"}}, \"type\": \"scatterpolargl\"}], \"scatterternary\": [{\"marker\": {\"colorbar\": {\"outlinewidth\": 0, \"ticks\": \"\"}}, \"type\": \"scatterternary\"}], \"surface\": [{\"colorbar\": {\"outlinewidth\": 0, \"ticks\": \"\"}, \"colorscale\": [[0.0, \"#0d0887\"], [0.1111111111111111, \"#46039f\"], [0.2222222222222222, \"#7201a8\"], [0.3333333333333333, \"#9c179e\"], [0.4444444444444444, \"#bd3786\"], [0.5555555555555556, \"#d8576b\"], [0.6666666666666666, \"#ed7953\"], [0.7777777777777778, \"#fb9f3a\"], [0.8888888888888888, \"#fdca26\"], [1.0, \"#f0f921\"]], \"type\": \"surface\"}], \"table\": [{\"cells\": {\"fill\": {\"color\": \"#EBF0F8\"}, \"line\": {\"color\": \"white\"}}, \"header\": {\"fill\": {\"color\": \"#C8D4E3\"}, \"line\": {\"color\": \"white\"}}, \"type\": \"table\"}]}, \"layout\": {\"annotationdefaults\": {\"arrowcolor\": \"#2a3f5f\", \"arrowhead\": 0, \"arrowwidth\": 1}, \"autotypenumbers\": \"strict\", \"coloraxis\": {\"colorbar\": {\"outlinewidth\": 0, \"ticks\": \"\"}}, \"colorscale\": {\"diverging\": [[0, \"#8e0152\"], [0.1, \"#c51b7d\"], [0.2, \"#de77ae\"], [0.3, \"#f1b6da\"], [0.4, \"#fde0ef\"], [0.5, \"#f7f7f7\"], [0.6, \"#e6f5d0\"], [0.7, \"#b8e186\"], [0.8, \"#7fbc41\"], [0.9, \"#4d9221\"], [1, \"#276419\"]], \"sequential\": [[0.0, \"#0d0887\"], [0.1111111111111111, \"#46039f\"], [0.2222222222222222, \"#7201a8\"], [0.3333333333333333, \"#9c179e\"], [0.4444444444444444, \"#bd3786\"], [0.5555555555555556, \"#d8576b\"], [0.6666666666666666, \"#ed7953\"], [0.7777777777777778, \"#fb9f3a\"], [0.8888888888888888, \"#fdca26\"], [1.0, \"#f0f921\"]], \"sequentialminus\": [[0.0, \"#0d0887\"], [0.1111111111111111, \"#46039f\"], [0.2222222222222222, \"#7201a8\"], [0.3333333333333333, \"#9c179e\"], [0.4444444444444444, \"#bd3786\"], [0.5555555555555556, \"#d8576b\"], [0.6666666666666666, \"#ed7953\"], [0.7777777777777778, \"#fb9f3a\"], [0.8888888888888888, \"#fdca26\"], [1.0, \"#f0f921\"]]}, \"colorway\": [\"#636efa\", \"#EF553B\", \"#00cc96\", \"#ab63fa\", \"#FFA15A\", \"#19d3f3\", \"#FF6692\", \"#B6E880\", \"#FF97FF\", \"#FECB52\"], \"font\": {\"color\": \"#2a3f5f\"}, \"geo\": {\"bgcolor\": \"white\", \"lakecolor\": \"white\", \"landcolor\": \"#E5ECF6\", \"showlakes\": true, \"showland\": true, \"subunitcolor\": \"white\"}, \"hoverlabel\": {\"align\": \"left\"}, \"hovermode\": \"closest\", \"mapbox\": {\"style\": \"light\"}, \"paper_bgcolor\": \"white\", \"plot_bgcolor\": \"#E5ECF6\", \"polar\": {\"angularaxis\": {\"gridcolor\": \"white\", \"linecolor\": \"white\", \"ticks\": \"\"}, \"bgcolor\": \"#E5ECF6\", \"radialaxis\": {\"gridcolor\": \"white\", \"linecolor\": \"white\", \"ticks\": \"\"}}, \"scene\": {\"xaxis\": {\"backgroundcolor\": \"#E5ECF6\", \"gridcolor\": \"white\", \"gridwidth\": 2, \"linecolor\": \"white\", \"showbackground\": true, \"ticks\": \"\", \"zerolinecolor\": \"white\"}, \"yaxis\": {\"backgroundcolor\": \"#E5ECF6\", \"gridcolor\": \"white\", \"gridwidth\": 2, \"linecolor\": \"white\", \"showbackground\": true, \"ticks\": \"\", \"zerolinecolor\": \"white\"}, \"zaxis\": {\"backgroundcolor\": \"#E5ECF6\", \"gridcolor\": \"white\", \"gridwidth\": 2, \"linecolor\": \"white\", \"showbackground\": true, \"ticks\": \"\", \"zerolinecolor\": \"white\"}}, \"shapedefaults\": {\"line\": {\"color\": \"#2a3f5f\"}}, \"ternary\": {\"aaxis\": {\"gridcolor\": \"white\", \"linecolor\": \"white\", \"ticks\": \"\"}, \"baxis\": {\"gridcolor\": \"white\", \"linecolor\": \"white\", \"ticks\": \"\"}, \"bgcolor\": \"#E5ECF6\", \"caxis\": {\"gridcolor\": \"white\", \"linecolor\": \"white\", \"ticks\": \"\"}}, \"title\": {\"x\": 0.05}, \"xaxis\": {\"automargin\": true, \"gridcolor\": \"white\", \"linecolor\": \"white\", \"ticks\": \"\", \"title\": {\"standoff\": 15}, \"zerolinecolor\": \"white\", \"zerolinewidth\": 2}, \"yaxis\": {\"automargin\": true, \"gridcolor\": \"white\", \"linecolor\": \"white\", \"ticks\": \"\", \"title\": {\"standoff\": 15}, \"zerolinecolor\": \"white\", \"zerolinewidth\": 2}}}, \"xaxis\": {\"anchor\": \"y\", \"domain\": [0.0, 1.0], \"title\": {\"text\": \"variable\"}}, \"yaxis\": {\"anchor\": \"x\", \"domain\": [0.0, 1.0], \"title\": {\"text\": \"sum of coeff\"}}},                        {\"responsive\": true}                    ).then(function(){\n",
       "                            \n",
       "var gd = document.getElementById('593bc2fb-f755-47e7-915a-51ff167cbf34');\n",
       "var x = new MutationObserver(function (mutations, observer) {{\n",
       "        var display = window.getComputedStyle(gd).display;\n",
       "        if (!display || display === 'none') {{\n",
       "            console.log([gd, 'removed!']);\n",
       "            Plotly.purge(gd);\n",
       "            observer.disconnect();\n",
       "        }}\n",
       "}});\n",
       "\n",
       "// Listen for the removal of the full notebook cells\n",
       "var notebookContainer = gd.closest('#notebook-container');\n",
       "if (notebookContainer) {{\n",
       "    x.observe(notebookContainer, {childList: true});\n",
       "}}\n",
       "\n",
       "// Listen for the clearing of the current output cell\n",
       "var outputEl = gd.closest('.output');\n",
       "if (outputEl) {{\n",
       "    x.observe(outputEl, {childList: true});\n",
       "}}\n",
       "\n",
       "                        })                };                });            </script>        </div>"
      ]
     },
     "metadata": {},
     "output_type": "display_data"
    },
    {
     "name": "stdout",
     "output_type": "stream",
     "text": [
      "MSE : 0.055165576642285406\n"
     ]
    }
   ],
   "source": [
    "px.histogram(pd.DataFrame([\n",
    "    (X.columns[i], lin_reg.coef_[0][i]) for i in range(53)\n",
    "                    ]).T.rename(index = {0 : 'variable', 1 : 'coeff'}).T, x = 'variable', y = 'coeff', histfunc = 'sum'\n",
    "            ).show()\n",
    "\n",
    "print('MSE :', mean_squared_error(y_test, y_pred))"
   ]
  },
  {
   "cell_type": "code",
   "execution_count": 513,
   "metadata": {},
   "outputs": [],
   "source": [
    "def poly_reg(n):\n",
    "    \"\"\"\n",
    "    Cette fonction effectue une regression polynomiale sur la base d'entrainement et affiche \n",
    "    la MSE pour l'echantillon de test\n",
    "    \"\"\"\n",
    "    \n",
    "    # Agrandissement de la base d'entrainement avec l'ajout des degrés successifs\n",
    "    poly_X = X_train.copy()\n",
    "    \n",
    "    for i in range(2, n+1):\n",
    "        \n",
    "        index = [str(j) + '^' + str(i) for j in X.columns[:32]]\n",
    "        poly_X[[str(j) + '^' + str(i) for j in X.columns[:32]]] = poly_X[[j for j in X.columns[:32]]].pow(i)\n",
    "    \n",
    "    poly_reg = LinearRegression().fit(poly_X, y_train)\n",
    "    \n",
    "    # Agrandissement de la base d'de test avec l'ajout des degrés successifs\n",
    "    poly_X_test = X_test.copy()\n",
    "    \n",
    "    for i in range(2, n+1):\n",
    "        \n",
    "        index = [str(j) + '^' + str(i) for j in X.columns[:32]]\n",
    "        poly_X_test[[str(j) + '^' + str(i) for j in X.columns[:32]]] = poly_X_test[[j for j in X.columns[:32]]].pow(i)\n",
    "    \n",
    "    # Regression\n",
    "    y_pred = poly_reg.predict(poly_X_test)\n",
    "    MSE = mean_squared_error(y_test, y_pred)\n",
    "    \n",
    "    # Affichage des coefficients pour le degré 2\n",
    "    fig = px.histogram(pd.DataFrame([\n",
    "        (poly_X.columns[i], poly_reg.coef_[0][i]) for i in range(28 + 32 * (n - 1))\n",
    "                            ]).T.rename(\n",
    "        index = {0 : 'variable', 1 : 'coeff'}\n",
    "                                        ).T.sort_values(by = 'variable'), x = 'variable', y = 'coeff') \n",
    "    \n",
    "    if n == 2:\n",
    "        \n",
    "        fig.show()\n",
    "        \n",
    "    else:\n",
    "        \n",
    "        print('degré : ', n)\n",
    "\n",
    "    return MSE"
   ]
  },
  {
   "cell_type": "code",
   "execution_count": 514,
   "metadata": {},
   "outputs": [
    {
     "data": {
      "application/vnd.plotly.v1+json": {
       "config": {
        "plotlyServerURL": "https://plot.ly"
       },
       "data": [
        {
         "alignmentgroup": "True",
         "bingroup": "x",
         "histfunc": "sum",
         "hovertemplate": "variable=%{x}<br>sum of coeff=%{y}<extra></extra>",
         "legendgroup": "",
         "marker": {
          "color": "#636efa"
         },
         "name": "",
         "offsetgroup": "",
         "orientation": "v",
         "showlegend": false,
         "type": "histogram",
         "x": [
          "before_price_mean",
          "no_consumer_cancellation",
          "no_consumer_cancellation^2",
          "no_meals_refunded",
          "no_meals_refunded^2",
          "no_store_cancellation",
          "no_store_cancellation^2",
          "occurence",
          "occurence^2",
          "parent_chain_id",
          "parent_chain_id^2",
          "price_mean",
          "reduction",
          "store_id",
          "store_id^2",
          "store_region_Alsace",
          "store_region_Aquitaine",
          "store_region_Auvergne",
          "store_region_Basse-Normandie",
          "store_region_Bourgogne",
          "store_region_Bretagne",
          "store_region_Centre - Val De Loire",
          "store_region_Champagne-Ardenne",
          "store_region_Corse",
          "store_region_Franche-Comté",
          "store_region_Haute-Normandie",
          "store_region_Ile-De-France",
          "store_region_Languedoc-Roussillon",
          "store_region_Limousin",
          "store_region_Lorraine",
          "store_region_Midi-Pyrénées",
          "store_region_Nord-Pas De Calais",
          "store_region_Pays De La Loire",
          "store_region_Picardie",
          "store_region_Poitou-Charentes",
          "store_region_Provence-Alpes-Côte D’Azur",
          "store_region_Rhône-Alpes",
          "store_segment_Bakery",
          "store_segment_Beverages",
          "store_segment_Buffet",
          "store_segment_Butcher",
          "store_segment_Cafeteria",
          "store_segment_Canteen",
          "store_segment_Caterer",
          "store_segment_Fast Food / Take away restaurant",
          "store_segment_Fish shop",
          "store_segment_Florist",
          "store_segment_Fruits & vegetables store",
          "store_segment_Gas station",
          "store_segment_Hotel",
          "store_segment_Manufacturer",
          "store_segment_Market stall",
          "store_segment_Other",
          "store_segment_Other Specialists",
          "store_segment_Pastry",
          "store_segment_Supermarket Big",
          "store_segment_Supermarket Medium",
          "store_segment_Supermarket Small",
          "store_segment_Sushi",
          "store_segment_Traditional Restaurant"
         ],
         "xaxis": "x",
         "y": [
          -0.26509641848562404,
          -1.6688675714565206,
          2.9418961520730504,
          -1.340996856383503,
          2.0021330254501213,
          -0.23445962939003556,
          0.8421561440241767,
          -3.1852976471714145,
          3.464465851246187,
          -0.34018170635751016,
          0.47606786488524727,
          0.6166833516390844,
          -0.2100374512663255,
          0.35996901106761353,
          -1.186258165184541,
          -125100944705.96399,
          406832052043.3145,
          -348768724405.39044,
          397940842888.62787,
          167801693887.56134,
          -181383776403.97897,
          -278066493084.807,
          285486793980.31555,
          95279848082.63806,
          129607720523.98816,
          -96624340273.07913,
          -12277713360.1388,
          -84113868196.60393,
          -11157259954.05337,
          -314450583146.14575,
          108147970815.04286,
          41131085425.1433,
          650632779742.0508,
          119316784110.79976,
          60602851863.045105,
          -37597380058.138756,
          -690094807288.8068,
          -70405268007.52267,
          0.014482708348396923,
          -0.07939740159536168,
          -0.13163106935401198,
          -0.08515700999116554,
          0.049735965312986186,
          -0.056978931690108696,
          -0.12681538276211657,
          -0.0632651029907612,
          -0.12642330688915854,
          -0.16436441348902348,
          -0.18115202104959083,
          -0.13607196474390149,
          -0.10021612220234227,
          -0.17009386885713826,
          -0.0661124196976019,
          -0.07505720633596935,
          -0.1390571482094502,
          -0.05711747100676978,
          -0.11863183416331424,
          -0.18015142978776555,
          -0.07880210829483575,
          -0.09114089306731711
         ],
         "yaxis": "y"
        }
       ],
       "layout": {
        "barmode": "relative",
        "legend": {
         "tracegroupgap": 0
        },
        "margin": {
         "t": 60
        },
        "template": {
         "data": {
          "bar": [
           {
            "error_x": {
             "color": "#2a3f5f"
            },
            "error_y": {
             "color": "#2a3f5f"
            },
            "marker": {
             "line": {
              "color": "#E5ECF6",
              "width": 0.5
             }
            },
            "type": "bar"
           }
          ],
          "barpolar": [
           {
            "marker": {
             "line": {
              "color": "#E5ECF6",
              "width": 0.5
             }
            },
            "type": "barpolar"
           }
          ],
          "carpet": [
           {
            "aaxis": {
             "endlinecolor": "#2a3f5f",
             "gridcolor": "white",
             "linecolor": "white",
             "minorgridcolor": "white",
             "startlinecolor": "#2a3f5f"
            },
            "baxis": {
             "endlinecolor": "#2a3f5f",
             "gridcolor": "white",
             "linecolor": "white",
             "minorgridcolor": "white",
             "startlinecolor": "#2a3f5f"
            },
            "type": "carpet"
           }
          ],
          "choropleth": [
           {
            "colorbar": {
             "outlinewidth": 0,
             "ticks": ""
            },
            "type": "choropleth"
           }
          ],
          "contour": [
           {
            "colorbar": {
             "outlinewidth": 0,
             "ticks": ""
            },
            "colorscale": [
             [
              0,
              "#0d0887"
             ],
             [
              0.1111111111111111,
              "#46039f"
             ],
             [
              0.2222222222222222,
              "#7201a8"
             ],
             [
              0.3333333333333333,
              "#9c179e"
             ],
             [
              0.4444444444444444,
              "#bd3786"
             ],
             [
              0.5555555555555556,
              "#d8576b"
             ],
             [
              0.6666666666666666,
              "#ed7953"
             ],
             [
              0.7777777777777778,
              "#fb9f3a"
             ],
             [
              0.8888888888888888,
              "#fdca26"
             ],
             [
              1,
              "#f0f921"
             ]
            ],
            "type": "contour"
           }
          ],
          "contourcarpet": [
           {
            "colorbar": {
             "outlinewidth": 0,
             "ticks": ""
            },
            "type": "contourcarpet"
           }
          ],
          "heatmap": [
           {
            "colorbar": {
             "outlinewidth": 0,
             "ticks": ""
            },
            "colorscale": [
             [
              0,
              "#0d0887"
             ],
             [
              0.1111111111111111,
              "#46039f"
             ],
             [
              0.2222222222222222,
              "#7201a8"
             ],
             [
              0.3333333333333333,
              "#9c179e"
             ],
             [
              0.4444444444444444,
              "#bd3786"
             ],
             [
              0.5555555555555556,
              "#d8576b"
             ],
             [
              0.6666666666666666,
              "#ed7953"
             ],
             [
              0.7777777777777778,
              "#fb9f3a"
             ],
             [
              0.8888888888888888,
              "#fdca26"
             ],
             [
              1,
              "#f0f921"
             ]
            ],
            "type": "heatmap"
           }
          ],
          "heatmapgl": [
           {
            "colorbar": {
             "outlinewidth": 0,
             "ticks": ""
            },
            "colorscale": [
             [
              0,
              "#0d0887"
             ],
             [
              0.1111111111111111,
              "#46039f"
             ],
             [
              0.2222222222222222,
              "#7201a8"
             ],
             [
              0.3333333333333333,
              "#9c179e"
             ],
             [
              0.4444444444444444,
              "#bd3786"
             ],
             [
              0.5555555555555556,
              "#d8576b"
             ],
             [
              0.6666666666666666,
              "#ed7953"
             ],
             [
              0.7777777777777778,
              "#fb9f3a"
             ],
             [
              0.8888888888888888,
              "#fdca26"
             ],
             [
              1,
              "#f0f921"
             ]
            ],
            "type": "heatmapgl"
           }
          ],
          "histogram": [
           {
            "marker": {
             "colorbar": {
              "outlinewidth": 0,
              "ticks": ""
             }
            },
            "type": "histogram"
           }
          ],
          "histogram2d": [
           {
            "colorbar": {
             "outlinewidth": 0,
             "ticks": ""
            },
            "colorscale": [
             [
              0,
              "#0d0887"
             ],
             [
              0.1111111111111111,
              "#46039f"
             ],
             [
              0.2222222222222222,
              "#7201a8"
             ],
             [
              0.3333333333333333,
              "#9c179e"
             ],
             [
              0.4444444444444444,
              "#bd3786"
             ],
             [
              0.5555555555555556,
              "#d8576b"
             ],
             [
              0.6666666666666666,
              "#ed7953"
             ],
             [
              0.7777777777777778,
              "#fb9f3a"
             ],
             [
              0.8888888888888888,
              "#fdca26"
             ],
             [
              1,
              "#f0f921"
             ]
            ],
            "type": "histogram2d"
           }
          ],
          "histogram2dcontour": [
           {
            "colorbar": {
             "outlinewidth": 0,
             "ticks": ""
            },
            "colorscale": [
             [
              0,
              "#0d0887"
             ],
             [
              0.1111111111111111,
              "#46039f"
             ],
             [
              0.2222222222222222,
              "#7201a8"
             ],
             [
              0.3333333333333333,
              "#9c179e"
             ],
             [
              0.4444444444444444,
              "#bd3786"
             ],
             [
              0.5555555555555556,
              "#d8576b"
             ],
             [
              0.6666666666666666,
              "#ed7953"
             ],
             [
              0.7777777777777778,
              "#fb9f3a"
             ],
             [
              0.8888888888888888,
              "#fdca26"
             ],
             [
              1,
              "#f0f921"
             ]
            ],
            "type": "histogram2dcontour"
           }
          ],
          "mesh3d": [
           {
            "colorbar": {
             "outlinewidth": 0,
             "ticks": ""
            },
            "type": "mesh3d"
           }
          ],
          "parcoords": [
           {
            "line": {
             "colorbar": {
              "outlinewidth": 0,
              "ticks": ""
             }
            },
            "type": "parcoords"
           }
          ],
          "pie": [
           {
            "automargin": true,
            "type": "pie"
           }
          ],
          "scatter": [
           {
            "marker": {
             "colorbar": {
              "outlinewidth": 0,
              "ticks": ""
             }
            },
            "type": "scatter"
           }
          ],
          "scatter3d": [
           {
            "line": {
             "colorbar": {
              "outlinewidth": 0,
              "ticks": ""
             }
            },
            "marker": {
             "colorbar": {
              "outlinewidth": 0,
              "ticks": ""
             }
            },
            "type": "scatter3d"
           }
          ],
          "scattercarpet": [
           {
            "marker": {
             "colorbar": {
              "outlinewidth": 0,
              "ticks": ""
             }
            },
            "type": "scattercarpet"
           }
          ],
          "scattergeo": [
           {
            "marker": {
             "colorbar": {
              "outlinewidth": 0,
              "ticks": ""
             }
            },
            "type": "scattergeo"
           }
          ],
          "scattergl": [
           {
            "marker": {
             "colorbar": {
              "outlinewidth": 0,
              "ticks": ""
             }
            },
            "type": "scattergl"
           }
          ],
          "scattermapbox": [
           {
            "marker": {
             "colorbar": {
              "outlinewidth": 0,
              "ticks": ""
             }
            },
            "type": "scattermapbox"
           }
          ],
          "scatterpolar": [
           {
            "marker": {
             "colorbar": {
              "outlinewidth": 0,
              "ticks": ""
             }
            },
            "type": "scatterpolar"
           }
          ],
          "scatterpolargl": [
           {
            "marker": {
             "colorbar": {
              "outlinewidth": 0,
              "ticks": ""
             }
            },
            "type": "scatterpolargl"
           }
          ],
          "scatterternary": [
           {
            "marker": {
             "colorbar": {
              "outlinewidth": 0,
              "ticks": ""
             }
            },
            "type": "scatterternary"
           }
          ],
          "surface": [
           {
            "colorbar": {
             "outlinewidth": 0,
             "ticks": ""
            },
            "colorscale": [
             [
              0,
              "#0d0887"
             ],
             [
              0.1111111111111111,
              "#46039f"
             ],
             [
              0.2222222222222222,
              "#7201a8"
             ],
             [
              0.3333333333333333,
              "#9c179e"
             ],
             [
              0.4444444444444444,
              "#bd3786"
             ],
             [
              0.5555555555555556,
              "#d8576b"
             ],
             [
              0.6666666666666666,
              "#ed7953"
             ],
             [
              0.7777777777777778,
              "#fb9f3a"
             ],
             [
              0.8888888888888888,
              "#fdca26"
             ],
             [
              1,
              "#f0f921"
             ]
            ],
            "type": "surface"
           }
          ],
          "table": [
           {
            "cells": {
             "fill": {
              "color": "#EBF0F8"
             },
             "line": {
              "color": "white"
             }
            },
            "header": {
             "fill": {
              "color": "#C8D4E3"
             },
             "line": {
              "color": "white"
             }
            },
            "type": "table"
           }
          ]
         },
         "layout": {
          "annotationdefaults": {
           "arrowcolor": "#2a3f5f",
           "arrowhead": 0,
           "arrowwidth": 1
          },
          "autotypenumbers": "strict",
          "coloraxis": {
           "colorbar": {
            "outlinewidth": 0,
            "ticks": ""
           }
          },
          "colorscale": {
           "diverging": [
            [
             0,
             "#8e0152"
            ],
            [
             0.1,
             "#c51b7d"
            ],
            [
             0.2,
             "#de77ae"
            ],
            [
             0.3,
             "#f1b6da"
            ],
            [
             0.4,
             "#fde0ef"
            ],
            [
             0.5,
             "#f7f7f7"
            ],
            [
             0.6,
             "#e6f5d0"
            ],
            [
             0.7,
             "#b8e186"
            ],
            [
             0.8,
             "#7fbc41"
            ],
            [
             0.9,
             "#4d9221"
            ],
            [
             1,
             "#276419"
            ]
           ],
           "sequential": [
            [
             0,
             "#0d0887"
            ],
            [
             0.1111111111111111,
             "#46039f"
            ],
            [
             0.2222222222222222,
             "#7201a8"
            ],
            [
             0.3333333333333333,
             "#9c179e"
            ],
            [
             0.4444444444444444,
             "#bd3786"
            ],
            [
             0.5555555555555556,
             "#d8576b"
            ],
            [
             0.6666666666666666,
             "#ed7953"
            ],
            [
             0.7777777777777778,
             "#fb9f3a"
            ],
            [
             0.8888888888888888,
             "#fdca26"
            ],
            [
             1,
             "#f0f921"
            ]
           ],
           "sequentialminus": [
            [
             0,
             "#0d0887"
            ],
            [
             0.1111111111111111,
             "#46039f"
            ],
            [
             0.2222222222222222,
             "#7201a8"
            ],
            [
             0.3333333333333333,
             "#9c179e"
            ],
            [
             0.4444444444444444,
             "#bd3786"
            ],
            [
             0.5555555555555556,
             "#d8576b"
            ],
            [
             0.6666666666666666,
             "#ed7953"
            ],
            [
             0.7777777777777778,
             "#fb9f3a"
            ],
            [
             0.8888888888888888,
             "#fdca26"
            ],
            [
             1,
             "#f0f921"
            ]
           ]
          },
          "colorway": [
           "#636efa",
           "#EF553B",
           "#00cc96",
           "#ab63fa",
           "#FFA15A",
           "#19d3f3",
           "#FF6692",
           "#B6E880",
           "#FF97FF",
           "#FECB52"
          ],
          "font": {
           "color": "#2a3f5f"
          },
          "geo": {
           "bgcolor": "white",
           "lakecolor": "white",
           "landcolor": "#E5ECF6",
           "showlakes": true,
           "showland": true,
           "subunitcolor": "white"
          },
          "hoverlabel": {
           "align": "left"
          },
          "hovermode": "closest",
          "mapbox": {
           "style": "light"
          },
          "paper_bgcolor": "white",
          "plot_bgcolor": "#E5ECF6",
          "polar": {
           "angularaxis": {
            "gridcolor": "white",
            "linecolor": "white",
            "ticks": ""
           },
           "bgcolor": "#E5ECF6",
           "radialaxis": {
            "gridcolor": "white",
            "linecolor": "white",
            "ticks": ""
           }
          },
          "scene": {
           "xaxis": {
            "backgroundcolor": "#E5ECF6",
            "gridcolor": "white",
            "gridwidth": 2,
            "linecolor": "white",
            "showbackground": true,
            "ticks": "",
            "zerolinecolor": "white"
           },
           "yaxis": {
            "backgroundcolor": "#E5ECF6",
            "gridcolor": "white",
            "gridwidth": 2,
            "linecolor": "white",
            "showbackground": true,
            "ticks": "",
            "zerolinecolor": "white"
           },
           "zaxis": {
            "backgroundcolor": "#E5ECF6",
            "gridcolor": "white",
            "gridwidth": 2,
            "linecolor": "white",
            "showbackground": true,
            "ticks": "",
            "zerolinecolor": "white"
           }
          },
          "shapedefaults": {
           "line": {
            "color": "#2a3f5f"
           }
          },
          "ternary": {
           "aaxis": {
            "gridcolor": "white",
            "linecolor": "white",
            "ticks": ""
           },
           "baxis": {
            "gridcolor": "white",
            "linecolor": "white",
            "ticks": ""
           },
           "bgcolor": "#E5ECF6",
           "caxis": {
            "gridcolor": "white",
            "linecolor": "white",
            "ticks": ""
           }
          },
          "title": {
           "x": 0.05
          },
          "xaxis": {
           "automargin": true,
           "gridcolor": "white",
           "linecolor": "white",
           "ticks": "",
           "title": {
            "standoff": 15
           },
           "zerolinecolor": "white",
           "zerolinewidth": 2
          },
          "yaxis": {
           "automargin": true,
           "gridcolor": "white",
           "linecolor": "white",
           "ticks": "",
           "title": {
            "standoff": 15
           },
           "zerolinecolor": "white",
           "zerolinewidth": 2
          }
         }
        },
        "xaxis": {
         "anchor": "y",
         "domain": [
          0,
          1
         ],
         "title": {
          "text": "variable"
         }
        },
        "yaxis": {
         "anchor": "x",
         "domain": [
          0,
          1
         ],
         "title": {
          "text": "sum of coeff"
         }
        }
       }
      },
      "text/html": [
       "<div>                            <div id=\"b44065d4-6db9-47c0-8c6b-2c43038a5ae0\" class=\"plotly-graph-div\" style=\"height:525px; width:100%;\"></div>            <script type=\"text/javascript\">                require([\"plotly\"], function(Plotly) {                    window.PLOTLYENV=window.PLOTLYENV || {};                                    if (document.getElementById(\"b44065d4-6db9-47c0-8c6b-2c43038a5ae0\")) {                    Plotly.newPlot(                        \"b44065d4-6db9-47c0-8c6b-2c43038a5ae0\",                        [{\"alignmentgroup\": \"True\", \"bingroup\": \"x\", \"histfunc\": \"sum\", \"hovertemplate\": \"variable=%{x}<br>sum of coeff=%{y}<extra></extra>\", \"legendgroup\": \"\", \"marker\": {\"color\": \"#636efa\"}, \"name\": \"\", \"offsetgroup\": \"\", \"orientation\": \"v\", \"showlegend\": false, \"type\": \"histogram\", \"x\": [\"before_price_mean\", \"no_consumer_cancellation\", \"no_consumer_cancellation^2\", \"no_meals_refunded\", \"no_meals_refunded^2\", \"no_store_cancellation\", \"no_store_cancellation^2\", \"occurence\", \"occurence^2\", \"parent_chain_id\", \"parent_chain_id^2\", \"price_mean\", \"reduction\", \"store_id\", \"store_id^2\", \"store_region_Alsace\", \"store_region_Aquitaine\", \"store_region_Auvergne\", \"store_region_Basse-Normandie\", \"store_region_Bourgogne\", \"store_region_Bretagne\", \"store_region_Centre - Val De Loire\", \"store_region_Champagne-Ardenne\", \"store_region_Corse\", \"store_region_Franche-Comt\\u00e9\", \"store_region_Haute-Normandie\", \"store_region_Ile-De-France\", \"store_region_Languedoc-Roussillon\", \"store_region_Limousin\", \"store_region_Lorraine\", \"store_region_Midi-Pyr\\u00e9n\\u00e9es\", \"store_region_Nord-Pas De Calais\", \"store_region_Pays De La Loire\", \"store_region_Picardie\", \"store_region_Poitou-Charentes\", \"store_region_Provence-Alpes-C\\u00f4te D\\u2019Azur\", \"store_region_Rh\\u00f4ne-Alpes\", \"store_segment_Bakery\", \"store_segment_Beverages\", \"store_segment_Buffet\", \"store_segment_Butcher\", \"store_segment_Cafeteria\", \"store_segment_Canteen\", \"store_segment_Caterer\", \"store_segment_Fast Food / Take away restaurant\", \"store_segment_Fish shop\", \"store_segment_Florist\", \"store_segment_Fruits & vegetables store\", \"store_segment_Gas station\", \"store_segment_Hotel\", \"store_segment_Manufacturer\", \"store_segment_Market stall\", \"store_segment_Other\", \"store_segment_Other Specialists\", \"store_segment_Pastry\", \"store_segment_Supermarket Big\", \"store_segment_Supermarket Medium\", \"store_segment_Supermarket Small\", \"store_segment_Sushi\", \"store_segment_Traditional Restaurant\"], \"xaxis\": \"x\", \"y\": [-0.26509641848562404, -1.6688675714565206, 2.9418961520730504, -1.340996856383503, 2.0021330254501213, -0.23445962939003556, 0.8421561440241767, -3.1852976471714145, 3.464465851246187, -0.34018170635751016, 0.47606786488524727, 0.6166833516390844, -0.2100374512663255, 0.35996901106761353, -1.186258165184541, -125100944705.96399, 406832052043.3145, -348768724405.39044, 397940842888.62787, 167801693887.56134, -181383776403.97897, -278066493084.807, 285486793980.31555, 95279848082.63806, 129607720523.98816, -96624340273.07913, -12277713360.1388, -84113868196.60393, -11157259954.05337, -314450583146.14575, 108147970815.04286, 41131085425.1433, 650632779742.0508, 119316784110.79976, 60602851863.045105, -37597380058.138756, -690094807288.8068, -70405268007.52267, 0.014482708348396923, -0.07939740159536168, -0.13163106935401198, -0.08515700999116554, 0.049735965312986186, -0.056978931690108696, -0.12681538276211657, -0.0632651029907612, -0.12642330688915854, -0.16436441348902348, -0.18115202104959083, -0.13607196474390149, -0.10021612220234227, -0.17009386885713826, -0.0661124196976019, -0.07505720633596935, -0.1390571482094502, -0.05711747100676978, -0.11863183416331424, -0.18015142978776555, -0.07880210829483575, -0.09114089306731711], \"yaxis\": \"y\"}],                        {\"barmode\": \"relative\", \"legend\": {\"tracegroupgap\": 0}, \"margin\": {\"t\": 60}, \"template\": {\"data\": {\"bar\": [{\"error_x\": {\"color\": \"#2a3f5f\"}, \"error_y\": {\"color\": \"#2a3f5f\"}, \"marker\": {\"line\": {\"color\": \"#E5ECF6\", \"width\": 0.5}}, \"type\": \"bar\"}], \"barpolar\": [{\"marker\": {\"line\": {\"color\": \"#E5ECF6\", \"width\": 0.5}}, \"type\": \"barpolar\"}], \"carpet\": [{\"aaxis\": {\"endlinecolor\": \"#2a3f5f\", \"gridcolor\": \"white\", \"linecolor\": \"white\", \"minorgridcolor\": \"white\", \"startlinecolor\": \"#2a3f5f\"}, \"baxis\": {\"endlinecolor\": \"#2a3f5f\", \"gridcolor\": \"white\", \"linecolor\": \"white\", \"minorgridcolor\": \"white\", \"startlinecolor\": \"#2a3f5f\"}, \"type\": \"carpet\"}], \"choropleth\": [{\"colorbar\": {\"outlinewidth\": 0, \"ticks\": \"\"}, \"type\": \"choropleth\"}], \"contour\": [{\"colorbar\": {\"outlinewidth\": 0, \"ticks\": \"\"}, \"colorscale\": [[0.0, \"#0d0887\"], [0.1111111111111111, \"#46039f\"], [0.2222222222222222, \"#7201a8\"], [0.3333333333333333, \"#9c179e\"], [0.4444444444444444, \"#bd3786\"], [0.5555555555555556, \"#d8576b\"], [0.6666666666666666, \"#ed7953\"], [0.7777777777777778, \"#fb9f3a\"], [0.8888888888888888, \"#fdca26\"], [1.0, \"#f0f921\"]], \"type\": \"contour\"}], \"contourcarpet\": [{\"colorbar\": {\"outlinewidth\": 0, \"ticks\": \"\"}, \"type\": \"contourcarpet\"}], \"heatmap\": [{\"colorbar\": {\"outlinewidth\": 0, \"ticks\": \"\"}, \"colorscale\": [[0.0, \"#0d0887\"], [0.1111111111111111, \"#46039f\"], [0.2222222222222222, \"#7201a8\"], [0.3333333333333333, \"#9c179e\"], [0.4444444444444444, \"#bd3786\"], [0.5555555555555556, \"#d8576b\"], [0.6666666666666666, \"#ed7953\"], [0.7777777777777778, \"#fb9f3a\"], [0.8888888888888888, \"#fdca26\"], [1.0, \"#f0f921\"]], \"type\": \"heatmap\"}], \"heatmapgl\": [{\"colorbar\": {\"outlinewidth\": 0, \"ticks\": \"\"}, \"colorscale\": [[0.0, \"#0d0887\"], [0.1111111111111111, \"#46039f\"], [0.2222222222222222, \"#7201a8\"], [0.3333333333333333, \"#9c179e\"], [0.4444444444444444, \"#bd3786\"], [0.5555555555555556, \"#d8576b\"], [0.6666666666666666, \"#ed7953\"], [0.7777777777777778, \"#fb9f3a\"], [0.8888888888888888, \"#fdca26\"], [1.0, \"#f0f921\"]], \"type\": \"heatmapgl\"}], \"histogram\": [{\"marker\": {\"colorbar\": {\"outlinewidth\": 0, \"ticks\": \"\"}}, \"type\": \"histogram\"}], \"histogram2d\": [{\"colorbar\": {\"outlinewidth\": 0, \"ticks\": \"\"}, \"colorscale\": [[0.0, \"#0d0887\"], [0.1111111111111111, \"#46039f\"], [0.2222222222222222, \"#7201a8\"], [0.3333333333333333, \"#9c179e\"], [0.4444444444444444, \"#bd3786\"], [0.5555555555555556, \"#d8576b\"], [0.6666666666666666, \"#ed7953\"], [0.7777777777777778, \"#fb9f3a\"], [0.8888888888888888, \"#fdca26\"], [1.0, \"#f0f921\"]], \"type\": \"histogram2d\"}], \"histogram2dcontour\": [{\"colorbar\": {\"outlinewidth\": 0, \"ticks\": \"\"}, \"colorscale\": [[0.0, \"#0d0887\"], [0.1111111111111111, \"#46039f\"], [0.2222222222222222, \"#7201a8\"], [0.3333333333333333, \"#9c179e\"], [0.4444444444444444, \"#bd3786\"], [0.5555555555555556, \"#d8576b\"], [0.6666666666666666, \"#ed7953\"], [0.7777777777777778, \"#fb9f3a\"], [0.8888888888888888, \"#fdca26\"], [1.0, \"#f0f921\"]], \"type\": \"histogram2dcontour\"}], \"mesh3d\": [{\"colorbar\": {\"outlinewidth\": 0, \"ticks\": \"\"}, \"type\": \"mesh3d\"}], \"parcoords\": [{\"line\": {\"colorbar\": {\"outlinewidth\": 0, \"ticks\": \"\"}}, \"type\": \"parcoords\"}], \"pie\": [{\"automargin\": true, \"type\": \"pie\"}], \"scatter\": [{\"marker\": {\"colorbar\": {\"outlinewidth\": 0, \"ticks\": \"\"}}, \"type\": \"scatter\"}], \"scatter3d\": [{\"line\": {\"colorbar\": {\"outlinewidth\": 0, \"ticks\": \"\"}}, \"marker\": {\"colorbar\": {\"outlinewidth\": 0, \"ticks\": \"\"}}, \"type\": \"scatter3d\"}], \"scattercarpet\": [{\"marker\": {\"colorbar\": {\"outlinewidth\": 0, \"ticks\": \"\"}}, \"type\": \"scattercarpet\"}], \"scattergeo\": [{\"marker\": {\"colorbar\": {\"outlinewidth\": 0, \"ticks\": \"\"}}, \"type\": \"scattergeo\"}], \"scattergl\": [{\"marker\": {\"colorbar\": {\"outlinewidth\": 0, \"ticks\": \"\"}}, \"type\": \"scattergl\"}], \"scattermapbox\": [{\"marker\": {\"colorbar\": {\"outlinewidth\": 0, \"ticks\": \"\"}}, \"type\": \"scattermapbox\"}], \"scatterpolar\": [{\"marker\": {\"colorbar\": {\"outlinewidth\": 0, \"ticks\": \"\"}}, \"type\": \"scatterpolar\"}], \"scatterpolargl\": [{\"marker\": {\"colorbar\": {\"outlinewidth\": 0, \"ticks\": \"\"}}, \"type\": \"scatterpolargl\"}], \"scatterternary\": [{\"marker\": {\"colorbar\": {\"outlinewidth\": 0, \"ticks\": \"\"}}, \"type\": \"scatterternary\"}], \"surface\": [{\"colorbar\": {\"outlinewidth\": 0, \"ticks\": \"\"}, \"colorscale\": [[0.0, \"#0d0887\"], [0.1111111111111111, \"#46039f\"], [0.2222222222222222, \"#7201a8\"], [0.3333333333333333, \"#9c179e\"], [0.4444444444444444, \"#bd3786\"], [0.5555555555555556, \"#d8576b\"], [0.6666666666666666, \"#ed7953\"], [0.7777777777777778, \"#fb9f3a\"], [0.8888888888888888, \"#fdca26\"], [1.0, \"#f0f921\"]], \"type\": \"surface\"}], \"table\": [{\"cells\": {\"fill\": {\"color\": \"#EBF0F8\"}, \"line\": {\"color\": \"white\"}}, \"header\": {\"fill\": {\"color\": \"#C8D4E3\"}, \"line\": {\"color\": \"white\"}}, \"type\": \"table\"}]}, \"layout\": {\"annotationdefaults\": {\"arrowcolor\": \"#2a3f5f\", \"arrowhead\": 0, \"arrowwidth\": 1}, \"autotypenumbers\": \"strict\", \"coloraxis\": {\"colorbar\": {\"outlinewidth\": 0, \"ticks\": \"\"}}, \"colorscale\": {\"diverging\": [[0, \"#8e0152\"], [0.1, \"#c51b7d\"], [0.2, \"#de77ae\"], [0.3, \"#f1b6da\"], [0.4, \"#fde0ef\"], [0.5, \"#f7f7f7\"], [0.6, \"#e6f5d0\"], [0.7, \"#b8e186\"], [0.8, \"#7fbc41\"], [0.9, \"#4d9221\"], [1, \"#276419\"]], \"sequential\": [[0.0, \"#0d0887\"], [0.1111111111111111, \"#46039f\"], [0.2222222222222222, \"#7201a8\"], [0.3333333333333333, \"#9c179e\"], [0.4444444444444444, \"#bd3786\"], [0.5555555555555556, \"#d8576b\"], [0.6666666666666666, \"#ed7953\"], [0.7777777777777778, \"#fb9f3a\"], [0.8888888888888888, \"#fdca26\"], [1.0, \"#f0f921\"]], \"sequentialminus\": [[0.0, \"#0d0887\"], [0.1111111111111111, \"#46039f\"], [0.2222222222222222, \"#7201a8\"], [0.3333333333333333, \"#9c179e\"], [0.4444444444444444, \"#bd3786\"], [0.5555555555555556, \"#d8576b\"], [0.6666666666666666, \"#ed7953\"], [0.7777777777777778, \"#fb9f3a\"], [0.8888888888888888, \"#fdca26\"], [1.0, \"#f0f921\"]]}, \"colorway\": [\"#636efa\", \"#EF553B\", \"#00cc96\", \"#ab63fa\", \"#FFA15A\", \"#19d3f3\", \"#FF6692\", \"#B6E880\", \"#FF97FF\", \"#FECB52\"], \"font\": {\"color\": \"#2a3f5f\"}, \"geo\": {\"bgcolor\": \"white\", \"lakecolor\": \"white\", \"landcolor\": \"#E5ECF6\", \"showlakes\": true, \"showland\": true, \"subunitcolor\": \"white\"}, \"hoverlabel\": {\"align\": \"left\"}, \"hovermode\": \"closest\", \"mapbox\": {\"style\": \"light\"}, \"paper_bgcolor\": \"white\", \"plot_bgcolor\": \"#E5ECF6\", \"polar\": {\"angularaxis\": {\"gridcolor\": \"white\", \"linecolor\": \"white\", \"ticks\": \"\"}, \"bgcolor\": \"#E5ECF6\", \"radialaxis\": {\"gridcolor\": \"white\", \"linecolor\": \"white\", \"ticks\": \"\"}}, \"scene\": {\"xaxis\": {\"backgroundcolor\": \"#E5ECF6\", \"gridcolor\": \"white\", \"gridwidth\": 2, \"linecolor\": \"white\", \"showbackground\": true, \"ticks\": \"\", \"zerolinecolor\": \"white\"}, \"yaxis\": {\"backgroundcolor\": \"#E5ECF6\", \"gridcolor\": \"white\", \"gridwidth\": 2, \"linecolor\": \"white\", \"showbackground\": true, \"ticks\": \"\", \"zerolinecolor\": \"white\"}, \"zaxis\": {\"backgroundcolor\": \"#E5ECF6\", \"gridcolor\": \"white\", \"gridwidth\": 2, \"linecolor\": \"white\", \"showbackground\": true, \"ticks\": \"\", \"zerolinecolor\": \"white\"}}, \"shapedefaults\": {\"line\": {\"color\": \"#2a3f5f\"}}, \"ternary\": {\"aaxis\": {\"gridcolor\": \"white\", \"linecolor\": \"white\", \"ticks\": \"\"}, \"baxis\": {\"gridcolor\": \"white\", \"linecolor\": \"white\", \"ticks\": \"\"}, \"bgcolor\": \"#E5ECF6\", \"caxis\": {\"gridcolor\": \"white\", \"linecolor\": \"white\", \"ticks\": \"\"}}, \"title\": {\"x\": 0.05}, \"xaxis\": {\"automargin\": true, \"gridcolor\": \"white\", \"linecolor\": \"white\", \"ticks\": \"\", \"title\": {\"standoff\": 15}, \"zerolinecolor\": \"white\", \"zerolinewidth\": 2}, \"yaxis\": {\"automargin\": true, \"gridcolor\": \"white\", \"linecolor\": \"white\", \"ticks\": \"\", \"title\": {\"standoff\": 15}, \"zerolinecolor\": \"white\", \"zerolinewidth\": 2}}}, \"xaxis\": {\"anchor\": \"y\", \"domain\": [0.0, 1.0], \"title\": {\"text\": \"variable\"}}, \"yaxis\": {\"anchor\": \"x\", \"domain\": [0.0, 1.0], \"title\": {\"text\": \"sum of coeff\"}}},                        {\"responsive\": true}                    ).then(function(){\n",
       "                            \n",
       "var gd = document.getElementById('b44065d4-6db9-47c0-8c6b-2c43038a5ae0');\n",
       "var x = new MutationObserver(function (mutations, observer) {{\n",
       "        var display = window.getComputedStyle(gd).display;\n",
       "        if (!display || display === 'none') {{\n",
       "            console.log([gd, 'removed!']);\n",
       "            Plotly.purge(gd);\n",
       "            observer.disconnect();\n",
       "        }}\n",
       "}});\n",
       "\n",
       "// Listen for the removal of the full notebook cells\n",
       "var notebookContainer = gd.closest('#notebook-container');\n",
       "if (notebookContainer) {{\n",
       "    x.observe(notebookContainer, {childList: true});\n",
       "}}\n",
       "\n",
       "// Listen for the clearing of the current output cell\n",
       "var outputEl = gd.closest('.output');\n",
       "if (outputEl) {{\n",
       "    x.observe(outputEl, {childList: true});\n",
       "}}\n",
       "\n",
       "                        })                };                });            </script>        </div>"
      ]
     },
     "metadata": {},
     "output_type": "display_data"
    },
    {
     "data": {
      "application/vnd.plotly.v1+json": {
       "config": {
        "plotlyServerURL": "https://plot.ly"
       },
       "data": [
        {
         "hovertemplate": "x=%{x}<br>y=%{y}<extra></extra>",
         "legendgroup": "",
         "line": {
          "color": "#636efa",
          "dash": "solid"
         },
         "mode": "lines",
         "name": "",
         "orientation": "v",
         "showlegend": false,
         "type": "scatter",
         "x": [
          2
         ],
         "xaxis": "x",
         "y": [
          0.04631687425197178
         ],
         "yaxis": "y"
        }
       ],
       "layout": {
        "legend": {
         "tracegroupgap": 0
        },
        "margin": {
         "t": 60
        },
        "template": {
         "data": {
          "bar": [
           {
            "error_x": {
             "color": "#2a3f5f"
            },
            "error_y": {
             "color": "#2a3f5f"
            },
            "marker": {
             "line": {
              "color": "#E5ECF6",
              "width": 0.5
             }
            },
            "type": "bar"
           }
          ],
          "barpolar": [
           {
            "marker": {
             "line": {
              "color": "#E5ECF6",
              "width": 0.5
             }
            },
            "type": "barpolar"
           }
          ],
          "carpet": [
           {
            "aaxis": {
             "endlinecolor": "#2a3f5f",
             "gridcolor": "white",
             "linecolor": "white",
             "minorgridcolor": "white",
             "startlinecolor": "#2a3f5f"
            },
            "baxis": {
             "endlinecolor": "#2a3f5f",
             "gridcolor": "white",
             "linecolor": "white",
             "minorgridcolor": "white",
             "startlinecolor": "#2a3f5f"
            },
            "type": "carpet"
           }
          ],
          "choropleth": [
           {
            "colorbar": {
             "outlinewidth": 0,
             "ticks": ""
            },
            "type": "choropleth"
           }
          ],
          "contour": [
           {
            "colorbar": {
             "outlinewidth": 0,
             "ticks": ""
            },
            "colorscale": [
             [
              0,
              "#0d0887"
             ],
             [
              0.1111111111111111,
              "#46039f"
             ],
             [
              0.2222222222222222,
              "#7201a8"
             ],
             [
              0.3333333333333333,
              "#9c179e"
             ],
             [
              0.4444444444444444,
              "#bd3786"
             ],
             [
              0.5555555555555556,
              "#d8576b"
             ],
             [
              0.6666666666666666,
              "#ed7953"
             ],
             [
              0.7777777777777778,
              "#fb9f3a"
             ],
             [
              0.8888888888888888,
              "#fdca26"
             ],
             [
              1,
              "#f0f921"
             ]
            ],
            "type": "contour"
           }
          ],
          "contourcarpet": [
           {
            "colorbar": {
             "outlinewidth": 0,
             "ticks": ""
            },
            "type": "contourcarpet"
           }
          ],
          "heatmap": [
           {
            "colorbar": {
             "outlinewidth": 0,
             "ticks": ""
            },
            "colorscale": [
             [
              0,
              "#0d0887"
             ],
             [
              0.1111111111111111,
              "#46039f"
             ],
             [
              0.2222222222222222,
              "#7201a8"
             ],
             [
              0.3333333333333333,
              "#9c179e"
             ],
             [
              0.4444444444444444,
              "#bd3786"
             ],
             [
              0.5555555555555556,
              "#d8576b"
             ],
             [
              0.6666666666666666,
              "#ed7953"
             ],
             [
              0.7777777777777778,
              "#fb9f3a"
             ],
             [
              0.8888888888888888,
              "#fdca26"
             ],
             [
              1,
              "#f0f921"
             ]
            ],
            "type": "heatmap"
           }
          ],
          "heatmapgl": [
           {
            "colorbar": {
             "outlinewidth": 0,
             "ticks": ""
            },
            "colorscale": [
             [
              0,
              "#0d0887"
             ],
             [
              0.1111111111111111,
              "#46039f"
             ],
             [
              0.2222222222222222,
              "#7201a8"
             ],
             [
              0.3333333333333333,
              "#9c179e"
             ],
             [
              0.4444444444444444,
              "#bd3786"
             ],
             [
              0.5555555555555556,
              "#d8576b"
             ],
             [
              0.6666666666666666,
              "#ed7953"
             ],
             [
              0.7777777777777778,
              "#fb9f3a"
             ],
             [
              0.8888888888888888,
              "#fdca26"
             ],
             [
              1,
              "#f0f921"
             ]
            ],
            "type": "heatmapgl"
           }
          ],
          "histogram": [
           {
            "marker": {
             "colorbar": {
              "outlinewidth": 0,
              "ticks": ""
             }
            },
            "type": "histogram"
           }
          ],
          "histogram2d": [
           {
            "colorbar": {
             "outlinewidth": 0,
             "ticks": ""
            },
            "colorscale": [
             [
              0,
              "#0d0887"
             ],
             [
              0.1111111111111111,
              "#46039f"
             ],
             [
              0.2222222222222222,
              "#7201a8"
             ],
             [
              0.3333333333333333,
              "#9c179e"
             ],
             [
              0.4444444444444444,
              "#bd3786"
             ],
             [
              0.5555555555555556,
              "#d8576b"
             ],
             [
              0.6666666666666666,
              "#ed7953"
             ],
             [
              0.7777777777777778,
              "#fb9f3a"
             ],
             [
              0.8888888888888888,
              "#fdca26"
             ],
             [
              1,
              "#f0f921"
             ]
            ],
            "type": "histogram2d"
           }
          ],
          "histogram2dcontour": [
           {
            "colorbar": {
             "outlinewidth": 0,
             "ticks": ""
            },
            "colorscale": [
             [
              0,
              "#0d0887"
             ],
             [
              0.1111111111111111,
              "#46039f"
             ],
             [
              0.2222222222222222,
              "#7201a8"
             ],
             [
              0.3333333333333333,
              "#9c179e"
             ],
             [
              0.4444444444444444,
              "#bd3786"
             ],
             [
              0.5555555555555556,
              "#d8576b"
             ],
             [
              0.6666666666666666,
              "#ed7953"
             ],
             [
              0.7777777777777778,
              "#fb9f3a"
             ],
             [
              0.8888888888888888,
              "#fdca26"
             ],
             [
              1,
              "#f0f921"
             ]
            ],
            "type": "histogram2dcontour"
           }
          ],
          "mesh3d": [
           {
            "colorbar": {
             "outlinewidth": 0,
             "ticks": ""
            },
            "type": "mesh3d"
           }
          ],
          "parcoords": [
           {
            "line": {
             "colorbar": {
              "outlinewidth": 0,
              "ticks": ""
             }
            },
            "type": "parcoords"
           }
          ],
          "pie": [
           {
            "automargin": true,
            "type": "pie"
           }
          ],
          "scatter": [
           {
            "marker": {
             "colorbar": {
              "outlinewidth": 0,
              "ticks": ""
             }
            },
            "type": "scatter"
           }
          ],
          "scatter3d": [
           {
            "line": {
             "colorbar": {
              "outlinewidth": 0,
              "ticks": ""
             }
            },
            "marker": {
             "colorbar": {
              "outlinewidth": 0,
              "ticks": ""
             }
            },
            "type": "scatter3d"
           }
          ],
          "scattercarpet": [
           {
            "marker": {
             "colorbar": {
              "outlinewidth": 0,
              "ticks": ""
             }
            },
            "type": "scattercarpet"
           }
          ],
          "scattergeo": [
           {
            "marker": {
             "colorbar": {
              "outlinewidth": 0,
              "ticks": ""
             }
            },
            "type": "scattergeo"
           }
          ],
          "scattergl": [
           {
            "marker": {
             "colorbar": {
              "outlinewidth": 0,
              "ticks": ""
             }
            },
            "type": "scattergl"
           }
          ],
          "scattermapbox": [
           {
            "marker": {
             "colorbar": {
              "outlinewidth": 0,
              "ticks": ""
             }
            },
            "type": "scattermapbox"
           }
          ],
          "scatterpolar": [
           {
            "marker": {
             "colorbar": {
              "outlinewidth": 0,
              "ticks": ""
             }
            },
            "type": "scatterpolar"
           }
          ],
          "scatterpolargl": [
           {
            "marker": {
             "colorbar": {
              "outlinewidth": 0,
              "ticks": ""
             }
            },
            "type": "scatterpolargl"
           }
          ],
          "scatterternary": [
           {
            "marker": {
             "colorbar": {
              "outlinewidth": 0,
              "ticks": ""
             }
            },
            "type": "scatterternary"
           }
          ],
          "surface": [
           {
            "colorbar": {
             "outlinewidth": 0,
             "ticks": ""
            },
            "colorscale": [
             [
              0,
              "#0d0887"
             ],
             [
              0.1111111111111111,
              "#46039f"
             ],
             [
              0.2222222222222222,
              "#7201a8"
             ],
             [
              0.3333333333333333,
              "#9c179e"
             ],
             [
              0.4444444444444444,
              "#bd3786"
             ],
             [
              0.5555555555555556,
              "#d8576b"
             ],
             [
              0.6666666666666666,
              "#ed7953"
             ],
             [
              0.7777777777777778,
              "#fb9f3a"
             ],
             [
              0.8888888888888888,
              "#fdca26"
             ],
             [
              1,
              "#f0f921"
             ]
            ],
            "type": "surface"
           }
          ],
          "table": [
           {
            "cells": {
             "fill": {
              "color": "#EBF0F8"
             },
             "line": {
              "color": "white"
             }
            },
            "header": {
             "fill": {
              "color": "#C8D4E3"
             },
             "line": {
              "color": "white"
             }
            },
            "type": "table"
           }
          ]
         },
         "layout": {
          "annotationdefaults": {
           "arrowcolor": "#2a3f5f",
           "arrowhead": 0,
           "arrowwidth": 1
          },
          "autotypenumbers": "strict",
          "coloraxis": {
           "colorbar": {
            "outlinewidth": 0,
            "ticks": ""
           }
          },
          "colorscale": {
           "diverging": [
            [
             0,
             "#8e0152"
            ],
            [
             0.1,
             "#c51b7d"
            ],
            [
             0.2,
             "#de77ae"
            ],
            [
             0.3,
             "#f1b6da"
            ],
            [
             0.4,
             "#fde0ef"
            ],
            [
             0.5,
             "#f7f7f7"
            ],
            [
             0.6,
             "#e6f5d0"
            ],
            [
             0.7,
             "#b8e186"
            ],
            [
             0.8,
             "#7fbc41"
            ],
            [
             0.9,
             "#4d9221"
            ],
            [
             1,
             "#276419"
            ]
           ],
           "sequential": [
            [
             0,
             "#0d0887"
            ],
            [
             0.1111111111111111,
             "#46039f"
            ],
            [
             0.2222222222222222,
             "#7201a8"
            ],
            [
             0.3333333333333333,
             "#9c179e"
            ],
            [
             0.4444444444444444,
             "#bd3786"
            ],
            [
             0.5555555555555556,
             "#d8576b"
            ],
            [
             0.6666666666666666,
             "#ed7953"
            ],
            [
             0.7777777777777778,
             "#fb9f3a"
            ],
            [
             0.8888888888888888,
             "#fdca26"
            ],
            [
             1,
             "#f0f921"
            ]
           ],
           "sequentialminus": [
            [
             0,
             "#0d0887"
            ],
            [
             0.1111111111111111,
             "#46039f"
            ],
            [
             0.2222222222222222,
             "#7201a8"
            ],
            [
             0.3333333333333333,
             "#9c179e"
            ],
            [
             0.4444444444444444,
             "#bd3786"
            ],
            [
             0.5555555555555556,
             "#d8576b"
            ],
            [
             0.6666666666666666,
             "#ed7953"
            ],
            [
             0.7777777777777778,
             "#fb9f3a"
            ],
            [
             0.8888888888888888,
             "#fdca26"
            ],
            [
             1,
             "#f0f921"
            ]
           ]
          },
          "colorway": [
           "#636efa",
           "#EF553B",
           "#00cc96",
           "#ab63fa",
           "#FFA15A",
           "#19d3f3",
           "#FF6692",
           "#B6E880",
           "#FF97FF",
           "#FECB52"
          ],
          "font": {
           "color": "#2a3f5f"
          },
          "geo": {
           "bgcolor": "white",
           "lakecolor": "white",
           "landcolor": "#E5ECF6",
           "showlakes": true,
           "showland": true,
           "subunitcolor": "white"
          },
          "hoverlabel": {
           "align": "left"
          },
          "hovermode": "closest",
          "mapbox": {
           "style": "light"
          },
          "paper_bgcolor": "white",
          "plot_bgcolor": "#E5ECF6",
          "polar": {
           "angularaxis": {
            "gridcolor": "white",
            "linecolor": "white",
            "ticks": ""
           },
           "bgcolor": "#E5ECF6",
           "radialaxis": {
            "gridcolor": "white",
            "linecolor": "white",
            "ticks": ""
           }
          },
          "scene": {
           "xaxis": {
            "backgroundcolor": "#E5ECF6",
            "gridcolor": "white",
            "gridwidth": 2,
            "linecolor": "white",
            "showbackground": true,
            "ticks": "",
            "zerolinecolor": "white"
           },
           "yaxis": {
            "backgroundcolor": "#E5ECF6",
            "gridcolor": "white",
            "gridwidth": 2,
            "linecolor": "white",
            "showbackground": true,
            "ticks": "",
            "zerolinecolor": "white"
           },
           "zaxis": {
            "backgroundcolor": "#E5ECF6",
            "gridcolor": "white",
            "gridwidth": 2,
            "linecolor": "white",
            "showbackground": true,
            "ticks": "",
            "zerolinecolor": "white"
           }
          },
          "shapedefaults": {
           "line": {
            "color": "#2a3f5f"
           }
          },
          "ternary": {
           "aaxis": {
            "gridcolor": "white",
            "linecolor": "white",
            "ticks": ""
           },
           "baxis": {
            "gridcolor": "white",
            "linecolor": "white",
            "ticks": ""
           },
           "bgcolor": "#E5ECF6",
           "caxis": {
            "gridcolor": "white",
            "linecolor": "white",
            "ticks": ""
           }
          },
          "title": {
           "x": 0.05
          },
          "xaxis": {
           "automargin": true,
           "gridcolor": "white",
           "linecolor": "white",
           "ticks": "",
           "title": {
            "standoff": 15
           },
           "zerolinecolor": "white",
           "zerolinewidth": 2
          },
          "yaxis": {
           "automargin": true,
           "gridcolor": "white",
           "linecolor": "white",
           "ticks": "",
           "title": {
            "standoff": 15
           },
           "zerolinecolor": "white",
           "zerolinewidth": 2
          }
         }
        },
        "xaxis": {
         "anchor": "y",
         "domain": [
          0,
          1
         ],
         "title": {
          "text": "x"
         }
        },
        "yaxis": {
         "anchor": "x",
         "domain": [
          0,
          1
         ],
         "title": {
          "text": "y"
         }
        }
       }
      },
      "text/html": [
       "<div>                            <div id=\"761ed8f6-9c0f-4ac1-90d3-323d0a5600bd\" class=\"plotly-graph-div\" style=\"height:525px; width:100%;\"></div>            <script type=\"text/javascript\">                require([\"plotly\"], function(Plotly) {                    window.PLOTLYENV=window.PLOTLYENV || {};                                    if (document.getElementById(\"761ed8f6-9c0f-4ac1-90d3-323d0a5600bd\")) {                    Plotly.newPlot(                        \"761ed8f6-9c0f-4ac1-90d3-323d0a5600bd\",                        [{\"hovertemplate\": \"x=%{x}<br>y=%{y}<extra></extra>\", \"legendgroup\": \"\", \"line\": {\"color\": \"#636efa\", \"dash\": \"solid\"}, \"mode\": \"lines\", \"name\": \"\", \"orientation\": \"v\", \"showlegend\": false, \"type\": \"scatter\", \"x\": [2], \"xaxis\": \"x\", \"y\": [0.04631687425197178], \"yaxis\": \"y\"}],                        {\"legend\": {\"tracegroupgap\": 0}, \"margin\": {\"t\": 60}, \"template\": {\"data\": {\"bar\": [{\"error_x\": {\"color\": \"#2a3f5f\"}, \"error_y\": {\"color\": \"#2a3f5f\"}, \"marker\": {\"line\": {\"color\": \"#E5ECF6\", \"width\": 0.5}}, \"type\": \"bar\"}], \"barpolar\": [{\"marker\": {\"line\": {\"color\": \"#E5ECF6\", \"width\": 0.5}}, \"type\": \"barpolar\"}], \"carpet\": [{\"aaxis\": {\"endlinecolor\": \"#2a3f5f\", \"gridcolor\": \"white\", \"linecolor\": \"white\", \"minorgridcolor\": \"white\", \"startlinecolor\": \"#2a3f5f\"}, \"baxis\": {\"endlinecolor\": \"#2a3f5f\", \"gridcolor\": \"white\", \"linecolor\": \"white\", \"minorgridcolor\": \"white\", \"startlinecolor\": \"#2a3f5f\"}, \"type\": \"carpet\"}], \"choropleth\": [{\"colorbar\": {\"outlinewidth\": 0, \"ticks\": \"\"}, \"type\": \"choropleth\"}], \"contour\": [{\"colorbar\": {\"outlinewidth\": 0, \"ticks\": \"\"}, \"colorscale\": [[0.0, \"#0d0887\"], [0.1111111111111111, \"#46039f\"], [0.2222222222222222, \"#7201a8\"], [0.3333333333333333, \"#9c179e\"], [0.4444444444444444, \"#bd3786\"], [0.5555555555555556, \"#d8576b\"], [0.6666666666666666, \"#ed7953\"], [0.7777777777777778, \"#fb9f3a\"], [0.8888888888888888, \"#fdca26\"], [1.0, \"#f0f921\"]], \"type\": \"contour\"}], \"contourcarpet\": [{\"colorbar\": {\"outlinewidth\": 0, \"ticks\": \"\"}, \"type\": \"contourcarpet\"}], \"heatmap\": [{\"colorbar\": {\"outlinewidth\": 0, \"ticks\": \"\"}, \"colorscale\": [[0.0, \"#0d0887\"], [0.1111111111111111, \"#46039f\"], [0.2222222222222222, \"#7201a8\"], [0.3333333333333333, \"#9c179e\"], [0.4444444444444444, \"#bd3786\"], [0.5555555555555556, \"#d8576b\"], [0.6666666666666666, \"#ed7953\"], [0.7777777777777778, \"#fb9f3a\"], [0.8888888888888888, \"#fdca26\"], [1.0, \"#f0f921\"]], \"type\": \"heatmap\"}], \"heatmapgl\": [{\"colorbar\": {\"outlinewidth\": 0, \"ticks\": \"\"}, \"colorscale\": [[0.0, \"#0d0887\"], [0.1111111111111111, \"#46039f\"], [0.2222222222222222, \"#7201a8\"], [0.3333333333333333, \"#9c179e\"], [0.4444444444444444, \"#bd3786\"], [0.5555555555555556, \"#d8576b\"], [0.6666666666666666, \"#ed7953\"], [0.7777777777777778, \"#fb9f3a\"], [0.8888888888888888, \"#fdca26\"], [1.0, \"#f0f921\"]], \"type\": \"heatmapgl\"}], \"histogram\": [{\"marker\": {\"colorbar\": {\"outlinewidth\": 0, \"ticks\": \"\"}}, \"type\": \"histogram\"}], \"histogram2d\": [{\"colorbar\": {\"outlinewidth\": 0, \"ticks\": \"\"}, \"colorscale\": [[0.0, \"#0d0887\"], [0.1111111111111111, \"#46039f\"], [0.2222222222222222, \"#7201a8\"], [0.3333333333333333, \"#9c179e\"], [0.4444444444444444, \"#bd3786\"], [0.5555555555555556, \"#d8576b\"], [0.6666666666666666, \"#ed7953\"], [0.7777777777777778, \"#fb9f3a\"], [0.8888888888888888, \"#fdca26\"], [1.0, \"#f0f921\"]], \"type\": \"histogram2d\"}], \"histogram2dcontour\": [{\"colorbar\": {\"outlinewidth\": 0, \"ticks\": \"\"}, \"colorscale\": [[0.0, \"#0d0887\"], [0.1111111111111111, \"#46039f\"], [0.2222222222222222, \"#7201a8\"], [0.3333333333333333, \"#9c179e\"], [0.4444444444444444, \"#bd3786\"], [0.5555555555555556, \"#d8576b\"], [0.6666666666666666, \"#ed7953\"], [0.7777777777777778, \"#fb9f3a\"], [0.8888888888888888, \"#fdca26\"], [1.0, \"#f0f921\"]], \"type\": \"histogram2dcontour\"}], \"mesh3d\": [{\"colorbar\": {\"outlinewidth\": 0, \"ticks\": \"\"}, \"type\": \"mesh3d\"}], \"parcoords\": [{\"line\": {\"colorbar\": {\"outlinewidth\": 0, \"ticks\": \"\"}}, \"type\": \"parcoords\"}], \"pie\": [{\"automargin\": true, \"type\": \"pie\"}], \"scatter\": [{\"marker\": {\"colorbar\": {\"outlinewidth\": 0, \"ticks\": \"\"}}, \"type\": \"scatter\"}], \"scatter3d\": [{\"line\": {\"colorbar\": {\"outlinewidth\": 0, \"ticks\": \"\"}}, \"marker\": {\"colorbar\": {\"outlinewidth\": 0, \"ticks\": \"\"}}, \"type\": \"scatter3d\"}], \"scattercarpet\": [{\"marker\": {\"colorbar\": {\"outlinewidth\": 0, \"ticks\": \"\"}}, \"type\": \"scattercarpet\"}], \"scattergeo\": [{\"marker\": {\"colorbar\": {\"outlinewidth\": 0, \"ticks\": \"\"}}, \"type\": \"scattergeo\"}], \"scattergl\": [{\"marker\": {\"colorbar\": {\"outlinewidth\": 0, \"ticks\": \"\"}}, \"type\": \"scattergl\"}], \"scattermapbox\": [{\"marker\": {\"colorbar\": {\"outlinewidth\": 0, \"ticks\": \"\"}}, \"type\": \"scattermapbox\"}], \"scatterpolar\": [{\"marker\": {\"colorbar\": {\"outlinewidth\": 0, \"ticks\": \"\"}}, \"type\": \"scatterpolar\"}], \"scatterpolargl\": [{\"marker\": {\"colorbar\": {\"outlinewidth\": 0, \"ticks\": \"\"}}, \"type\": \"scatterpolargl\"}], \"scatterternary\": [{\"marker\": {\"colorbar\": {\"outlinewidth\": 0, \"ticks\": \"\"}}, \"type\": \"scatterternary\"}], \"surface\": [{\"colorbar\": {\"outlinewidth\": 0, \"ticks\": \"\"}, \"colorscale\": [[0.0, \"#0d0887\"], [0.1111111111111111, \"#46039f\"], [0.2222222222222222, \"#7201a8\"], [0.3333333333333333, \"#9c179e\"], [0.4444444444444444, \"#bd3786\"], [0.5555555555555556, \"#d8576b\"], [0.6666666666666666, \"#ed7953\"], [0.7777777777777778, \"#fb9f3a\"], [0.8888888888888888, \"#fdca26\"], [1.0, \"#f0f921\"]], \"type\": \"surface\"}], \"table\": [{\"cells\": {\"fill\": {\"color\": \"#EBF0F8\"}, \"line\": {\"color\": \"white\"}}, \"header\": {\"fill\": {\"color\": \"#C8D4E3\"}, \"line\": {\"color\": \"white\"}}, \"type\": \"table\"}]}, \"layout\": {\"annotationdefaults\": {\"arrowcolor\": \"#2a3f5f\", \"arrowhead\": 0, \"arrowwidth\": 1}, \"autotypenumbers\": \"strict\", \"coloraxis\": {\"colorbar\": {\"outlinewidth\": 0, \"ticks\": \"\"}}, \"colorscale\": {\"diverging\": [[0, \"#8e0152\"], [0.1, \"#c51b7d\"], [0.2, \"#de77ae\"], [0.3, \"#f1b6da\"], [0.4, \"#fde0ef\"], [0.5, \"#f7f7f7\"], [0.6, \"#e6f5d0\"], [0.7, \"#b8e186\"], [0.8, \"#7fbc41\"], [0.9, \"#4d9221\"], [1, \"#276419\"]], \"sequential\": [[0.0, \"#0d0887\"], [0.1111111111111111, \"#46039f\"], [0.2222222222222222, \"#7201a8\"], [0.3333333333333333, \"#9c179e\"], [0.4444444444444444, \"#bd3786\"], [0.5555555555555556, \"#d8576b\"], [0.6666666666666666, \"#ed7953\"], [0.7777777777777778, \"#fb9f3a\"], [0.8888888888888888, \"#fdca26\"], [1.0, \"#f0f921\"]], \"sequentialminus\": [[0.0, \"#0d0887\"], [0.1111111111111111, \"#46039f\"], [0.2222222222222222, \"#7201a8\"], [0.3333333333333333, \"#9c179e\"], [0.4444444444444444, \"#bd3786\"], [0.5555555555555556, \"#d8576b\"], [0.6666666666666666, \"#ed7953\"], [0.7777777777777778, \"#fb9f3a\"], [0.8888888888888888, \"#fdca26\"], [1.0, \"#f0f921\"]]}, \"colorway\": [\"#636efa\", \"#EF553B\", \"#00cc96\", \"#ab63fa\", \"#FFA15A\", \"#19d3f3\", \"#FF6692\", \"#B6E880\", \"#FF97FF\", \"#FECB52\"], \"font\": {\"color\": \"#2a3f5f\"}, \"geo\": {\"bgcolor\": \"white\", \"lakecolor\": \"white\", \"landcolor\": \"#E5ECF6\", \"showlakes\": true, \"showland\": true, \"subunitcolor\": \"white\"}, \"hoverlabel\": {\"align\": \"left\"}, \"hovermode\": \"closest\", \"mapbox\": {\"style\": \"light\"}, \"paper_bgcolor\": \"white\", \"plot_bgcolor\": \"#E5ECF6\", \"polar\": {\"angularaxis\": {\"gridcolor\": \"white\", \"linecolor\": \"white\", \"ticks\": \"\"}, \"bgcolor\": \"#E5ECF6\", \"radialaxis\": {\"gridcolor\": \"white\", \"linecolor\": \"white\", \"ticks\": \"\"}}, \"scene\": {\"xaxis\": {\"backgroundcolor\": \"#E5ECF6\", \"gridcolor\": \"white\", \"gridwidth\": 2, \"linecolor\": \"white\", \"showbackground\": true, \"ticks\": \"\", \"zerolinecolor\": \"white\"}, \"yaxis\": {\"backgroundcolor\": \"#E5ECF6\", \"gridcolor\": \"white\", \"gridwidth\": 2, \"linecolor\": \"white\", \"showbackground\": true, \"ticks\": \"\", \"zerolinecolor\": \"white\"}, \"zaxis\": {\"backgroundcolor\": \"#E5ECF6\", \"gridcolor\": \"white\", \"gridwidth\": 2, \"linecolor\": \"white\", \"showbackground\": true, \"ticks\": \"\", \"zerolinecolor\": \"white\"}}, \"shapedefaults\": {\"line\": {\"color\": \"#2a3f5f\"}}, \"ternary\": {\"aaxis\": {\"gridcolor\": \"white\", \"linecolor\": \"white\", \"ticks\": \"\"}, \"baxis\": {\"gridcolor\": \"white\", \"linecolor\": \"white\", \"ticks\": \"\"}, \"bgcolor\": \"#E5ECF6\", \"caxis\": {\"gridcolor\": \"white\", \"linecolor\": \"white\", \"ticks\": \"\"}}, \"title\": {\"x\": 0.05}, \"xaxis\": {\"automargin\": true, \"gridcolor\": \"white\", \"linecolor\": \"white\", \"ticks\": \"\", \"title\": {\"standoff\": 15}, \"zerolinecolor\": \"white\", \"zerolinewidth\": 2}, \"yaxis\": {\"automargin\": true, \"gridcolor\": \"white\", \"linecolor\": \"white\", \"ticks\": \"\", \"title\": {\"standoff\": 15}, \"zerolinecolor\": \"white\", \"zerolinewidth\": 2}}}, \"xaxis\": {\"anchor\": \"y\", \"domain\": [0.0, 1.0], \"title\": {\"text\": \"x\"}}, \"yaxis\": {\"anchor\": \"x\", \"domain\": [0.0, 1.0], \"title\": {\"text\": \"y\"}}},                        {\"responsive\": true}                    ).then(function(){\n",
       "                            \n",
       "var gd = document.getElementById('761ed8f6-9c0f-4ac1-90d3-323d0a5600bd');\n",
       "var x = new MutationObserver(function (mutations, observer) {{\n",
       "        var display = window.getComputedStyle(gd).display;\n",
       "        if (!display || display === 'none') {{\n",
       "            console.log([gd, 'removed!']);\n",
       "            Plotly.purge(gd);\n",
       "            observer.disconnect();\n",
       "        }}\n",
       "}});\n",
       "\n",
       "// Listen for the removal of the full notebook cells\n",
       "var notebookContainer = gd.closest('#notebook-container');\n",
       "if (notebookContainer) {{\n",
       "    x.observe(notebookContainer, {childList: true});\n",
       "}}\n",
       "\n",
       "// Listen for the clearing of the current output cell\n",
       "var outputEl = gd.closest('.output');\n",
       "if (outputEl) {{\n",
       "    x.observe(outputEl, {childList: true});\n",
       "}}\n",
       "\n",
       "                        })                };                });            </script>        </div>"
      ]
     },
     "metadata": {},
     "output_type": "display_data"
    }
   ],
   "source": [
    "# Regressions jusqu'à l'overfitting (MSE > 0.4 sur l'échantillon test)\n",
    "\n",
    "i = 2\n",
    "val = poly_reg(2)\n",
    "list_mse_degree = [val]\n",
    "\n",
    "\n",
    "while val < .016:\n",
    "    i += 1\n",
    "    val = poly_reg(i)\n",
    "    list_mse_degree.append(val) \n",
    "    \n",
    "    if i > 25:\n",
    "        break\n",
    "    \n",
    "\n",
    "px.line(x = [i + 2 for i in range(len(list_mse_degree))], y = list_mse_degree).show()"
   ]
  },
  {
   "cell_type": "code",
   "execution_count": 515,
   "metadata": {},
   "outputs": [
    {
     "data": {
      "text/plain": [
       "ElasticNet(alpha=0.1, fit_intercept=False, l1_ratio=0.0009)"
      ]
     },
     "execution_count": 515,
     "metadata": {},
     "output_type": "execute_result"
    }
   ],
   "source": [
    "EN_reg = ElasticNet(alpha=.1, copy_X=True, fit_intercept = False, l1_ratio=.0009)\n",
    "\n",
    "EN_reg.fit(X_train, y_train)"
   ]
  },
  {
   "cell_type": "code",
   "execution_count": 516,
   "metadata": {},
   "outputs": [
    {
     "name": "stdout",
     "output_type": "stream",
     "text": [
      "MSE :  0.09060299710279748\n"
     ]
    }
   ],
   "source": [
    "y_pred = EN_reg.predict(X_test)\n",
    "print('MSE : ', mean_squared_error(y_test, y_pred))"
   ]
  },
  {
   "cell_type": "code",
   "execution_count": 517,
   "metadata": {},
   "outputs": [
    {
     "data": {
      "text/html": [
       "<div>\n",
       "<style scoped>\n",
       "    .dataframe tbody tr th:only-of-type {\n",
       "        vertical-align: middle;\n",
       "    }\n",
       "\n",
       "    .dataframe tbody tr th {\n",
       "        vertical-align: top;\n",
       "    }\n",
       "\n",
       "    .dataframe thead th {\n",
       "        text-align: right;\n",
       "    }\n",
       "</style>\n",
       "<table border=\"1\" class=\"dataframe\">\n",
       "  <thead>\n",
       "    <tr style=\"text-align: right;\">\n",
       "      <th></th>\n",
       "      <th>0</th>\n",
       "      <th>1</th>\n",
       "      <th>2</th>\n",
       "      <th>3</th>\n",
       "      <th>4</th>\n",
       "      <th>5</th>\n",
       "      <th>6</th>\n",
       "      <th>7</th>\n",
       "      <th>8</th>\n",
       "      <th>9</th>\n",
       "      <th>10</th>\n",
       "      <th>11</th>\n",
       "      <th>12</th>\n",
       "      <th>13</th>\n",
       "      <th>14</th>\n",
       "      <th>15</th>\n",
       "      <th>16</th>\n",
       "      <th>17</th>\n",
       "      <th>18</th>\n",
       "      <th>19</th>\n",
       "      <th>20</th>\n",
       "      <th>21</th>\n",
       "      <th>22</th>\n",
       "      <th>23</th>\n",
       "      <th>24</th>\n",
       "      <th>25</th>\n",
       "      <th>26</th>\n",
       "      <th>27</th>\n",
       "      <th>28</th>\n",
       "      <th>29</th>\n",
       "      <th>30</th>\n",
       "      <th>31</th>\n",
       "      <th>32</th>\n",
       "      <th>33</th>\n",
       "      <th>34</th>\n",
       "      <th>35</th>\n",
       "      <th>36</th>\n",
       "      <th>37</th>\n",
       "      <th>38</th>\n",
       "      <th>39</th>\n",
       "      <th>40</th>\n",
       "      <th>41</th>\n",
       "      <th>42</th>\n",
       "      <th>43</th>\n",
       "      <th>44</th>\n",
       "      <th>45</th>\n",
       "      <th>46</th>\n",
       "      <th>47</th>\n",
       "      <th>48</th>\n",
       "      <th>49</th>\n",
       "      <th>50</th>\n",
       "      <th>51</th>\n",
       "      <th>52</th>\n",
       "    </tr>\n",
       "  </thead>\n",
       "  <tbody>\n",
       "    <tr>\n",
       "      <th>variable</th>\n",
       "      <td>store_id</td>\n",
       "      <td>parent_chain_id</td>\n",
       "      <td>occurence</td>\n",
       "      <td>no_meals_refunded</td>\n",
       "      <td>no_store_cancellation</td>\n",
       "      <td>no_consumer_cancellation</td>\n",
       "      <td>before_price_mean</td>\n",
       "      <td>price_mean</td>\n",
       "      <td>reduction</td>\n",
       "      <td>store_region_Alsace</td>\n",
       "      <td>store_region_Aquitaine</td>\n",
       "      <td>store_region_Auvergne</td>\n",
       "      <td>store_region_Basse-Normandie</td>\n",
       "      <td>store_region_Bourgogne</td>\n",
       "      <td>store_region_Bretagne</td>\n",
       "      <td>store_region_Centre - Val De Loire</td>\n",
       "      <td>store_region_Champagne-Ardenne</td>\n",
       "      <td>store_region_Corse</td>\n",
       "      <td>store_region_Franche-Comté</td>\n",
       "      <td>store_region_Haute-Normandie</td>\n",
       "      <td>store_region_Ile-De-France</td>\n",
       "      <td>store_region_Languedoc-Roussillon</td>\n",
       "      <td>store_region_Limousin</td>\n",
       "      <td>store_region_Lorraine</td>\n",
       "      <td>store_region_Midi-Pyrénées</td>\n",
       "      <td>store_region_Nord-Pas De Calais</td>\n",
       "      <td>store_region_Pays De La Loire</td>\n",
       "      <td>store_region_Picardie</td>\n",
       "      <td>store_region_Poitou-Charentes</td>\n",
       "      <td>store_region_Provence-Alpes-Côte D’Azur</td>\n",
       "      <td>store_region_Rhône-Alpes</td>\n",
       "      <td>store_segment_Bakery</td>\n",
       "      <td>store_segment_Beverages</td>\n",
       "      <td>store_segment_Buffet</td>\n",
       "      <td>store_segment_Butcher</td>\n",
       "      <td>store_segment_Cafeteria</td>\n",
       "      <td>store_segment_Canteen</td>\n",
       "      <td>store_segment_Caterer</td>\n",
       "      <td>store_segment_Fast Food / Take away restaurant</td>\n",
       "      <td>store_segment_Fish shop</td>\n",
       "      <td>store_segment_Florist</td>\n",
       "      <td>store_segment_Fruits &amp; vegetables store</td>\n",
       "      <td>store_segment_Gas station</td>\n",
       "      <td>store_segment_Hotel</td>\n",
       "      <td>store_segment_Manufacturer</td>\n",
       "      <td>store_segment_Market stall</td>\n",
       "      <td>store_segment_Other</td>\n",
       "      <td>store_segment_Other Specialists</td>\n",
       "      <td>store_segment_Pastry</td>\n",
       "      <td>store_segment_Supermarket Big</td>\n",
       "      <td>store_segment_Supermarket Medium</td>\n",
       "      <td>store_segment_Supermarket Small</td>\n",
       "      <td>store_segment_Sushi</td>\n",
       "    </tr>\n",
       "    <tr>\n",
       "      <th>coeff</th>\n",
       "      <td>0.052175</td>\n",
       "      <td>-0.0431516</td>\n",
       "      <td>-0.0712999</td>\n",
       "      <td>-0.0403316</td>\n",
       "      <td>-0.0151103</td>\n",
       "      <td>-0.052499</td>\n",
       "      <td>0.0131546</td>\n",
       "      <td>0.0172452</td>\n",
       "      <td>0.215389</td>\n",
       "      <td>0.0139122</td>\n",
       "      <td>0.0289885</td>\n",
       "      <td>0.000204065</td>\n",
       "      <td>0</td>\n",
       "      <td>0.00127503</td>\n",
       "      <td>0.00885388</td>\n",
       "      <td>-0.00432091</td>\n",
       "      <td>0.00936501</td>\n",
       "      <td>-0.00063129</td>\n",
       "      <td>0.000524187</td>\n",
       "      <td>0.00336163</td>\n",
       "      <td>0.0725212</td>\n",
       "      <td>0.0136582</td>\n",
       "      <td>-0</td>\n",
       "      <td>0.000797458</td>\n",
       "      <td>0.0173097</td>\n",
       "      <td>0.0103152</td>\n",
       "      <td>0.0129414</td>\n",
       "      <td>-0.00291379</td>\n",
       "      <td>0.010046</td>\n",
       "      <td>0.0255361</td>\n",
       "      <td>0.0299968</td>\n",
       "      <td>-0.045892</td>\n",
       "      <td>0.0130359</td>\n",
       "      <td>-0.00285368</td>\n",
       "      <td>0.00204301</td>\n",
       "      <td>0.0210229</td>\n",
       "      <td>0.0137738</td>\n",
       "      <td>0.018529</td>\n",
       "      <td>0.0438601</td>\n",
       "      <td>0.00279876</td>\n",
       "      <td>0.00490691</td>\n",
       "      <td>0.000753974</td>\n",
       "      <td>0</td>\n",
       "      <td>0.0184966</td>\n",
       "      <td>-0.000283771</td>\n",
       "      <td>0.00099108</td>\n",
       "      <td>0.0406355</td>\n",
       "      <td>0.0188737</td>\n",
       "      <td>0.0227994</td>\n",
       "      <td>-0.000646495</td>\n",
       "      <td>-0.00255895</td>\n",
       "      <td>-0.0417999</td>\n",
       "      <td>-0.00300685</td>\n",
       "    </tr>\n",
       "  </tbody>\n",
       "</table>\n",
       "</div>"
      ],
      "text/plain": [
       "                0                1          2                  3   \\\n",
       "variable  store_id  parent_chain_id  occurence  no_meals_refunded   \n",
       "coeff     0.052175       -0.0431516 -0.0712999         -0.0403316   \n",
       "\n",
       "                             4                         5                  6   \\\n",
       "variable  no_store_cancellation  no_consumer_cancellation  before_price_mean   \n",
       "coeff                -0.0151103                 -0.052499          0.0131546   \n",
       "\n",
       "                  7          8                    9                       10  \\\n",
       "variable  price_mean  reduction  store_region_Alsace  store_region_Aquitaine   \n",
       "coeff      0.0172452   0.215389            0.0139122               0.0289885   \n",
       "\n",
       "                             11                            12  \\\n",
       "variable  store_region_Auvergne  store_region_Basse-Normandie   \n",
       "coeff               0.000204065                             0   \n",
       "\n",
       "                              13                     14  \\\n",
       "variable  store_region_Bourgogne  store_region_Bretagne   \n",
       "coeff                 0.00127503             0.00885388   \n",
       "\n",
       "                                          15                              16  \\\n",
       "variable  store_region_Centre - Val De Loire  store_region_Champagne-Ardenne   \n",
       "coeff                            -0.00432091                      0.00936501   \n",
       "\n",
       "                          17                          18  \\\n",
       "variable  store_region_Corse  store_region_Franche-Comté   \n",
       "coeff            -0.00063129                 0.000524187   \n",
       "\n",
       "                                    19                          20  \\\n",
       "variable  store_region_Haute-Normandie  store_region_Ile-De-France   \n",
       "coeff                       0.00336163                   0.0725212   \n",
       "\n",
       "                                         21                     22  \\\n",
       "variable  store_region_Languedoc-Roussillon  store_region_Limousin   \n",
       "coeff                             0.0136582                     -0   \n",
       "\n",
       "                             23                          24  \\\n",
       "variable  store_region_Lorraine  store_region_Midi-Pyrénées   \n",
       "coeff               0.000797458                   0.0173097   \n",
       "\n",
       "                                       25                             26  \\\n",
       "variable  store_region_Nord-Pas De Calais  store_region_Pays De La Loire   \n",
       "coeff                           0.0103152                      0.0129414   \n",
       "\n",
       "                             27                             28  \\\n",
       "variable  store_region_Picardie  store_region_Poitou-Charentes   \n",
       "coeff               -0.00291379                       0.010046   \n",
       "\n",
       "                                               29                        30  \\\n",
       "variable  store_region_Provence-Alpes-Côte D’Azur  store_region_Rhône-Alpes   \n",
       "coeff                                   0.0255361                 0.0299968   \n",
       "\n",
       "                            31                       32                    33  \\\n",
       "variable  store_segment_Bakery  store_segment_Beverages  store_segment_Buffet   \n",
       "coeff                -0.045892                0.0130359           -0.00285368   \n",
       "\n",
       "                             34                       35  \\\n",
       "variable  store_segment_Butcher  store_segment_Cafeteria   \n",
       "coeff                0.00204301                0.0210229   \n",
       "\n",
       "                             36                     37  \\\n",
       "variable  store_segment_Canteen  store_segment_Caterer   \n",
       "coeff                 0.0137738               0.018529   \n",
       "\n",
       "                                                      38  \\\n",
       "variable  store_segment_Fast Food / Take away restaurant   \n",
       "coeff                                          0.0438601   \n",
       "\n",
       "                               39                     40  \\\n",
       "variable  store_segment_Fish shop  store_segment_Florist   \n",
       "coeff                  0.00279876             0.00490691   \n",
       "\n",
       "                                               41                         42  \\\n",
       "variable  store_segment_Fruits & vegetables store  store_segment_Gas station   \n",
       "coeff                                 0.000753974                          0   \n",
       "\n",
       "                           43                          44  \\\n",
       "variable  store_segment_Hotel  store_segment_Manufacturer   \n",
       "coeff               0.0184966                -0.000283771   \n",
       "\n",
       "                                  45                   46  \\\n",
       "variable  store_segment_Market stall  store_segment_Other   \n",
       "coeff                     0.00099108            0.0406355   \n",
       "\n",
       "                                       47                    48  \\\n",
       "variable  store_segment_Other Specialists  store_segment_Pastry   \n",
       "coeff                           0.0188737             0.0227994   \n",
       "\n",
       "                                     49                                50  \\\n",
       "variable  store_segment_Supermarket Big  store_segment_Supermarket Medium   \n",
       "coeff                      -0.000646495                       -0.00255895   \n",
       "\n",
       "                                       51                   52  \n",
       "variable  store_segment_Supermarket Small  store_segment_Sushi  \n",
       "coeff                          -0.0417999          -0.00300685  "
      ]
     },
     "execution_count": 517,
     "metadata": {},
     "output_type": "execute_result"
    }
   ],
   "source": [
    "pd.DataFrame([(X.columns[i], EN_reg.coef_[i]) for i in range(53)]).T.rename(index = {0 : 'variable', 1 : 'coeff'})"
   ]
  },
  {
   "cell_type": "markdown",
   "metadata": {},
   "source": [
    "lifetime, no_target_hit, reduction, store_region_Aquitaine, store_region_Ile-De-France, store_region_Languedoc-Roussillon, \n",
    "store_region_Rhône-Alpes, store_segment_Fast Food / Take away restaurant, store_segment_Supermarket Small"
   ]
  },
  {
   "cell_type": "code",
   "execution_count": 518,
   "metadata": {},
   "outputs": [],
   "source": [
    "# On définit d'abord une fonction qui donne l'importance des variables vis à vis d'un certain modèle\n",
    "\n",
    "def feat_importance(model, x_train, y_train, X):\n",
    "    \"\"\"\n",
    "    Renvoie le tableau de l'importance des variables vis à vis du modèle par la méthode des permutations\n",
    "    \"\"\"\n",
    "\n",
    "    result = permutation_importance(\n",
    "                                    model, \n",
    "                                    X, \n",
    "                                    y, \n",
    "                                    n_repeats = 3,\n",
    "                                    random_state = 0\n",
    "                                    )['importances_mean']\n",
    "    \n",
    "    importance = pd.DataFrame(result, index = X.columns, columns = [\"Importance\"])\n",
    "    \n",
    "    return importance.sort_values(by = ['Importance'], ascending = False)"
   ]
  },
  {
   "cell_type": "code",
   "execution_count": 519,
   "metadata": {},
   "outputs": [],
   "source": [
    "# Création des essembles de tests et d'entrainement, on choisit une taile de test de 30% ici\n",
    "\n",
    "X = df1.drop(['proportion_of_target_hit'], axis = 1)\n",
    "x = np.array(X)\n",
    "y = np.array(df1['proportion_of_target_hit'])\n",
    "\n",
    "x_train, x_test, y_train, y_test = train_test_split(x, y, test_size = 0.3, random_state = 41)\n",
    "# random_state correspond à la graine générant l'échantillon aléatoire"
   ]
  },
  {
   "cell_type": "code",
   "execution_count": 520,
   "metadata": {},
   "outputs": [
    {
     "name": "stdout",
     "output_type": "stream",
     "text": [
      "Profondeur téstée :  1\n",
      "Profondeur téstée :  10\n",
      "Profondeur téstée :  13\n",
      "Profondeur téstée :  15\n",
      "Profondeur téstée :  17\n",
      "Profondeur téstée :  20\n",
      "Profondeur téstée :  25\n",
      "Profondeur téstée :  30\n"
     ]
    }
   ],
   "source": [
    "max_depth_ls = [1, 10, 13, 15, 17, 20, 25, 30] # profondeurs maximales des arbres de décision testées\n",
    "mse_train_max_depth = []\n",
    "mse_test_max_depth = []\n",
    "\n",
    "# Pour chaque profondeur max, on regresse avec random forest\n",
    "\n",
    "for m in max_depth_ls :\n",
    "    \n",
    "    print('Profondeur téstée : ', m)\n",
    "    \n",
    "    rf = RandomForestRegressor(\n",
    "                            max_depth = m, \n",
    "                            random_state=0,\n",
    "                            n_estimators = 30) # nombre d'arbres utilisés\n",
    "    \n",
    "    rf = rf.fit(x_train, y_train)\n",
    "    y_pred_train = rf.predict(x_train)\n",
    "    y_pred = rf.predict(x_test)\n",
    "    \n",
    "    mse_train_max_depth.append(mean_squared_error(y_train, y_pred_train))\n",
    "    mse_test_max_depth.append(mean_squared_error(y_test, y_pred))"
   ]
  },
  {
   "cell_type": "code",
   "execution_count": 521,
   "metadata": {},
   "outputs": [
    {
     "data": {
      "image/png": "[encoded data removed]",
      "text/plain": [
       "<Figure size 1296x576 with 1 Axes>"
      ]
     },
     "metadata": {
      "needs_background": "light"
     },
     "output_type": "display_data"
    }
   ],
   "source": [
    "# On affiche ensuite les performances de la regression sur les deux échantillon (train et test)\n",
    "\n",
    "fig, ax = plt.subplots(figsize = (18, 8))\n",
    "plt.plot(max_depth_ls, mse_train_max_depth, color = 'red', label = 'Train')\n",
    "plt.plot(max_depth_ls, mse_test_max_depth, color = 'blue', label = 'Test')\n",
    "plt.title('MSE en fonction de max_depth')\n",
    "plt.legend()\n",
    "plt.show()"
   ]
  },
  {
   "cell_type": "code",
   "execution_count": 522,
   "metadata": {},
   "outputs": [
    {
     "name": "stdout",
     "output_type": "stream",
     "text": [
      "Nombre d'arbres testés :  1\n",
      "Nombre d'arbres testés :  2\n",
      "Nombre d'arbres testés :  3\n",
      "Nombre d'arbres testés :  5\n",
      "Nombre d'arbres testés :  20\n",
      "Nombre d'arbres testés :  40\n",
      "Nombre d'arbres testés :  50\n",
      "Nombre d'arbres testés :  60\n",
      "Nombre d'arbres testés :  80\n"
     ]
    }
   ],
   "source": [
    "# On regarde maintenant l'effet du nombre d'arbre sur l'effet de la regression\n",
    "\n",
    "nb_estimators_ls = [1, 2, 3, 5, 20, 40, 50, 60, 80]\n",
    "mse_train_nb_estimators = []\n",
    "mse_test_nb_estimators = []\n",
    "\n",
    "for m in nb_estimators_ls :\n",
    "    print(\"Nombre d'arbres testés : \", m)\n",
    "    rf = RandomForestRegressor(max_depth = 10, \n",
    "                               random_state = 0,\n",
    "                                n_estimators = m)    \n",
    "    \n",
    "    rf = rf.fit(x_train, y_train)\n",
    "    y_pred_train = rf.predict(x_train)\n",
    "    y_pred = rf.predict(x_test)\n",
    "    \n",
    "    mse_train_nb_estimators.append(mean_squared_error(y_train, y_pred_train))\n",
    "    mse_test_nb_estimators.append(mean_squared_error(y_test, y_pred))\n",
    "\n"
   ]
  },
  {
   "cell_type": "code",
   "execution_count": 523,
   "metadata": {},
   "outputs": [
    {
     "data": {
      "image/png": "[encoded data removed]",
      "text/plain": [
       "<Figure size 1296x576 with 1 Axes>"
      ]
     },
     "metadata": {
      "needs_background": "light"
     },
     "output_type": "display_data"
    }
   ],
   "source": [
    "# On affiche ensuite les performances de la regression sur les deux échantillon (train et test)\n",
    "\n",
    "fig, ax = plt.subplots(figsize = (18, 8))\n",
    "plt.plot(nb_estimators_ls, mse_train_nb_estimators, color = 'red', label = 'Train')\n",
    "plt.plot(nb_estimators_ls, mse_test_nb_estimators, color = 'blue', label = 'Test')\n",
    "plt.title('MSE en fonction de n_estimators')\n",
    "plt.legend()\n",
    "plt.show()"
   ]
  },
  {
   "cell_type": "code",
   "execution_count": 524,
   "metadata": {},
   "outputs": [
    {
     "name": "stdout",
     "output_type": "stream",
     "text": [
      "min_samples_leaf testé :  1\n",
      "min_samples_leaf testé :  2\n",
      "min_samples_leaf testé :  3\n",
      "min_samples_leaf testé :  4\n",
      "min_samples_leaf testé :  10\n"
     ]
    }
   ],
   "source": [
    "# On fait varier le nombre minimum d'exemple requis pour créer une feuille/noeud\n",
    "\n",
    "samples_leaf_ls = [1, 2, 3, 4, 10]\n",
    "mse_train_samples_leaf = []\n",
    "mse_test_samples_leaf = []\n",
    "\n",
    "\n",
    "for m in samples_leaf_ls :\n",
    "    print('min_samples_leaf testé : ', m)\n",
    "    rf = RandomForestRegressor( max_depth = 10, \n",
    "                                min_samples_leaf = m,\n",
    "                                n_estimators = 40, \n",
    "                                random_state = 0\n",
    "                              )    \n",
    "    \n",
    "    rf = rf.fit(x_train, y_train)\n",
    "    y_pred_train = rf.predict(x_train)\n",
    "    y_pred = rf.predict(x_test)\n",
    "    \n",
    "    mse_train_samples_leaf.append(mean_squared_error(y_train, y_pred_train))\n",
    "    mse_test_samples_leaf.append(mean_squared_error(y_test, y_pred))"
   ]
  },
  {
   "cell_type": "code",
   "execution_count": 525,
   "metadata": {},
   "outputs": [
    {
     "data": {
      "image/png": "[encoded data removed]",
      "text/plain": [
       "<Figure size 1296x576 with 1 Axes>"
      ]
     },
     "metadata": {
      "needs_background": "light"
     },
     "output_type": "display_data"
    }
   ],
   "source": [
    "# On affiche ensuite les performances de la regression sur les deux échantillon (train et test)\n",
    "\n",
    "fig, ax = plt.subplots(figsize = (18, 8))\n",
    "plt.plot(samples_leaf_ls, mse_train_samples_leaf, color='red', label='Train')\n",
    "plt.plot(samples_leaf_ls, mse_test_samples_leaf, color='blue', label='Test')\n",
    "plt.title('MSE en fct de min samples leaf')\n",
    "plt.legend()\n",
    "plt.show()"
   ]
  },
  {
   "cell_type": "code",
   "execution_count": 526,
   "metadata": {},
   "outputs": [
    {
     "name": "stdout",
     "output_type": "stream",
     "text": [
      "Nombre de feuilles max testé :  2\n",
      "Nombre de feuilles max testé :  10\n",
      "Nombre de feuilles max testé :  100\n",
      "Nombre de feuilles max testé :  150\n",
      "Nombre de feuilles max testé :  200\n",
      "Nombre de feuilles max testé :  1000\n",
      "Nombre de feuilles max testé :  1500\n"
     ]
    }
   ],
   "source": [
    "max_leaf_ls = [2, 10, 100, 150, 200, 1000, 1500]\n",
    "mse_train_max_leaf = []\n",
    "mse_test_max_leaf = []\n",
    "\n",
    "\n",
    "\n",
    "for m in max_leaf_ls :\n",
    "    \n",
    "    print('Nombre de feuilles max testé : ', m)\n",
    "    rf = RandomForestRegressor(max_depth = 10, \n",
    "                               min_samples_leaf = 1, \n",
    "                               max_leaf_nodes = m,\n",
    "                               n_estimators = 40)   \n",
    "    \n",
    "    rf = rf.fit(x_train, y_train)\n",
    "    y_pred_train = rf.predict(x_train)\n",
    "    y_pred = rf.predict(x_test)\n",
    "    mse_train_max_leaf.append(mean_squared_error(y_train, y_pred_train))\n",
    "    mse_test_max_leaf.append(mean_squared_error(y_test, y_pred))"
   ]
  },
  {
   "cell_type": "code",
   "execution_count": 527,
   "metadata": {},
   "outputs": [
    {
     "data": {
      "image/png": "[encoded data removed]",
      "text/plain": [
       "<Figure size 1296x576 with 1 Axes>"
      ]
     },
     "metadata": {
      "needs_background": "light"
     },
     "output_type": "display_data"
    }
   ],
   "source": [
    "# On affiche ensuite les performances de la regression sur les deux échantillon (train et test)\n",
    "\n",
    "fig, ax = plt.subplots(figsize = (18, 8))\n",
    "plt.plot(max_leaf_ls, mse_train_max_leaf, color = 'red', label = 'Train')\n",
    "plt.plot(max_leaf_ls, mse_test_max_leaf, color = 'blue', label = 'Test')\n",
    "plt.title('MSE en fonction max_leaf_nodes')\n",
    "plt.legend()\n",
    "plt.show()"
   ]
  },
  {
   "cell_type": "code",
   "execution_count": 528,
   "metadata": {},
   "outputs": [
    {
     "name": "stdout",
     "output_type": "stream",
     "text": [
      "MSE train :  0.0058795885801739564\n",
      "MSE test :  0.020686904358122146\n",
      "MSE modèle nulle :  0.1605107010728511\n"
     ]
    }
   ],
   "source": [
    "# On a maintenant tous nos paramètres\n",
    "\n",
    "rf = RandomForestRegressor(\n",
    "                        max_depth = 15, \n",
    "                        min_samples_leaf = 1, \n",
    "                        max_leaf_nodes = 1000,\n",
    "                        n_estimators = 60\n",
    "                            )    \n",
    "\n",
    "rf = rf.fit(x_train, y_train)\n",
    "y_pred_train = rf.predict(x_train)\n",
    "y_pred = rf.predict(x_test)\n",
    "oo = np.zeros(y_pred.shape)\n",
    "\n",
    "print('MSE train : ', mean_squared_error(y_train, y_pred_train))\n",
    "print('MSE test : ', mean_squared_error(y_test, y_pred))\n",
    "print('MSE modèle nulle : ', mean_squared_error(y_test, oo))\n",
    "\n",
    "importance = feat_importance(rf, x_train, y_train, X)"
   ]
  },
  {
   "cell_type": "code",
   "execution_count": 529,
   "metadata": {},
   "outputs": [
    {
     "data": {
      "text/plain": [
       "<AxesSubplot:>"
      ]
     },
     "execution_count": 529,
     "metadata": {},
     "output_type": "execute_result"
    },
    {
     "data": {
      "image/png": "[encoded data removed]",
      "text/plain": [
       "<Figure size 1296x1008 with 1 Axes>"
      ]
     },
     "metadata": {
      "needs_background": "light"
     },
     "output_type": "display_data"
    }
   ],
   "source": [
    "importance.plot(kind = 'barh', figsize = (18, 14))"
   ]
  },
  {
   "cell_type": "code",
   "execution_count": 530,
   "metadata": {},
   "outputs": [],
   "source": [
    "# On définit les échantillons\n",
    "\n",
    "y = df1[['proportion_of_target_hit']]\n",
    "X = df1.drop(columns = ['proportion_of_target_hit'])"
   ]
  },
  {
   "cell_type": "code",
   "execution_count": 533,
   "metadata": {},
   "outputs": [],
   "source": [
    "# Construction de l'architecture du réseau\n",
    "\n",
    "model = Sequential()\n",
    "\n",
    "model.add(Dense(70, input_dim = 54, activation = 'relu'))\n",
    "\n",
    "model.add(Dense(12))\n",
    "model.add(Dense(13))\n",
    "model.add(Dense(15))\n",
    "model.add(Dense(5))\n",
    "model.add(Dense(1))\n",
    "\n",
    "model.compile(optimizer = 'adam', loss = 'mse')"
   ]
  },
  {
   "cell_type": "code",
   "execution_count": 534,
   "metadata": {},
   "outputs": [
    {
     "name": "stdout",
     "output_type": "stream",
     "text": [
      "Epoch 1/30\n",
      "448/448 [==============================] - 2s 2ms/step - loss: 0.0865 - val_loss: 0.0949\n",
      "Epoch 2/30\n",
      "448/448 [==============================] - 1s 3ms/step - loss: 0.0473 - val_loss: 0.1031\n",
      "Epoch 3/30\n",
      "448/448 [==============================] - 1s 3ms/step - loss: 0.0399 - val_loss: 0.0959\n",
      "Epoch 4/30\n",
      "448/448 [==============================] - 1s 2ms/step - loss: 0.0347 - val_loss: 0.0918\n",
      "Epoch 5/30\n",
      "448/448 [==============================] - 1s 3ms/step - loss: 0.0320 - val_loss: 0.0829\n",
      "Epoch 6/30\n",
      "448/448 [==============================] - 1s 3ms/step - loss: 0.0294 - val_loss: 0.0920\n",
      "Epoch 7/30\n",
      "448/448 [==============================] - 1s 2ms/step - loss: 0.0293 - val_loss: 0.0736\n",
      "Epoch 8/30\n",
      "448/448 [==============================] - 1s 2ms/step - loss: 0.0279 - val_loss: 0.0610\n",
      "Epoch 9/30\n",
      "448/448 [==============================] - 1s 2ms/step - loss: 0.0262 - val_loss: 0.0684\n",
      "Epoch 10/30\n",
      "448/448 [==============================] - 1s 2ms/step - loss: 0.0273 - val_loss: 0.0658\n",
      "Epoch 11/30\n",
      "448/448 [==============================] - 1s 2ms/step - loss: 0.0258 - val_loss: 0.0611\n",
      "Epoch 12/30\n",
      "448/448 [==============================] - 1s 2ms/step - loss: 0.0259 - val_loss: 0.0563\n",
      "Epoch 13/30\n",
      "448/448 [==============================] - 1s 2ms/step - loss: 0.0252 - val_loss: 0.0574\n",
      "Epoch 14/30\n",
      "448/448 [==============================] - 1s 2ms/step - loss: 0.0251 - val_loss: 0.0543\n",
      "Epoch 15/30\n",
      "448/448 [==============================] - 1s 2ms/step - loss: 0.0243 - val_loss: 0.0561\n",
      "Epoch 16/30\n",
      "448/448 [==============================] - 1s 2ms/step - loss: 0.0243 - val_loss: 0.0521\n",
      "Epoch 17/30\n",
      "448/448 [==============================] - 1s 2ms/step - loss: 0.0239 - val_loss: 0.0543\n",
      "Epoch 18/30\n",
      "448/448 [==============================] - 1s 2ms/step - loss: 0.0242 - val_loss: 0.0521\n",
      "Epoch 19/30\n",
      "448/448 [==============================] - 1s 2ms/step - loss: 0.0229 - val_loss: 0.0526\n",
      "Epoch 20/30\n",
      "448/448 [==============================] - 1s 2ms/step - loss: 0.0231 - val_loss: 0.0526\n",
      "Epoch 21/30\n",
      "448/448 [==============================] - 1s 2ms/step - loss: 0.0224 - val_loss: 0.0563\n",
      "Epoch 22/30\n",
      "448/448 [==============================] - 1s 2ms/step - loss: 0.0227 - val_loss: 0.0534\n",
      "Epoch 23/30\n",
      "448/448 [==============================] - 1s 2ms/step - loss: 0.0230 - val_loss: 0.0534\n",
      "Epoch 24/30\n",
      "448/448 [==============================] - 1s 2ms/step - loss: 0.0215 - val_loss: 0.0518\n",
      "Epoch 25/30\n",
      "448/448 [==============================] - 1s 2ms/step - loss: 0.0229 - val_loss: 0.0516\n",
      "Epoch 26/30\n",
      "448/448 [==============================] - 1s 2ms/step - loss: 0.0214 - val_loss: 0.0503\n",
      "Epoch 27/30\n",
      "448/448 [==============================] - 1s 2ms/step - loss: 0.0218 - val_loss: 0.0514\n",
      "Epoch 28/30\n",
      "448/448 [==============================] - 1s 2ms/step - loss: 0.0227 - val_loss: 0.0558\n",
      "Epoch 29/30\n",
      "448/448 [==============================] - 1s 2ms/step - loss: 0.0222 - val_loss: 0.0519\n",
      "Epoch 30/30\n",
      "448/448 [==============================] - 1s 2ms/step - loss: 0.0208 - val_loss: 0.0502\n"
     ]
    }
   ],
   "source": [
    "# Lancement de la phase d'apprentissage\n",
    "\n",
    "history = model.fit(X, y, validation_split = 0.2,  epochs = 30)"
   ]
  },
  {
   "cell_type": "code",
   "execution_count": 535,
   "metadata": {},
   "outputs": [
    {
     "data": {
      "image/png": "[encoded data removed]",
      "text/plain": [
       "<Figure size 1296x576 with 1 Axes>"
      ]
     },
     "metadata": {
      "needs_background": "light"
     },
     "output_type": "display_data"
    },
    {
     "data": {
      "image/png": "[encoded data removed]",
      "text/plain": [
       "<Figure size 1296x576 with 1 Axes>"
      ]
     },
     "metadata": {
      "needs_background": "light"
     },
     "output_type": "display_data"
    }
   ],
   "source": [
    "# On affiche l'évolution de la loss au fil des époques pour les échantillons train et test.\n",
    "\n",
    "fig, ax = plt.subplots(figsize = (18, 8))\n",
    "plt.plot(history.history['loss'])\n",
    "plt.title('Evolution de MSE sur X_train au fil des époques')\n",
    "plt.ylabel('mse')\n",
    "plt.legend(['train'], loc = 'upper left')\n",
    "plt.show()\n",
    "\n",
    "fig, ax = plt.subplots(figsize = (18, 8))\n",
    "plt.plot(history.history['val_loss'])\n",
    "plt.title('Evolution de MSE sur X_test au fil des époques')\n",
    "plt.ylabel('mse')\n",
    "plt.legend(['test'], loc = 'upper left')\n",
    "plt.show()"
   ]
  },
  {
   "cell_type": "code",
   "execution_count": 536,
   "metadata": {},
   "outputs": [],
   "source": [
    "perm = PermutationImportance(model, scoring = 'r2', random_state = 1).fit(X,y)"
   ]
  },
  {
   "cell_type": "code",
   "execution_count": 537,
   "metadata": {},
   "outputs": [
    {
     "data": {
      "text/html": [
       "\n",
       "    <style>\n",
       "    table.eli5-weights tr:hover {\n",
       "        filter: brightness(85%);\n",
       "    }\n",
       "</style>\n",
       "\n",
       "\n",
       "\n",
       "    \n",
       "\n",
       "    \n",
       "\n",
       "    \n",
       "\n",
       "    \n",
       "\n",
       "    \n",
       "\n",
       "    \n",
       "\n",
       "\n",
       "    \n",
       "\n",
       "    \n",
       "\n",
       "    \n",
       "\n",
       "    \n",
       "\n",
       "    \n",
       "\n",
       "    \n",
       "\n",
       "\n",
       "    \n",
       "\n",
       "    \n",
       "\n",
       "    \n",
       "\n",
       "    \n",
       "\n",
       "    \n",
       "        <table class=\"eli5-weights eli5-feature-importances\" style=\"border-collapse: collapse; border: none; margin-top: 0em; table-layout: auto;\">\n",
       "    <thead>\n",
       "    <tr style=\"border: none;\">\n",
       "        <th style=\"padding: 0 1em 0 0.5em; text-align: right; border: none;\">Weight</th>\n",
       "        <th style=\"padding: 0 0.5em 0 0.5em; text-align: left; border: none;\">Feature</th>\n",
       "    </tr>\n",
       "    </thead>\n",
       "    <tbody>\n",
       "    \n",
       "        <tr style=\"background-color: hsl(120, 100.00%, 80.00%); border: none;\">\n",
       "            <td style=\"padding: 0 1em 0 0.5em; text-align: right; border: none;\">\n",
       "                0.3966\n",
       "                \n",
       "                    &plusmn; 0.0076\n",
       "                \n",
       "            </td>\n",
       "            <td style=\"padding: 0 0.5em 0 0.5em; text-align: left; border: none;\">\n",
       "                no_consumer_cancellation\n",
       "            </td>\n",
       "        </tr>\n",
       "    \n",
       "        <tr style=\"background-color: hsl(120, 100.00%, 81.55%); border: none;\">\n",
       "            <td style=\"padding: 0 1em 0 0.5em; text-align: right; border: none;\">\n",
       "                0.3535\n",
       "                \n",
       "                    &plusmn; 0.0085\n",
       "                \n",
       "            </td>\n",
       "            <td style=\"padding: 0 0.5em 0 0.5em; text-align: left; border: none;\">\n",
       "                store_id\n",
       "            </td>\n",
       "        </tr>\n",
       "    \n",
       "        <tr style=\"background-color: hsl(120, 100.00%, 85.47%); border: none;\">\n",
       "            <td style=\"padding: 0 1em 0 0.5em; text-align: right; border: none;\">\n",
       "                0.2512\n",
       "                \n",
       "                    &plusmn; 0.0095\n",
       "                \n",
       "            </td>\n",
       "            <td style=\"padding: 0 0.5em 0 0.5em; text-align: left; border: none;\">\n",
       "                occurence\n",
       "            </td>\n",
       "        </tr>\n",
       "    \n",
       "        <tr style=\"background-color: hsl(120, 100.00%, 87.31%); border: none;\">\n",
       "            <td style=\"padding: 0 1em 0 0.5em; text-align: right; border: none;\">\n",
       "                0.2071\n",
       "                \n",
       "                    &plusmn; 0.0083\n",
       "                \n",
       "            </td>\n",
       "            <td style=\"padding: 0 0.5em 0 0.5em; text-align: left; border: none;\">\n",
       "                no_meals_refunded\n",
       "            </td>\n",
       "        </tr>\n",
       "    \n",
       "        <tr style=\"background-color: hsl(120, 100.00%, 91.78%); border: none;\">\n",
       "            <td style=\"padding: 0 1em 0 0.5em; text-align: right; border: none;\">\n",
       "                0.1114\n",
       "                \n",
       "                    &plusmn; 0.0050\n",
       "                \n",
       "            </td>\n",
       "            <td style=\"padding: 0 0.5em 0 0.5em; text-align: left; border: none;\">\n",
       "                store_region_Ile-De-France\n",
       "            </td>\n",
       "        </tr>\n",
       "    \n",
       "        <tr style=\"background-color: hsl(120, 100.00%, 94.76%); border: none;\">\n",
       "            <td style=\"padding: 0 1em 0 0.5em; text-align: right; border: none;\">\n",
       "                0.0586\n",
       "                \n",
       "                    &plusmn; 0.0047\n",
       "                \n",
       "            </td>\n",
       "            <td style=\"padding: 0 0.5em 0 0.5em; text-align: left; border: none;\">\n",
       "                no_store_cancellation\n",
       "            </td>\n",
       "        </tr>\n",
       "    \n",
       "        <tr style=\"background-color: hsl(120, 100.00%, 94.96%); border: none;\">\n",
       "            <td style=\"padding: 0 1em 0 0.5em; text-align: right; border: none;\">\n",
       "                0.0553\n",
       "                \n",
       "                    &plusmn; 0.0047\n",
       "                \n",
       "            </td>\n",
       "            <td style=\"padding: 0 0.5em 0 0.5em; text-align: left; border: none;\">\n",
       "                store_segment_Bakery\n",
       "            </td>\n",
       "        </tr>\n",
       "    \n",
       "        <tr style=\"background-color: hsl(120, 100.00%, 94.98%); border: none;\">\n",
       "            <td style=\"padding: 0 1em 0 0.5em; text-align: right; border: none;\">\n",
       "                0.0551\n",
       "                \n",
       "                    &plusmn; 0.0030\n",
       "                \n",
       "            </td>\n",
       "            <td style=\"padding: 0 0.5em 0 0.5em; text-align: left; border: none;\">\n",
       "                store_segment_Supermarket Small\n",
       "            </td>\n",
       "        </tr>\n",
       "    \n",
       "        <tr style=\"background-color: hsl(120, 100.00%, 95.07%); border: none;\">\n",
       "            <td style=\"padding: 0 1em 0 0.5em; text-align: right; border: none;\">\n",
       "                0.0537\n",
       "                \n",
       "                    &plusmn; 0.0027\n",
       "                \n",
       "            </td>\n",
       "            <td style=\"padding: 0 0.5em 0 0.5em; text-align: left; border: none;\">\n",
       "                store_region_Rhône-Alpes\n",
       "            </td>\n",
       "        </tr>\n",
       "    \n",
       "        <tr style=\"background-color: hsl(120, 100.00%, 95.63%); border: none;\">\n",
       "            <td style=\"padding: 0 1em 0 0.5em; text-align: right; border: none;\">\n",
       "                0.0452\n",
       "                \n",
       "                    &plusmn; 0.0034\n",
       "                \n",
       "            </td>\n",
       "            <td style=\"padding: 0 0.5em 0 0.5em; text-align: left; border: none;\">\n",
       "                store_region_Provence-Alpes-Côte D’Azur\n",
       "            </td>\n",
       "        </tr>\n",
       "    \n",
       "        <tr style=\"background-color: hsl(120, 100.00%, 96.58%); border: none;\">\n",
       "            <td style=\"padding: 0 1em 0 0.5em; text-align: right; border: none;\">\n",
       "                0.0318\n",
       "                \n",
       "                    &plusmn; 0.0031\n",
       "                \n",
       "            </td>\n",
       "            <td style=\"padding: 0 0.5em 0 0.5em; text-align: left; border: none;\">\n",
       "                store_region_Nord-Pas De Calais\n",
       "            </td>\n",
       "        </tr>\n",
       "    \n",
       "        <tr style=\"background-color: hsl(120, 100.00%, 96.94%); border: none;\">\n",
       "            <td style=\"padding: 0 1em 0 0.5em; text-align: right; border: none;\">\n",
       "                0.0272\n",
       "                \n",
       "                    &plusmn; 0.0036\n",
       "                \n",
       "            </td>\n",
       "            <td style=\"padding: 0 0.5em 0 0.5em; text-align: left; border: none;\">\n",
       "                store_region_Aquitaine\n",
       "            </td>\n",
       "        </tr>\n",
       "    \n",
       "        <tr style=\"background-color: hsl(120, 100.00%, 97.00%); border: none;\">\n",
       "            <td style=\"padding: 0 1em 0 0.5em; text-align: right; border: none;\">\n",
       "                0.0264\n",
       "                \n",
       "                    &plusmn; 0.0018\n",
       "                \n",
       "            </td>\n",
       "            <td style=\"padding: 0 0.5em 0 0.5em; text-align: left; border: none;\">\n",
       "                store_segment_Fast Food / Take away restaurant\n",
       "            </td>\n",
       "        </tr>\n",
       "    \n",
       "        <tr style=\"background-color: hsl(120, 100.00%, 97.43%); border: none;\">\n",
       "            <td style=\"padding: 0 1em 0 0.5em; text-align: right; border: none;\">\n",
       "                0.0212\n",
       "                \n",
       "                    &plusmn; 0.0014\n",
       "                \n",
       "            </td>\n",
       "            <td style=\"padding: 0 0.5em 0 0.5em; text-align: left; border: none;\">\n",
       "                store_segment_Supermarket Medium\n",
       "            </td>\n",
       "        </tr>\n",
       "    \n",
       "        <tr style=\"background-color: hsl(120, 100.00%, 97.56%); border: none;\">\n",
       "            <td style=\"padding: 0 1em 0 0.5em; text-align: right; border: none;\">\n",
       "                0.0197\n",
       "                \n",
       "                    &plusmn; 0.0018\n",
       "                \n",
       "            </td>\n",
       "            <td style=\"padding: 0 0.5em 0 0.5em; text-align: left; border: none;\">\n",
       "                store_region_Alsace\n",
       "            </td>\n",
       "        </tr>\n",
       "    \n",
       "        <tr style=\"background-color: hsl(120, 100.00%, 97.67%); border: none;\">\n",
       "            <td style=\"padding: 0 1em 0 0.5em; text-align: right; border: none;\">\n",
       "                0.0184\n",
       "                \n",
       "                    &plusmn; 0.0014\n",
       "                \n",
       "            </td>\n",
       "            <td style=\"padding: 0 0.5em 0 0.5em; text-align: left; border: none;\">\n",
       "                store_segment_Supermarket Big\n",
       "            </td>\n",
       "        </tr>\n",
       "    \n",
       "        <tr style=\"background-color: hsl(120, 100.00%, 97.72%); border: none;\">\n",
       "            <td style=\"padding: 0 1em 0 0.5em; text-align: right; border: none;\">\n",
       "                0.0178\n",
       "                \n",
       "                    &plusmn; 0.0015\n",
       "                \n",
       "            </td>\n",
       "            <td style=\"padding: 0 0.5em 0 0.5em; text-align: left; border: none;\">\n",
       "                store_region_Pays De La Loire\n",
       "            </td>\n",
       "        </tr>\n",
       "    \n",
       "        <tr style=\"background-color: hsl(120, 100.00%, 97.77%); border: none;\">\n",
       "            <td style=\"padding: 0 1em 0 0.5em; text-align: right; border: none;\">\n",
       "                0.0173\n",
       "                \n",
       "                    &plusmn; 0.0011\n",
       "                \n",
       "            </td>\n",
       "            <td style=\"padding: 0 0.5em 0 0.5em; text-align: left; border: none;\">\n",
       "                store_region_Midi-Pyrénées\n",
       "            </td>\n",
       "        </tr>\n",
       "    \n",
       "        <tr style=\"background-color: hsl(120, 100.00%, 97.81%); border: none;\">\n",
       "            <td style=\"padding: 0 1em 0 0.5em; text-align: right; border: none;\">\n",
       "                0.0168\n",
       "                \n",
       "                    &plusmn; 0.0015\n",
       "                \n",
       "            </td>\n",
       "            <td style=\"padding: 0 0.5em 0 0.5em; text-align: left; border: none;\">\n",
       "                parent_chain_id\n",
       "            </td>\n",
       "        </tr>\n",
       "    \n",
       "        <tr style=\"background-color: hsl(120, 100.00%, 97.90%); border: none;\">\n",
       "            <td style=\"padding: 0 1em 0 0.5em; text-align: right; border: none;\">\n",
       "                0.0158\n",
       "                \n",
       "                    &plusmn; 0.0014\n",
       "                \n",
       "            </td>\n",
       "            <td style=\"padding: 0 0.5em 0 0.5em; text-align: left; border: none;\">\n",
       "                store_region_Bretagne\n",
       "            </td>\n",
       "        </tr>\n",
       "    \n",
       "    \n",
       "        \n",
       "            <tr style=\"background-color: hsl(120, 100.00%, 97.90%); border: none;\">\n",
       "                <td colspan=\"2\" style=\"padding: 0 0.5em 0 0.5em; text-align: center; border: none; white-space: nowrap;\">\n",
       "                    <i>&hellip; 34 more &hellip;</i>\n",
       "                </td>\n",
       "            </tr>\n",
       "        \n",
       "    \n",
       "    </tbody>\n",
       "</table>\n",
       "    \n",
       "\n",
       "    \n",
       "\n",
       "\n",
       "    \n",
       "\n",
       "    \n",
       "\n",
       "    \n",
       "\n",
       "    \n",
       "\n",
       "    \n",
       "\n",
       "    \n",
       "\n",
       "\n",
       "\n"
      ],
      "text/plain": [
       "<IPython.core.display.HTML object>"
      ]
     },
     "execution_count": 537,
     "metadata": {},
     "output_type": "execute_result"
    }
   ],
   "source": [
    "eli5.show_weights(perm, feature_names = X.columns.tolist())"
   ]
  },
  {
   "cell_type": "code",
   "execution_count": 540,
   "metadata": {},
   "outputs": [],
   "source": [
    "import xgboost as xgb\n"
   ]
  },
  {
   "cell_type": "code",
   "execution_count": 581,
   "metadata": {},
   "outputs": [],
   "source": [
    "xg_reg = xgb.XGBRegressor(objective ='reg:linear', colsample_bytree = 0.3, learning_rate = 0.1,\n",
    "                max_depth = 10, alpha = 10, n_estimators = 40)"
   ]
  },
  {
   "cell_type": "code",
   "execution_count": 582,
   "metadata": {},
   "outputs": [],
   "source": [
    "y = df1[['proportion_of_target_hit']]\n",
    "X = df1.drop(columns = ['proportion_of_target_hit'])\n",
    "\n",
    "# On choisit un échantillon de validation de 20 %\n",
    "\n",
    "X_train, X_test, y_train, y_test = train_test_split(X,y,test_size = 0.2)"
   ]
  },
  {
   "cell_type": "code",
   "execution_count": 583,
   "metadata": {},
   "outputs": [
    {
     "name": "stdout",
     "output_type": "stream",
     "text": [
      "[21:47:23] WARNING: /Users/travis/build/dmlc/xgboost/src/objective/regression_obj.cu:170: reg:linear is now deprecated in favor of reg:squarederror.\n"
     ]
    }
   ],
   "source": [
    "xg_reg.fit(X_train,y_train)\n",
    "\n",
    "preds = xg_reg.predict(X_test)"
   ]
  },
  {
   "cell_type": "code",
   "execution_count": 584,
   "metadata": {},
   "outputs": [
    {
     "name": "stdout",
     "output_type": "stream",
     "text": [
      "RMSE: 0.161184\n"
     ]
    }
   ],
   "source": [
    "rmse = np.sqrt(mean_squared_error(y_test, preds))\n",
    "print(\"RMSE: %f\" % (rmse))"
   ]
  },
  {
   "cell_type": "code",
   "execution_count": 585,
   "metadata": {},
   "outputs": [
    {
     "data": {
      "text/plain": [
       "<AxesSubplot:>"
      ]
     },
     "execution_count": 585,
     "metadata": {},
     "output_type": "execute_result"
    },
    {
     "data": {
      "image/png": "[encoded data removed]",
      "text/plain": [
       "<Figure size 1296x1008 with 1 Axes>"
      ]
     },
     "metadata": {
      "needs_background": "light"
     },
     "output_type": "display_data"
    }
   ],
   "source": [
    "importance = feat_importance(xg_reg, x_train, y_train, X)\n",
    "importance.plot(kind = 'barh', figsize = (18, 14))"
   ]
  },
  {
   "cell_type": "code",
   "execution_count": null,
   "metadata": {},
   "outputs": [],
   "source": []
  },
  {
   "cell_type": "code",
   "execution_count": null,
   "metadata": {},
   "outputs": [],
   "source": []
  }
 ],
 "metadata": {
  "kernelspec": {
   "display_name": "Python 3",
   "language": "python",
   "name": "python3"
  },
  "language_info": {
   "codemirror_mode": {
    "name": "ipython",
    "version": 3
   },
   "file_extension": ".py",
   "mimetype": "text/x-python",
   "name": "python",
   "nbconvert_exporter": "python",
   "pygments_lexer": "ipython3",
   "version": "3.8.5"
  }
 },
 "nbformat": 4,
 "nbformat_minor": 4
}
