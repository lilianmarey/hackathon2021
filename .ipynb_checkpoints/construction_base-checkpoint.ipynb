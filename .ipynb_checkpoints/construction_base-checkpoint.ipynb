{
 "cells": [
  {
   "cell_type": "code",
   "execution_count": 341,
   "metadata": {},
   "outputs": [],
   "source": [
    "import pandas as pd\n",
    "import numpy as np\n",
    "\n",
    "# Visualisation\n",
    "import seaborn as sns\n",
    "import matplotlib.pyplot as plt\n",
    "import plotly.express as px\n",
    "import matplotlib.image as mpimg\n",
    "\n",
    "# Préparation des données\n",
    "from sklearn import preprocessing\n",
    "from sklearn.preprocessing import LabelEncoder\n",
    "from sklearn.preprocessing import OneHotEncoder\n",
    "from sklearn.model_selection import train_test_split\n",
    "\n",
    "# Modèles\n",
    "from sklearn.linear_model import LinearRegression\n",
    "import statsmodels.api as sm\n",
    "from sklearn.linear_model import ElasticNet\n",
    "from sklearn.ensemble import RandomForestRegressor\n",
    "import keras\n",
    "from keras.models import Sequential\n",
    "from keras.layers import Dense\n",
    "from keras.wrappers.scikit_learn import KerasRegressor\n",
    "import eli5\n",
    "from eli5.sklearn import PermutationImportance\n",
    "from sklearn.decomposition import PCA\n",
    "from sklearn.cluster import KMeans\n",
    "\n",
    "from sklearn.metrics import mean_squared_error\n",
    "from sklearn.inspection import permutation_importance\n",
    "\n",
    "# Option d'affchage\n",
    "pd.set_option('display.max_columns', None)"
   ]
  },
  {
   "cell_type": "code",
   "execution_count": 342,
   "metadata": {},
   "outputs": [
    {
     "name": "stderr",
     "output_type": "stream",
     "text": [
      "/Users/lilian/opt/anaconda3/lib/python3.8/site-packages/IPython/core/interactiveshell.py:3146: DtypeWarning:\n",
      "\n",
      "Columns (13,32) have mixed types.Specify dtype option on import or set low_memory=False.\n",
      "\n"
     ]
    }
   ],
   "source": [
    "df0 = pd.read_csv('/Users/lilian/Desktop/hackathon2021/data/train.csv')"
   ]
  },
  {
   "cell_type": "code",
   "execution_count": 343,
   "metadata": {},
   "outputs": [],
   "source": [
    "df = df0.copy()"
   ]
  },
  {
   "cell_type": "code",
   "execution_count": 344,
   "metadata": {},
   "outputs": [],
   "source": [
    "df = df[df['store_id'].isin(list(df['store_id'].sample(10)))].copy()"
   ]
  },
  {
   "cell_type": "code",
   "execution_count": 345,
   "metadata": {},
   "outputs": [
    {
     "data": {
      "text/plain": [
       "(3952, 34)"
      ]
     },
     "execution_count": 345,
     "metadata": {},
     "output_type": "execute_result"
    }
   ],
   "source": [
    "df.shape"
   ]
  },
  {
   "cell_type": "code",
   "execution_count": 346,
   "metadata": {},
   "outputs": [
    {
     "data": {
      "text/html": [
       "<div>\n",
       "<style scoped>\n",
       "    .dataframe tbody tr th:only-of-type {\n",
       "        vertical-align: middle;\n",
       "    }\n",
       "\n",
       "    .dataframe tbody tr th {\n",
       "        vertical-align: top;\n",
       "    }\n",
       "\n",
       "    .dataframe thead th {\n",
       "        text-align: right;\n",
       "    }\n",
       "</style>\n",
       "<table border=\"1\" class=\"dataframe\">\n",
       "  <thead>\n",
       "    <tr style=\"text-align: right;\">\n",
       "      <th></th>\n",
       "      <th>date</th>\n",
       "      <th>store_id</th>\n",
       "      <th>parent_chain_id</th>\n",
       "      <th>store_country</th>\n",
       "      <th>country_iso_code</th>\n",
       "      <th>region_id</th>\n",
       "      <th>store_region</th>\n",
       "      <th>store_segment</th>\n",
       "      <th>store_activity_name</th>\n",
       "      <th>items_first_enabled_date</th>\n",
       "      <th>store_first_saving_date</th>\n",
       "      <th>store_last_saving_date</th>\n",
       "      <th>item_id</th>\n",
       "      <th>item_name</th>\n",
       "      <th>before_price</th>\n",
       "      <th>currency_code</th>\n",
       "      <th>pickup_start</th>\n",
       "      <th>pickup_end</th>\n",
       "      <th>total_supply</th>\n",
       "      <th>declared_supply</th>\n",
       "      <th>manual_added_supply</th>\n",
       "      <th>manual_removed_supply</th>\n",
       "      <th>meals_saved</th>\n",
       "      <th>consumer_cancellation</th>\n",
       "      <th>store_cancellation</th>\n",
       "      <th>item_price</th>\n",
       "      <th>meals_refunded</th>\n",
       "      <th>rating_count</th>\n",
       "      <th>sum_rating_overall</th>\n",
       "      <th>item_view</th>\n",
       "      <th>no_unique_consumers</th>\n",
       "      <th>is_enabled</th>\n",
       "      <th>Département</th>\n",
       "      <th>target</th>\n",
       "    </tr>\n",
       "  </thead>\n",
       "  <tbody>\n",
       "    <tr>\n",
       "      <th>1179625</th>\n",
       "      <td>2019-05-26</td>\n",
       "      <td>28670</td>\n",
       "      <td>NaN</td>\n",
       "      <td>France</td>\n",
       "      <td>FR</td>\n",
       "      <td>FR10</td>\n",
       "      <td>Ile-De-France</td>\n",
       "      <td>Bakery</td>\n",
       "      <td>Unknown</td>\n",
       "      <td>2018-01-25</td>\n",
       "      <td>2018-01-25</td>\n",
       "      <td>2019-10-15</td>\n",
       "      <td>28833</td>\n",
       "      <td>NaN</td>\n",
       "      <td>12.0</td>\n",
       "      <td>EUR</td>\n",
       "      <td>2019-05-26 17:00:00.000000</td>\n",
       "      <td>2019-05-26 18:30:00.000000</td>\n",
       "      <td>2</td>\n",
       "      <td>2</td>\n",
       "      <td>0</td>\n",
       "      <td>0</td>\n",
       "      <td>2</td>\n",
       "      <td>0</td>\n",
       "      <td>0</td>\n",
       "      <td>4.0</td>\n",
       "      <td>0</td>\n",
       "      <td>0</td>\n",
       "      <td>0</td>\n",
       "      <td>0</td>\n",
       "      <td>2</td>\n",
       "      <td>True</td>\n",
       "      <td>75</td>\n",
       "      <td>0.0</td>\n",
       "    </tr>\n",
       "  </tbody>\n",
       "</table>\n",
       "</div>"
      ],
      "text/plain": [
       "               date  store_id  parent_chain_id store_country country_iso_code  \\\n",
       "1179625  2019-05-26     28670              NaN        France               FR   \n",
       "\n",
       "        region_id   store_region store_segment store_activity_name  \\\n",
       "1179625      FR10  Ile-De-France        Bakery             Unknown   \n",
       "\n",
       "        items_first_enabled_date store_first_saving_date  \\\n",
       "1179625               2018-01-25              2018-01-25   \n",
       "\n",
       "        store_last_saving_date  item_id item_name  before_price currency_code  \\\n",
       "1179625             2019-10-15    28833       NaN          12.0           EUR   \n",
       "\n",
       "                       pickup_start                  pickup_end  total_supply  \\\n",
       "1179625  2019-05-26 17:00:00.000000  2019-05-26 18:30:00.000000             2   \n",
       "\n",
       "         declared_supply  manual_added_supply  manual_removed_supply  \\\n",
       "1179625                2                    0                      0   \n",
       "\n",
       "         meals_saved  consumer_cancellation  store_cancellation  item_price  \\\n",
       "1179625            2                      0                   0         4.0   \n",
       "\n",
       "         meals_refunded  rating_count  sum_rating_overall  item_view  \\\n",
       "1179625               0             0                   0          0   \n",
       "\n",
       "         no_unique_consumers  is_enabled Département  target  \n",
       "1179625                    2        True          75     0.0  "
      ]
     },
     "execution_count": 346,
     "metadata": {},
     "output_type": "execute_result"
    }
   ],
   "source": [
    "df.sample()"
   ]
  },
  {
   "cell_type": "markdown",
   "metadata": {},
   "source": [
    "### Construction de variables intéressantes à partir des préexistantes"
   ]
  },
  {
   "cell_type": "code",
   "execution_count": 347,
   "metadata": {},
   "outputs": [],
   "source": [
    "# Note moyenne\n",
    "\n",
    "def compute_note(overall, count):\n",
    "    try:\n",
    "        overall / count\n",
    "    except:\n",
    "        return np.nan\n",
    "\n",
    "df['note_moyenne'] = df.apply(lambda row : compute_note(row.sum_rating_overall, row.rating_count) , axis = 1)"
   ]
  },
  {
   "cell_type": "code",
   "execution_count": 348,
   "metadata": {},
   "outputs": [],
   "source": [
    "# Lifetime\n",
    "\n",
    "col_date = ['date', 'items_first_enabled_date', 'store_last_saving_date', 'store_first_saving_date',\\\n",
    "            'pickup_start', 'pickup_end']\n",
    "for col in col_date :\n",
    "    df[col]= pd.to_datetime(df[col])\n",
    "\n",
    "df['lifetime'] = df['store_last_saving_date'] - df['store_first_saving_date']\n",
    "\n"
   ]
  },
  {
   "cell_type": "code",
   "execution_count": 349,
   "metadata": {},
   "outputs": [],
   "source": [
    "# Reduction\n",
    "\n",
    "df['reduction'] = 1 - df['item_price'] / df['before_price']"
   ]
  },
  {
   "cell_type": "code",
   "execution_count": 350,
   "metadata": {},
   "outputs": [],
   "source": [
    "# Temps d'ouverture\n",
    "\n",
    "df['temps_ouverture'] = df['pickup_end'] - df['pickup_start']"
   ]
  },
  {
   "cell_type": "code",
   "execution_count": 352,
   "metadata": {},
   "outputs": [],
   "source": [
    "# Heure de début d'ouverture\n",
    "\n",
    "df['heure_debut_ouverture'] = df.apply(lambda row : row.pickup_start.hour, axis = 1)\n"
   ]
  },
  {
   "cell_type": "code",
   "execution_count": 353,
   "metadata": {},
   "outputs": [],
   "source": [
    "# Efficacité\n",
    "\n",
    "df['efficacite'] = df['meals_saved'] / df['total_supply']"
   ]
  },
  {
   "cell_type": "code",
   "execution_count": 354,
   "metadata": {},
   "outputs": [],
   "source": [
    "# Franchise\n",
    "\n",
    "df['franchise'] = df.apply(lambda row : int(row.parent_chain_id > 0), axis = 1)"
   ]
  },
  {
   "cell_type": "markdown",
   "metadata": {},
   "source": [
    "### Création de nouvelles variables"
   ]
  },
  {
   "cell_type": "code",
   "execution_count": 355,
   "metadata": {},
   "outputs": [],
   "source": [
    "# Variance du nombre de vente pour un shop\n",
    "\n",
    "def compute_variance(date, store_id, variable):\n",
    "    \n",
    "    df_short = df[df['store_id'] == store_id]\n",
    "    df_short = df_short[df_short['date'] < date]\n",
    "    \n",
    "    \n",
    "    \n",
    "    return df_short[variable].var()\n",
    "\n",
    "df['variance_ventes'] = df.apply(lambda row : compute_variance(row.date, row.store_id, 'meals_saved'), axis = 1)"
   ]
  },
  {
   "cell_type": "code",
   "execution_count": null,
   "metadata": {},
   "outputs": [],
   "source": [
    "# Baisse du nombre de vente dans le mois précedent\n",
    "\n",
    "def compute_baisse_vente(date, store_id, variable):\n",
    "    df_short = df[df['store_id'] == store_id]\n",
    "    df_short = df_short[df_short['date'] < date]\n",
    "    serie = df_short[variable]\n",
    "    \n",
    "    try:\n",
    "        b = int(np.mean(serie[-30:]) / np.mean(serie[:-30]) < 1)\n",
    "        \n",
    "    except:\n",
    "        b = 0\n",
    "        \n",
    "    return b\n",
    "\n",
    "df['baisse_ventes'] = df.apply(lambda row : compute_baisse_vente(row.date, row.store_id, 'meals_saved'), axis = 1)"
   ]
  },
  {
   "cell_type": "code",
   "execution_count": null,
   "metadata": {},
   "outputs": [],
   "source": [
    "# Augmentation de la réduction durant la semaine précedente\n",
    "\n",
    "\n",
    "def compute_hausse_reduction(date, store_id, variable):\n",
    "    df_short = df[df['store_id'] == store_id]\n",
    "    df_short = df_short[df_short['date'] < date]\n",
    "    serie = df_short[variable]\n",
    "    \n",
    "    try:\n",
    "        b = int(np.mean(serie[-7:]) / np.mean(serie[:-7]) > 1)\n",
    "        if b:\n",
    "            print(ok)\n",
    "        \n",
    "    except:\n",
    "        \n",
    "        b = 0\n",
    "        \n",
    "    return b\n",
    "\n",
    "df['hausse_reduction'] = df.apply(lambda row : compute_hausse_reduction(row.date, row.store_id, 'reduction'), axis = 1)\n"
   ]
  },
  {
   "cell_type": "code",
   "execution_count": null,
   "metadata": {
    "scrolled": true
   },
   "outputs": [],
   "source": [
    "# Variance de la durée d'ouverture\n",
    "\n",
    "def compute_variance(date, store_id, variable):\n",
    "    \n",
    "    df_short = df[df['store_id'] == store_id]\n",
    "    #print(df_short.shape)\n",
    "    df_short = df_short[df_short['date'] < date]\n",
    "    display(df_short)\n",
    "    serie = df_short[variable]\n",
    "    #print(serie)\n",
    "    variance = np.var([(i.seconds / 3600) for i in serie])\n",
    "    \n",
    "    return variance\n",
    "\n",
    "#df['variance_duree_ouverture'] = df.apply(lambda row : compute_variance(row.date, row.store_id, 'temps_ouverture'), axis = 1)\n"
   ]
  },
  {
   "cell_type": "code",
   "execution_count": null,
   "metadata": {},
   "outputs": [],
   "source": [
    "# Baisse de la note moyenne durant la semaine précedente\n",
    "\n",
    "def compute_baisse_note(date, store_id, variable):\n",
    "    df_short = df[df['store_id'] == store_id]\n",
    "    df_short = df_short[df_short['date'] < date]\n",
    "    serie = df_short[variable]\n",
    "    \n",
    "    try:\n",
    "        b = np.mean(serie[-7:]) / np.mean(serie[:-7]) < 1\n",
    "        \n",
    "    except:\n",
    "        \n",
    "        b = 0\n",
    "        \n",
    "    return b\n",
    "\n",
    "df['baisse_note'] = df.apply(lambda row : compute_baisse_note(row.date, row.store_id, 'note_moyenne'), axis = 1)\n"
   ]
  },
  {
   "cell_type": "code",
   "execution_count": null,
   "metadata": {},
   "outputs": [],
   "source": [
    "# Augmentation du nombre d'invendus durant le mois précédent\n",
    "\n",
    "def compute_hausse_invendus(date, store_id, variable):\n",
    "    df_short = df[df['store_id'] == store_id]\n",
    "    df_short = df_short[df_short['date'] < date]\n",
    "    serie = df_short[variable]\n",
    "    \n",
    "    try:\n",
    "        b = np.mean(serie[-30:]) / np.mean(serie[:-30]) > 1\n",
    "        \n",
    "    except:\n",
    "        b = 0\n",
    "        \n",
    "    return b\n",
    "\n",
    "df['hausse_reduction'] = df.apply(lambda row : compute_hausse_reduction(row.date, row.store_id, 'reduction'), axis = 1)"
   ]
  },
  {
   "cell_type": "markdown",
   "metadata": {},
   "source": [
    "### Suppression des variables non intéressantes"
   ]
  },
  {
   "cell_type": "code",
   "execution_count": null,
   "metadata": {},
   "outputs": [],
   "source": [
    "df.columns"
   ]
  },
  {
   "cell_type": "code",
   "execution_count": null,
   "metadata": {},
   "outputs": [],
   "source": [
    "df = df.drop(columns = ['parent_chain_id', 'store_country', 'country_iso_code', 'region_id', 'store_activity_name', 'item_id', 'item_name', 'currency_code',\n",
    "                       'pickup_end', 'pickup_start', 'declared_supply', 'manual_removed_supply', 'store_cancellation', 'item_price',\n",
    "                       'meals_refunded', 'rating_count', 'sum_rating_overall', 'item_view', 'no_unique_consumers', 'is_enabled', 'Département', 'store_id'])\n",
    "df.sample(10)"
   ]
  },
  {
   "cell_type": "markdown",
   "metadata": {},
   "source": [
    "## Recodage de la variable objectif"
   ]
  }
 ],
 "metadata": {
  "kernelspec": {
   "display_name": "Python 3",
   "language": "python",
   "name": "python3"
  }
 },
 "nbformat": 4,
 "nbformat_minor": 4
}
